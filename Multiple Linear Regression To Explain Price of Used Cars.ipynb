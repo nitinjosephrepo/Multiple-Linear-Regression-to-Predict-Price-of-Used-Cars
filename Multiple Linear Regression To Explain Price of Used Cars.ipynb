{
 "cells": [
  {
   "cell_type": "markdown",
   "metadata": {},
   "source": [
    "# Multiple Linear Regression To Determine Factors of Importance & their Extent of Impact on Price of Used Cars \n",
    "\n",
    "Our objective is to identiy most significant variables that impact the price of a used car. Goal is to find out \n",
    "\n",
    "\n",
    "    - Which variables are significant in predicting the price of a car\n",
    "    - How well those variables describe the price of a used car\n",
    "   \n",
    "To help us with our descriptive goals of undersanding the signifiance of features and eliminate those dont meet the level of signifiance we will be using statsmodel.api and performing \n",
    "\n",
    "    1. RFE ( Recursive feature elimination)\n",
    "    2. VIF ( Variance Influence Factor)\n",
    "    3. Some Feature Engineering\n",
    "\n",
    "\n"
   ]
  },
  {
   "cell_type": "markdown",
   "metadata": {},
   "source": [
    "## Step 1 : Reading and Understanding the Data"
   ]
  },
  {
   "cell_type": "code",
   "execution_count": 1,
   "metadata": {},
   "outputs": [],
   "source": [
    "import pandas as pd\n",
    "import numpy as np \n",
    "import matplotlib.pyplot as plt\n",
    "from matplotlib import rcParams\n",
    "import seaborn as sns\n",
    "pd.options.display.float_format = '{:,.2f}'.format"
   ]
  },
  {
   "cell_type": "code",
   "execution_count": 2,
   "metadata": {},
   "outputs": [],
   "source": [
    "df = pd.read_csv('1.04.+Real-life+example.csv')"
   ]
  },
  {
   "cell_type": "code",
   "execution_count": 3,
   "metadata": {},
   "outputs": [
    {
     "data": {
      "text/html": [
       "<div>\n",
       "<style scoped>\n",
       "    .dataframe tbody tr th:only-of-type {\n",
       "        vertical-align: middle;\n",
       "    }\n",
       "\n",
       "    .dataframe tbody tr th {\n",
       "        vertical-align: top;\n",
       "    }\n",
       "\n",
       "    .dataframe thead th {\n",
       "        text-align: right;\n",
       "    }\n",
       "</style>\n",
       "<table border=\"1\" class=\"dataframe\">\n",
       "  <thead>\n",
       "    <tr style=\"text-align: right;\">\n",
       "      <th></th>\n",
       "      <th>Brand</th>\n",
       "      <th>Price</th>\n",
       "      <th>Body</th>\n",
       "      <th>Mileage</th>\n",
       "      <th>EngineV</th>\n",
       "      <th>Engine Type</th>\n",
       "      <th>Registration</th>\n",
       "      <th>Year</th>\n",
       "      <th>Model</th>\n",
       "    </tr>\n",
       "  </thead>\n",
       "  <tbody>\n",
       "    <tr>\n",
       "      <th>506</th>\n",
       "      <td>Audi</td>\n",
       "      <td>21,900.00</td>\n",
       "      <td>crossover</td>\n",
       "      <td>183</td>\n",
       "      <td>4.20</td>\n",
       "      <td>Petrol</td>\n",
       "      <td>yes</td>\n",
       "      <td>2007</td>\n",
       "      <td>Q7</td>\n",
       "    </tr>\n",
       "    <tr>\n",
       "      <th>307</th>\n",
       "      <td>Mitsubishi</td>\n",
       "      <td>6,200.00</td>\n",
       "      <td>sedan</td>\n",
       "      <td>152</td>\n",
       "      <td>1.60</td>\n",
       "      <td>Petrol</td>\n",
       "      <td>yes</td>\n",
       "      <td>2006</td>\n",
       "      <td>Lancer</td>\n",
       "    </tr>\n",
       "    <tr>\n",
       "      <th>1679</th>\n",
       "      <td>Audi</td>\n",
       "      <td>15,000.00</td>\n",
       "      <td>hatch</td>\n",
       "      <td>66</td>\n",
       "      <td>1.20</td>\n",
       "      <td>Petrol</td>\n",
       "      <td>yes</td>\n",
       "      <td>2011</td>\n",
       "      <td>A1</td>\n",
       "    </tr>\n",
       "    <tr>\n",
       "      <th>2079</th>\n",
       "      <td>BMW</td>\n",
       "      <td>39,600.00</td>\n",
       "      <td>crossover</td>\n",
       "      <td>98</td>\n",
       "      <td>3.00</td>\n",
       "      <td>Petrol</td>\n",
       "      <td>yes</td>\n",
       "      <td>2011</td>\n",
       "      <td>X6</td>\n",
       "    </tr>\n",
       "    <tr>\n",
       "      <th>580</th>\n",
       "      <td>Toyota</td>\n",
       "      <td>43,999.00</td>\n",
       "      <td>other</td>\n",
       "      <td>0</td>\n",
       "      <td>2.80</td>\n",
       "      <td>Diesel</td>\n",
       "      <td>yes</td>\n",
       "      <td>2016</td>\n",
       "      <td>Hilux</td>\n",
       "    </tr>\n",
       "    <tr>\n",
       "      <th>651</th>\n",
       "      <td>Mercedes-Benz</td>\n",
       "      <td>69,999.00</td>\n",
       "      <td>crossover</td>\n",
       "      <td>0</td>\n",
       "      <td>2.20</td>\n",
       "      <td>Diesel</td>\n",
       "      <td>yes</td>\n",
       "      <td>2016</td>\n",
       "      <td>GLE-Class</td>\n",
       "    </tr>\n",
       "    <tr>\n",
       "      <th>3840</th>\n",
       "      <td>Volkswagen</td>\n",
       "      <td>30,900.00</td>\n",
       "      <td>sedan</td>\n",
       "      <td>30</td>\n",
       "      <td>2.00</td>\n",
       "      <td>Diesel</td>\n",
       "      <td>yes</td>\n",
       "      <td>2014</td>\n",
       "      <td>Passat B7</td>\n",
       "    </tr>\n",
       "    <tr>\n",
       "      <th>578</th>\n",
       "      <td>Volkswagen</td>\n",
       "      <td>11,200.00</td>\n",
       "      <td>crossover</td>\n",
       "      <td>1</td>\n",
       "      <td>4.20</td>\n",
       "      <td>Petrol</td>\n",
       "      <td>yes</td>\n",
       "      <td>2004</td>\n",
       "      <td>Touareg</td>\n",
       "    </tr>\n",
       "    <tr>\n",
       "      <th>1724</th>\n",
       "      <td>Mitsubishi</td>\n",
       "      <td>33,000.00</td>\n",
       "      <td>other</td>\n",
       "      <td>0</td>\n",
       "      <td>2.40</td>\n",
       "      <td>Diesel</td>\n",
       "      <td>yes</td>\n",
       "      <td>2016</td>\n",
       "      <td>L 200</td>\n",
       "    </tr>\n",
       "    <tr>\n",
       "      <th>62</th>\n",
       "      <td>BMW</td>\n",
       "      <td>133,000.00</td>\n",
       "      <td>crossover</td>\n",
       "      <td>7</td>\n",
       "      <td>4.40</td>\n",
       "      <td>Petrol</td>\n",
       "      <td>yes</td>\n",
       "      <td>2015</td>\n",
       "      <td>X5 M</td>\n",
       "    </tr>\n",
       "    <tr>\n",
       "      <th>3221</th>\n",
       "      <td>Volkswagen</td>\n",
       "      <td>10,000.00</td>\n",
       "      <td>sedan</td>\n",
       "      <td>98</td>\n",
       "      <td>1.60</td>\n",
       "      <td>Petrol</td>\n",
       "      <td>yes</td>\n",
       "      <td>2013</td>\n",
       "      <td>Polo</td>\n",
       "    </tr>\n",
       "    <tr>\n",
       "      <th>3509</th>\n",
       "      <td>Volkswagen</td>\n",
       "      <td>18,900.00</td>\n",
       "      <td>hatch</td>\n",
       "      <td>56</td>\n",
       "      <td>2.00</td>\n",
       "      <td>Petrol</td>\n",
       "      <td>yes</td>\n",
       "      <td>2012</td>\n",
       "      <td>Golf GTI</td>\n",
       "    </tr>\n",
       "  </tbody>\n",
       "</table>\n",
       "</div>"
      ],
      "text/plain": [
       "              Brand      Price       Body  Mileage  EngineV Engine Type  \\\n",
       "506            Audi  21,900.00  crossover      183     4.20      Petrol   \n",
       "307      Mitsubishi   6,200.00      sedan      152     1.60      Petrol   \n",
       "1679           Audi  15,000.00      hatch       66     1.20      Petrol   \n",
       "2079            BMW  39,600.00  crossover       98     3.00      Petrol   \n",
       "580          Toyota  43,999.00      other        0     2.80      Diesel   \n",
       "651   Mercedes-Benz  69,999.00  crossover        0     2.20      Diesel   \n",
       "3840     Volkswagen  30,900.00      sedan       30     2.00      Diesel   \n",
       "578      Volkswagen  11,200.00  crossover        1     4.20      Petrol   \n",
       "1724     Mitsubishi  33,000.00      other        0     2.40      Diesel   \n",
       "62              BMW 133,000.00  crossover        7     4.40      Petrol   \n",
       "3221     Volkswagen  10,000.00      sedan       98     1.60      Petrol   \n",
       "3509     Volkswagen  18,900.00      hatch       56     2.00      Petrol   \n",
       "\n",
       "     Registration  Year      Model  \n",
       "506           yes  2007         Q7  \n",
       "307           yes  2006     Lancer  \n",
       "1679          yes  2011         A1  \n",
       "2079          yes  2011         X6  \n",
       "580           yes  2016      Hilux  \n",
       "651           yes  2016  GLE-Class  \n",
       "3840          yes  2014  Passat B7  \n",
       "578           yes  2004    Touareg  \n",
       "1724          yes  2016      L 200  \n",
       "62            yes  2015       X5 M  \n",
       "3221          yes  2013       Polo  \n",
       "3509          yes  2012   Golf GTI  "
      ]
     },
     "execution_count": 3,
     "metadata": {},
     "output_type": "execute_result"
    }
   ],
   "source": [
    "df.sample(12)"
   ]
  },
  {
   "cell_type": "code",
   "execution_count": 4,
   "metadata": {},
   "outputs": [
    {
     "data": {
      "text/plain": [
       "(4345, 9)"
      ]
     },
     "execution_count": 4,
     "metadata": {},
     "output_type": "execute_result"
    }
   ],
   "source": [
    "df.shape"
   ]
  },
  {
   "cell_type": "code",
   "execution_count": 5,
   "metadata": {},
   "outputs": [
    {
     "data": {
      "text/plain": [
       "Brand             0\n",
       "Price           172\n",
       "Body              0\n",
       "Mileage           0\n",
       "EngineV         150\n",
       "Engine Type       0\n",
       "Registration      0\n",
       "Year              0\n",
       "Model             0\n",
       "dtype: int64"
      ]
     },
     "execution_count": 5,
     "metadata": {},
     "output_type": "execute_result"
    }
   ],
   "source": [
    "df.isnull().sum()"
   ]
  },
  {
   "cell_type": "code",
   "execution_count": 6,
   "metadata": {},
   "outputs": [],
   "source": [
    "df_copy = df.copy()"
   ]
  },
  {
   "cell_type": "markdown",
   "metadata": {},
   "source": [
    "## Step 2: Cleaning the Data\n",
    "\n",
    "#### Drop Missing Rows"
   ]
  },
  {
   "cell_type": "code",
   "execution_count": 7,
   "metadata": {},
   "outputs": [],
   "source": [
    "df.dropna(axis = 0, inplace = True)"
   ]
  },
  {
   "cell_type": "code",
   "execution_count": 8,
   "metadata": {},
   "outputs": [
    {
     "data": {
      "text/plain": [
       "(4025, 9)"
      ]
     },
     "execution_count": 8,
     "metadata": {},
     "output_type": "execute_result"
    }
   ],
   "source": [
    "df.shape"
   ]
  },
  {
   "cell_type": "code",
   "execution_count": 9,
   "metadata": {},
   "outputs": [],
   "source": [
    "#Create a Copy of the Data\n",
    "\n",
    "df_drop = df"
   ]
  },
  {
   "cell_type": "markdown",
   "metadata": {},
   "source": [
    "## Step 3: Data Visualization"
   ]
  },
  {
   "cell_type": "markdown",
   "metadata": {},
   "source": [
    "#### Car By Brand Name"
   ]
  },
  {
   "cell_type": "code",
   "execution_count": 10,
   "metadata": {},
   "outputs": [
    {
     "data": {
      "text/plain": [
       "Volkswagen       880\n",
       "Mercedes-Benz    823\n",
       "BMW              640\n",
       "Toyota           510\n",
       "Renault          445\n",
       "Audi             420\n",
       "Mitsubishi       307\n",
       "Name: Brand, dtype: int64"
      ]
     },
     "execution_count": 10,
     "metadata": {},
     "output_type": "execute_result"
    }
   ],
   "source": [
    "df_drop['Brand'].value_counts()"
   ]
  },
  {
   "cell_type": "code",
   "execution_count": 11,
   "metadata": {},
   "outputs": [
    {
     "data": {
      "text/plain": [
       "Text(0, 0.5, 'Count of Cars')"
      ]
     },
     "execution_count": 11,
     "metadata": {},
     "output_type": "execute_result"
    },
    {
     "data": {
      "image/png": "[encoded data removed]",
      "text/plain": [
       "<Figure size 720x432 with 1 Axes>"
      ]
     },
     "metadata": {},
     "output_type": "display_data"
    }
   ],
   "source": [
    "sns.set()\n",
    "plt.rcParams['figure.figsize'] = [10,6]\n",
    "ax=df_drop['Brand'].value_counts().plot(kind='bar',stacked=True)\n",
    "ax.title.set_text('CarName')\n",
    "plt.xlabel(\"Car Brands \",fontweight = 'bold')\n",
    "plt.ylabel(\"Count of Cars\",fontweight = 'bold')\n"
   ]
  },
  {
   "cell_type": "markdown",
   "metadata": {},
   "source": [
    "#### Understanding Price"
   ]
  },
  {
   "cell_type": "code",
   "execution_count": 12,
   "metadata": {},
   "outputs": [
    {
     "data": {
      "text/plain": [
       "count     4,025.00\n",
       "mean     19,552.31\n",
       "std      25,815.73\n",
       "min         600.00\n",
       "25%       6,999.00\n",
       "50%      11,500.00\n",
       "75%      21,900.00\n",
       "max     300,000.00\n",
       "Name: Price, dtype: float64"
      ]
     },
     "execution_count": 12,
     "metadata": {},
     "output_type": "execute_result"
    }
   ],
   "source": [
    "df_drop['Price'].describe()"
   ]
  },
  {
   "cell_type": "code",
   "execution_count": 13,
   "metadata": {},
   "outputs": [
    {
     "data": {
      "text/plain": [
       "Engine Type\n",
       "Diesel   20,361.03\n",
       "Gas      12,314.56\n",
       "Other    14,103.35\n",
       "Petrol   21,829.44\n",
       "Name: Price, dtype: float64"
      ]
     },
     "execution_count": 13,
     "metadata": {},
     "output_type": "execute_result"
    }
   ],
   "source": [
    "df_drop.groupby('Engine Type')['Price'].mean() "
   ]
  },
  {
   "cell_type": "code",
   "execution_count": 14,
   "metadata": {},
   "outputs": [
    {
     "data": {
      "text/plain": [
       "Text(0.5, 0, 'Continuous Variable')"
      ]
     },
     "execution_count": 14,
     "metadata": {},
     "output_type": "execute_result"
    },
    {
     "data": {
      "image/png": "[encoded data removed]",
      "text/plain": [
       "<Figure size 576x576 with 1 Axes>"
      ]
     },
     "metadata": {},
     "output_type": "display_data"
    }
   ],
   "source": [
    "outliers = ['Price']\n",
    "plt.rcParams['figure.figsize'] = [8,8]\n",
    "sns.boxplot(data=df_drop[outliers], orient=\"v\", palette=\"Set1\" ,whis=1.5,saturation=1, width=0.7)\n",
    "plt.title(\"Outliers Variable Distribution\", fontsize = 14, fontweight = 'bold')\n",
    "plt.ylabel(\"Price Range\", fontweight = 'bold')\n",
    "plt.xlabel(\"Continuous Variable\", fontweight = 'bold')"
   ]
  },
  {
   "cell_type": "code",
   "execution_count": 15,
   "metadata": {},
   "outputs": [
    {
     "data": {
      "text/plain": [
       "<Figure size 1440x432 with 0 Axes>"
      ]
     },
     "metadata": {},
     "output_type": "display_data"
    },
    {
     "data": {
      "image/png": "[encoded data removed]",
      "text/plain": [
       "<Figure size 576x576 with 1 Axes>"
      ]
     },
     "metadata": {},
     "output_type": "display_data"
    }
   ],
   "source": [
    "plt.figure(figsize=(20, 6))\n",
    "df_drop.groupby('Brand')['Price'].mean()\n",
    "df_autox = pd.DataFrame(df_drop.groupby('Brand')['Price'].mean().sort_values(ascending = False))\n",
    "df_autox.plot.bar()\n",
    "plt.title('Car Company Name vs Average Price')\n",
    "plt.show()"
   ]
  },
  {
   "cell_type": "code",
   "execution_count": 16,
   "metadata": {
    "scrolled": true
   },
   "outputs": [
    {
     "data": {
      "text/plain": [
       "<Figure size 1440x432 with 0 Axes>"
      ]
     },
     "metadata": {},
     "output_type": "display_data"
    },
    {
     "data": {
      "image/png": "[encoded data removed]",
      "text/plain": [
       "<Figure size 576x576 with 1 Axes>"
      ]
     },
     "metadata": {},
     "output_type": "display_data"
    }
   ],
   "source": [
    "plt.figure(figsize=(20, 6))\n",
    "df_autox = pd.DataFrame(df_drop.groupby('Body')['Price'].mean().sort_values(ascending = False))\n",
    "df_autox.plot.bar()\n",
    "plt.title('Car Body vs Average Price')\n",
    "plt.show()"
   ]
  },
  {
   "cell_type": "code",
   "execution_count": 17,
   "metadata": {},
   "outputs": [
    {
     "data": {
      "text/html": [
       "<style type=\"text/css\">\n",
       "#T_f5ed2_row0_col0, #T_f5ed2_row2_col1, #T_f5ed2_row7_col1 {\n",
       "  background-color: #56a0ce;\n",
       "  color: #f1f1f1;\n",
       "}\n",
       "#T_f5ed2_row0_col1, #T_f5ed2_row29_col1 {\n",
       "  background-color: #0c56a0;\n",
       "  color: #f1f1f1;\n",
       "}\n",
       "#T_f5ed2_row0_col2, #T_f5ed2_row36_col3, #T_f5ed2_row36_col4 {\n",
       "  background-color: #b7d4ea;\n",
       "  color: #000000;\n",
       "}\n",
       "#T_f5ed2_row0_col3, #T_f5ed2_row0_col4 {\n",
       "  background-color: #d0e1f2;\n",
       "  color: #000000;\n",
       "}\n",
       "#T_f5ed2_row1_col0, #T_f5ed2_row12_col1, #T_f5ed2_row22_col1 {\n",
       "  background-color: #bfd8ed;\n",
       "  color: #000000;\n",
       "}\n",
       "#T_f5ed2_row1_col1, #T_f5ed2_row19_col1 {\n",
       "  background-color: #a0cbe2;\n",
       "  color: #000000;\n",
       "}\n",
       "#T_f5ed2_row1_col2, #T_f5ed2_row10_col0, #T_f5ed2_row32_col0, #T_f5ed2_row39_col1 {\n",
       "  background-color: #d5e5f4;\n",
       "  color: #000000;\n",
       "}\n",
       "#T_f5ed2_row1_col3, #T_f5ed2_row1_col4, #T_f5ed2_row12_col3, #T_f5ed2_row12_col4, #T_f5ed2_row15_col3, #T_f5ed2_row15_col4, #T_f5ed2_row18_col3, #T_f5ed2_row18_col4, #T_f5ed2_row21_col2, #T_f5ed2_row23_col3, #T_f5ed2_row23_col4 {\n",
       "  background-color: #eef5fc;\n",
       "  color: #000000;\n",
       "}\n",
       "#T_f5ed2_row2_col0 {\n",
       "  background-color: #95c5df;\n",
       "  color: #000000;\n",
       "}\n",
       "#T_f5ed2_row2_col2, #T_f5ed2_row14_col0 {\n",
       "  background-color: #b0d2e7;\n",
       "  color: #000000;\n",
       "}\n",
       "#T_f5ed2_row2_col3, #T_f5ed2_row2_col4, #T_f5ed2_row12_col2, #T_f5ed2_row27_col0, #T_f5ed2_row36_col0 {\n",
       "  background-color: #e7f0fa;\n",
       "  color: #000000;\n",
       "}\n",
       "#T_f5ed2_row3_col0 {\n",
       "  background-color: #d3e4f3;\n",
       "  color: #000000;\n",
       "}\n",
       "#T_f5ed2_row3_col1, #T_f5ed2_row5_col0, #T_f5ed2_row5_col2, #T_f5ed2_row5_col3, #T_f5ed2_row5_col4, #T_f5ed2_row32_col1 {\n",
       "  background-color: #f7fbff;\n",
       "  color: #000000;\n",
       "}\n",
       "#T_f5ed2_row3_col2 {\n",
       "  background-color: #b8d5ea;\n",
       "  color: #000000;\n",
       "}\n",
       "#T_f5ed2_row3_col3, #T_f5ed2_row3_col4 {\n",
       "  background-color: #5fa6d1;\n",
       "  color: #f1f1f1;\n",
       "}\n",
       "#T_f5ed2_row4_col0, #T_f5ed2_row33_col2, #T_f5ed2_row39_col0 {\n",
       "  background-color: #e3eef8;\n",
       "  color: #000000;\n",
       "}\n",
       "#T_f5ed2_row4_col1, #T_f5ed2_row8_col3, #T_f5ed2_row8_col4, #T_f5ed2_row15_col1, #T_f5ed2_row17_col2, #T_f5ed2_row38_col0, #T_f5ed2_row40_col0 {\n",
       "  background-color: #dae8f6;\n",
       "  color: #000000;\n",
       "}\n",
       "#T_f5ed2_row4_col2 {\n",
       "  background-color: #d0e2f2;\n",
       "  color: #000000;\n",
       "}\n",
       "#T_f5ed2_row4_col3, #T_f5ed2_row4_col4 {\n",
       "  background-color: #bdd7ec;\n",
       "  color: #000000;\n",
       "}\n",
       "#T_f5ed2_row5_col1 {\n",
       "  background-color: #79b5d9;\n",
       "  color: #000000;\n",
       "}\n",
       "#T_f5ed2_row6_col0 {\n",
       "  background-color: #4997c9;\n",
       "  color: #f1f1f1;\n",
       "}\n",
       "#T_f5ed2_row6_col1 {\n",
       "  background-color: #084285;\n",
       "  color: #f1f1f1;\n",
       "}\n",
       "#T_f5ed2_row6_col2 {\n",
       "  background-color: #7cb7da;\n",
       "  color: #000000;\n",
       "}\n",
       "#T_f5ed2_row6_col3, #T_f5ed2_row6_col4 {\n",
       "  background-color: #74b3d8;\n",
       "  color: #000000;\n",
       "}\n",
       "#T_f5ed2_row7_col0 {\n",
       "  background-color: #bed8ec;\n",
       "  color: #000000;\n",
       "}\n",
       "#T_f5ed2_row7_col2, #T_f5ed2_row17_col1, #T_f5ed2_row40_col1 {\n",
       "  background-color: #d6e6f4;\n",
       "  color: #000000;\n",
       "}\n",
       "#T_f5ed2_row7_col3, #T_f5ed2_row7_col4, #T_f5ed2_row22_col2, #T_f5ed2_row33_col3, #T_f5ed2_row33_col4 {\n",
       "  background-color: #f2f7fd;\n",
       "  color: #000000;\n",
       "}\n",
       "#T_f5ed2_row8_col0 {\n",
       "  background-color: #add0e6;\n",
       "  color: #000000;\n",
       "}\n",
       "#T_f5ed2_row8_col1 {\n",
       "  background-color: #91c3de;\n",
       "  color: #000000;\n",
       "}\n",
       "#T_f5ed2_row8_col2, #T_f5ed2_row31_col0 {\n",
       "  background-color: #aed1e7;\n",
       "  color: #000000;\n",
       "}\n",
       "#T_f5ed2_row9_col0, #T_f5ed2_row17_col0 {\n",
       "  background-color: #cfe1f2;\n",
       "  color: #000000;\n",
       "}\n",
       "#T_f5ed2_row9_col1, #T_f5ed2_row10_col2, #T_f5ed2_row18_col1, #T_f5ed2_row26_col3, #T_f5ed2_row26_col4, #T_f5ed2_row30_col3, #T_f5ed2_row30_col4 {\n",
       "  background-color: #d9e7f5;\n",
       "  color: #000000;\n",
       "}\n",
       "#T_f5ed2_row9_col2 {\n",
       "  background-color: #8abfdd;\n",
       "  color: #000000;\n",
       "}\n",
       "#T_f5ed2_row9_col3, #T_f5ed2_row9_col4, #T_f5ed2_row11_col0, #T_f5ed2_row13_col2, #T_f5ed2_row14_col2, #T_f5ed2_row23_col1 {\n",
       "  background-color: #08306b;\n",
       "  color: #f1f1f1;\n",
       "}\n",
       "#T_f5ed2_row10_col1, #T_f5ed2_row30_col1, #T_f5ed2_row40_col2 {\n",
       "  background-color: #cbdef1;\n",
       "  color: #000000;\n",
       "}\n",
       "#T_f5ed2_row10_col3, #T_f5ed2_row10_col4, #T_f5ed2_row20_col1 {\n",
       "  background-color: #e1edf8;\n",
       "  color: #000000;\n",
       "}\n",
       "#T_f5ed2_row11_col1 {\n",
       "  background-color: #4292c6;\n",
       "  color: #f1f1f1;\n",
       "}\n",
       "#T_f5ed2_row11_col2 {\n",
       "  background-color: #2474b7;\n",
       "  color: #f1f1f1;\n",
       "}\n",
       "#T_f5ed2_row11_col3, #T_f5ed2_row11_col4 {\n",
       "  background-color: #9ac8e0;\n",
       "  color: #000000;\n",
       "}\n",
       "#T_f5ed2_row12_col0, #T_f5ed2_row20_col2, #T_f5ed2_row36_col2 {\n",
       "  background-color: #e5eff9;\n",
       "  color: #000000;\n",
       "}\n",
       "#T_f5ed2_row13_col0 {\n",
       "  background-color: #77b5d9;\n",
       "  color: #000000;\n",
       "}\n",
       "#T_f5ed2_row13_col1 {\n",
       "  background-color: #b9d6ea;\n",
       "  color: #000000;\n",
       "}\n",
       "#T_f5ed2_row13_col3, #T_f5ed2_row13_col4 {\n",
       "  background-color: #a6cee4;\n",
       "  color: #000000;\n",
       "}\n",
       "#T_f5ed2_row14_col1, #T_f5ed2_row30_col0, #T_f5ed2_row36_col1, #T_f5ed2_row37_col1 {\n",
       "  background-color: #e0ecf8;\n",
       "  color: #000000;\n",
       "}\n",
       "#T_f5ed2_row14_col3, #T_f5ed2_row14_col4 {\n",
       "  background-color: #083370;\n",
       "  color: #f1f1f1;\n",
       "}\n",
       "#T_f5ed2_row15_col0, #T_f5ed2_row37_col2 {\n",
       "  background-color: #dfebf7;\n",
       "  color: #000000;\n",
       "}\n",
       "#T_f5ed2_row15_col2 {\n",
       "  background-color: #e7f1fa;\n",
       "  color: #000000;\n",
       "}\n",
       "#T_f5ed2_row16_col0, #T_f5ed2_row37_col3, #T_f5ed2_row37_col4 {\n",
       "  background-color: #c7dbef;\n",
       "  color: #000000;\n",
       "}\n",
       "#T_f5ed2_row16_col1, #T_f5ed2_row33_col1 {\n",
       "  background-color: #b3d3e8;\n",
       "  color: #000000;\n",
       "}\n",
       "#T_f5ed2_row16_col2, #T_f5ed2_row35_col1 {\n",
       "  background-color: #3888c1;\n",
       "  color: #f1f1f1;\n",
       "}\n",
       "#T_f5ed2_row16_col3, #T_f5ed2_row16_col4 {\n",
       "  background-color: #7fb9da;\n",
       "  color: #000000;\n",
       "}\n",
       "#T_f5ed2_row17_col3, #T_f5ed2_row17_col4 {\n",
       "  background-color: #a3cce3;\n",
       "  color: #000000;\n",
       "}\n",
       "#T_f5ed2_row18_col0 {\n",
       "  background-color: #f2f8fd;\n",
       "  color: #000000;\n",
       "}\n",
       "#T_f5ed2_row18_col2 {\n",
       "  background-color: #f3f8fe;\n",
       "  color: #000000;\n",
       "}\n",
       "#T_f5ed2_row19_col0 {\n",
       "  background-color: #dce9f6;\n",
       "  color: #000000;\n",
       "}\n",
       "#T_f5ed2_row19_col2, #T_f5ed2_row31_col3, #T_f5ed2_row31_col4 {\n",
       "  background-color: #e3eef9;\n",
       "  color: #000000;\n",
       "}\n",
       "#T_f5ed2_row19_col3, #T_f5ed2_row19_col4, #T_f5ed2_row23_col2 {\n",
       "  background-color: #ebf3fb;\n",
       "  color: #000000;\n",
       "}\n",
       "#T_f5ed2_row20_col0, #T_f5ed2_row21_col0, #T_f5ed2_row28_col0, #T_f5ed2_row28_col2 {\n",
       "  background-color: #e9f2fa;\n",
       "  color: #000000;\n",
       "}\n",
       "#T_f5ed2_row20_col3, #T_f5ed2_row20_col4 {\n",
       "  background-color: #abd0e6;\n",
       "  color: #000000;\n",
       "}\n",
       "#T_f5ed2_row21_col1 {\n",
       "  background-color: #d1e2f3;\n",
       "  color: #000000;\n",
       "}\n",
       "#T_f5ed2_row21_col3, #T_f5ed2_row21_col4, #T_f5ed2_row34_col3, #T_f5ed2_row34_col4 {\n",
       "  background-color: #f4f9fe;\n",
       "  color: #000000;\n",
       "}\n",
       "#T_f5ed2_row22_col0, #T_f5ed2_row24_col2, #T_f5ed2_row30_col2 {\n",
       "  background-color: #edf4fc;\n",
       "  color: #000000;\n",
       "}\n",
       "#T_f5ed2_row22_col3, #T_f5ed2_row22_col4 {\n",
       "  background-color: #f5f9fe;\n",
       "  color: #000000;\n",
       "}\n",
       "#T_f5ed2_row23_col0 {\n",
       "  background-color: #d6e5f4;\n",
       "  color: #000000;\n",
       "}\n",
       "#T_f5ed2_row24_col0 {\n",
       "  background-color: #eaf2fb;\n",
       "  color: #000000;\n",
       "}\n",
       "#T_f5ed2_row24_col1, #T_f5ed2_row24_col3, #T_f5ed2_row24_col4, #T_f5ed2_row39_col2 {\n",
       "  background-color: #e2edf8;\n",
       "  color: #000000;\n",
       "}\n",
       "#T_f5ed2_row25_col0, #T_f5ed2_row25_col3, #T_f5ed2_row25_col4 {\n",
       "  background-color: #e6f0f9;\n",
       "  color: #000000;\n",
       "}\n",
       "#T_f5ed2_row25_col1, #T_f5ed2_row27_col1 {\n",
       "  background-color: #d3e3f3;\n",
       "  color: #000000;\n",
       "}\n",
       "#T_f5ed2_row25_col2, #T_f5ed2_row27_col2 {\n",
       "  background-color: #eff6fc;\n",
       "  color: #000000;\n",
       "}\n",
       "#T_f5ed2_row26_col0 {\n",
       "  background-color: #eaf3fb;\n",
       "  color: #000000;\n",
       "}\n",
       "#T_f5ed2_row26_col1 {\n",
       "  background-color: #e8f1fa;\n",
       "  color: #000000;\n",
       "}\n",
       "#T_f5ed2_row26_col2 {\n",
       "  background-color: #ecf4fb;\n",
       "  color: #000000;\n",
       "}\n",
       "#T_f5ed2_row27_col3, #T_f5ed2_row27_col4, #T_f5ed2_row34_col0 {\n",
       "  background-color: #bad6eb;\n",
       "  color: #000000;\n",
       "}\n",
       "#T_f5ed2_row28_col1 {\n",
       "  background-color: #f0f6fd;\n",
       "  color: #000000;\n",
       "}\n",
       "#T_f5ed2_row28_col3, #T_f5ed2_row28_col4 {\n",
       "  background-color: #61a7d2;\n",
       "  color: #f1f1f1;\n",
       "}\n",
       "#T_f5ed2_row29_col0 {\n",
       "  background-color: #6fb0d7;\n",
       "  color: #f1f1f1;\n",
       "}\n",
       "#T_f5ed2_row29_col2 {\n",
       "  background-color: #3c8cc3;\n",
       "  color: #f1f1f1;\n",
       "}\n",
       "#T_f5ed2_row29_col3, #T_f5ed2_row29_col4 {\n",
       "  background-color: #539ecd;\n",
       "  color: #f1f1f1;\n",
       "}\n",
       "#T_f5ed2_row31_col1 {\n",
       "  background-color: #89bedc;\n",
       "  color: #000000;\n",
       "}\n",
       "#T_f5ed2_row31_col2 {\n",
       "  background-color: #cee0f2;\n",
       "  color: #000000;\n",
       "}\n",
       "#T_f5ed2_row32_col2, #T_f5ed2_row34_col1 {\n",
       "  background-color: #e4eff9;\n",
       "  color: #000000;\n",
       "}\n",
       "#T_f5ed2_row32_col3, #T_f5ed2_row32_col4 {\n",
       "  background-color: #63a8d3;\n",
       "  color: #f1f1f1;\n",
       "}\n",
       "#T_f5ed2_row33_col0 {\n",
       "  background-color: #d2e3f3;\n",
       "  color: #000000;\n",
       "}\n",
       "#T_f5ed2_row34_col2, #T_f5ed2_row35_col3, #T_f5ed2_row35_col4 {\n",
       "  background-color: #ccdff1;\n",
       "  color: #000000;\n",
       "}\n",
       "#T_f5ed2_row35_col0 {\n",
       "  background-color: #8fc2de;\n",
       "  color: #000000;\n",
       "}\n",
       "#T_f5ed2_row35_col2 {\n",
       "  background-color: #c8dcf0;\n",
       "  color: #000000;\n",
       "}\n",
       "#T_f5ed2_row37_col0, #T_f5ed2_row38_col1 {\n",
       "  background-color: #dceaf6;\n",
       "  color: #000000;\n",
       "}\n",
       "#T_f5ed2_row38_col2 {\n",
       "  background-color: #d9e8f5;\n",
       "  color: #000000;\n",
       "}\n",
       "#T_f5ed2_row38_col3, #T_f5ed2_row38_col4 {\n",
       "  background-color: #2e7ebc;\n",
       "  color: #f1f1f1;\n",
       "}\n",
       "#T_f5ed2_row39_col3, #T_f5ed2_row39_col4 {\n",
       "  background-color: #c6dbef;\n",
       "  color: #000000;\n",
       "}\n",
       "#T_f5ed2_row40_col3, #T_f5ed2_row40_col4 {\n",
       "  background-color: #2d7dbb;\n",
       "  color: #f1f1f1;\n",
       "}\n",
       "</style>\n",
       "<table id=\"T_f5ed2_\">\n",
       "  <thead>\n",
       "    <tr>\n",
       "      <th class=\"blank\" >&nbsp;</th>\n",
       "      <th class=\"blank level0\" >&nbsp;</th>\n",
       "      <th class=\"col_heading level0 col0\" colspan=\"5\">Price</th>\n",
       "    </tr>\n",
       "    <tr>\n",
       "      <th class=\"blank\" >&nbsp;</th>\n",
       "      <th class=\"blank level1\" >&nbsp;</th>\n",
       "      <th class=\"col_heading level1 col0\" >mean</th>\n",
       "      <th class=\"col_heading level1 col1\" >min</th>\n",
       "      <th class=\"col_heading level1 col2\" >max</th>\n",
       "      <th class=\"col_heading level1 col3\" >count</th>\n",
       "      <th class=\"col_heading level1 col4\" >size</th>\n",
       "    </tr>\n",
       "    <tr>\n",
       "      <th class=\"index_name level0\" >Brand</th>\n",
       "      <th class=\"index_name level1\" >Body</th>\n",
       "      <th class=\"blank col0\" >&nbsp;</th>\n",
       "      <th class=\"blank col1\" >&nbsp;</th>\n",
       "      <th class=\"blank col2\" >&nbsp;</th>\n",
       "      <th class=\"blank col3\" >&nbsp;</th>\n",
       "      <th class=\"blank col4\" >&nbsp;</th>\n",
       "    </tr>\n",
       "  </thead>\n",
       "  <tbody>\n",
       "    <tr>\n",
       "      <th id=\"T_f5ed2_level0_row0\" class=\"row_heading level0 row0\" rowspan=\"6\">Audi</th>\n",
       "      <th id=\"T_f5ed2_level1_row0\" class=\"row_heading level1 row0\" >crossover</th>\n",
       "      <td id=\"T_f5ed2_row0_col0\" class=\"data row0 col0\" >39127.440000</td>\n",
       "      <td id=\"T_f5ed2_row0_col1\" class=\"data row0 col1\" >4999.000000</td>\n",
       "      <td id=\"T_f5ed2_row0_col2\" class=\"data row0 col2\" >92222.000000</td>\n",
       "      <td id=\"T_f5ed2_row0_col3\" class=\"data row0 col3\" >73</td>\n",
       "      <td id=\"T_f5ed2_row0_col4\" class=\"data row0 col4\" >73</td>\n",
       "    </tr>\n",
       "    <tr>\n",
       "      <th id=\"T_f5ed2_level1_row1\" class=\"row_heading level1 row1\" >hatch</th>\n",
       "      <td id=\"T_f5ed2_row1_col0\" class=\"data row1 col0\" >20400.780000</td>\n",
       "      <td id=\"T_f5ed2_row1_col1\" class=\"data row1 col1\" >2500.000000</td>\n",
       "      <td id=\"T_f5ed2_row1_col2\" class=\"data row1 col2\" >55000.000000</td>\n",
       "      <td id=\"T_f5ed2_row1_col3\" class=\"data row1 col3\" >18</td>\n",
       "      <td id=\"T_f5ed2_row1_col4\" class=\"data row1 col4\" >18</td>\n",
       "    </tr>\n",
       "    <tr>\n",
       "      <th id=\"T_f5ed2_level1_row2\" class=\"row_heading level1 row2\" >other</th>\n",
       "      <td id=\"T_f5ed2_row2_col0\" class=\"data row2 col0\" >28276.290000</td>\n",
       "      <td id=\"T_f5ed2_row2_col1\" class=\"data row2 col1\" >3500.000000</td>\n",
       "      <td id=\"T_f5ed2_row2_col2\" class=\"data row2 col2\" >98000.000000</td>\n",
       "      <td id=\"T_f5ed2_row2_col3\" class=\"data row2 col3\" >31</td>\n",
       "      <td id=\"T_f5ed2_row2_col4\" class=\"data row2 col4\" >31</td>\n",
       "    </tr>\n",
       "    <tr>\n",
       "      <th id=\"T_f5ed2_level1_row3\" class=\"row_heading level1 row3\" >sedan</th>\n",
       "      <td id=\"T_f5ed2_row3_col0\" class=\"data row3 col0\" >14658.710000</td>\n",
       "      <td id=\"T_f5ed2_row3_col1\" class=\"data row3 col1\" >600.000000</td>\n",
       "      <td id=\"T_f5ed2_row3_col2\" class=\"data row3 col2\" >90999.000000</td>\n",
       "      <td id=\"T_f5ed2_row3_col3\" class=\"data row3 col3\" >195</td>\n",
       "      <td id=\"T_f5ed2_row3_col4\" class=\"data row3 col4\" >195</td>\n",
       "    </tr>\n",
       "    <tr>\n",
       "      <th id=\"T_f5ed2_level1_row4\" class=\"row_heading level1 row4\" >vagon</th>\n",
       "      <td id=\"T_f5ed2_row4_col0\" class=\"data row4 col0\" >9600.390000</td>\n",
       "      <td id=\"T_f5ed2_row4_col1\" class=\"data row4 col1\" >1350.000000</td>\n",
       "      <td id=\"T_f5ed2_row4_col2\" class=\"data row4 col2\" >62000.000000</td>\n",
       "      <td id=\"T_f5ed2_row4_col3\" class=\"data row4 col3\" >102</td>\n",
       "      <td id=\"T_f5ed2_row4_col4\" class=\"data row4 col4\" >102</td>\n",
       "    </tr>\n",
       "    <tr>\n",
       "      <th id=\"T_f5ed2_level1_row5\" class=\"row_heading level1 row5\" >van</th>\n",
       "      <td id=\"T_f5ed2_row5_col0\" class=\"data row5 col0\" >3000.000000</td>\n",
       "      <td id=\"T_f5ed2_row5_col1\" class=\"data row5 col1\" >3000.000000</td>\n",
       "      <td id=\"T_f5ed2_row5_col2\" class=\"data row5 col2\" >3000.000000</td>\n",
       "      <td id=\"T_f5ed2_row5_col3\" class=\"data row5 col3\" >1</td>\n",
       "      <td id=\"T_f5ed2_row5_col4\" class=\"data row5 col4\" >1</td>\n",
       "    </tr>\n",
       "    <tr>\n",
       "      <th id=\"T_f5ed2_level0_row6\" class=\"row_heading level0 row6\" rowspan=\"5\">BMW</th>\n",
       "      <th id=\"T_f5ed2_level1_row6\" class=\"row_heading level1 row6\" >crossover</th>\n",
       "      <td id=\"T_f5ed2_row6_col0\" class=\"data row6 col0\" >41602.590000</td>\n",
       "      <td id=\"T_f5ed2_row6_col1\" class=\"data row6 col1\" >5400.000000</td>\n",
       "      <td id=\"T_f5ed2_row6_col2\" class=\"data row6 col2\" >139000.000000</td>\n",
       "      <td id=\"T_f5ed2_row6_col3\" class=\"data row6 col3\" >173</td>\n",
       "      <td id=\"T_f5ed2_row6_col4\" class=\"data row6 col4\" >173</td>\n",
       "    </tr>\n",
       "    <tr>\n",
       "      <th id=\"T_f5ed2_level1_row7\" class=\"row_heading level1 row7\" >hatch</th>\n",
       "      <td id=\"T_f5ed2_row7_col0\" class=\"data row7 col0\" >20555.640000</td>\n",
       "      <td id=\"T_f5ed2_row7_col1\" class=\"data row7 col1\" >3500.000000</td>\n",
       "      <td id=\"T_f5ed2_row7_col2\" class=\"data row7 col2\" >52222.000000</td>\n",
       "      <td id=\"T_f5ed2_row7_col3\" class=\"data row7 col3\" >11</td>\n",
       "      <td id=\"T_f5ed2_row7_col4\" class=\"data row7 col4\" >11</td>\n",
       "    </tr>\n",
       "    <tr>\n",
       "      <th id=\"T_f5ed2_level1_row8\" class=\"row_heading level1 row8\" >other</th>\n",
       "      <td id=\"T_f5ed2_row8_col0\" class=\"data row8 col0\" >24197.460000</td>\n",
       "      <td id=\"T_f5ed2_row8_col1\" class=\"data row8 col1\" >2700.000000</td>\n",
       "      <td id=\"T_f5ed2_row8_col2\" class=\"data row8 col2\" >99999.000000</td>\n",
       "      <td id=\"T_f5ed2_row8_col3\" class=\"data row8 col3\" >54</td>\n",
       "      <td id=\"T_f5ed2_row8_col4\" class=\"data row8 col4\" >54</td>\n",
       "    </tr>\n",
       "    <tr>\n",
       "      <th id=\"T_f5ed2_level1_row9\" class=\"row_heading level1 row9\" >sedan</th>\n",
       "      <td id=\"T_f5ed2_row9_col0\" class=\"data row9 col0\" >16143.430000</td>\n",
       "      <td id=\"T_f5ed2_row9_col1\" class=\"data row9 col1\" >1400.000000</td>\n",
       "      <td id=\"T_f5ed2_row9_col2\" class=\"data row9 col2\" >129222.000000</td>\n",
       "      <td id=\"T_f5ed2_row9_col3\" class=\"data row9 col3\" >361</td>\n",
       "      <td id=\"T_f5ed2_row9_col4\" class=\"data row9 col4\" >361</td>\n",
       "    </tr>\n",
       "    <tr>\n",
       "      <th id=\"T_f5ed2_level1_row10\" class=\"row_heading level1 row10\" >vagon</th>\n",
       "      <td id=\"T_f5ed2_row10_col0\" class=\"data row10 col0\" >14074.020000</td>\n",
       "      <td id=\"T_f5ed2_row10_col1\" class=\"data row10 col1\" >1750.000000</td>\n",
       "      <td id=\"T_f5ed2_row10_col2\" class=\"data row10 col2\" >49000.000000</td>\n",
       "      <td id=\"T_f5ed2_row10_col3\" class=\"data row10 col3\" >41</td>\n",
       "      <td id=\"T_f5ed2_row10_col4\" class=\"data row10 col4\" >41</td>\n",
       "    </tr>\n",
       "    <tr>\n",
       "      <th id=\"T_f5ed2_level0_row11\" class=\"row_heading level0 row11\" rowspan=\"6\">Mercedes-Benz</th>\n",
       "      <th id=\"T_f5ed2_level1_row11\" class=\"row_heading level1 row11\" >crossover</th>\n",
       "      <td id=\"T_f5ed2_row11_col0\" class=\"data row11 col0\" >67016.760000</td>\n",
       "      <td id=\"T_f5ed2_row11_col1\" class=\"data row11 col1\" >3800.000000</td>\n",
       "      <td id=\"T_f5ed2_row11_col2\" class=\"data row11 col2\" >222000.000000</td>\n",
       "      <td id=\"T_f5ed2_row11_col3\" class=\"data row11 col3\" >140</td>\n",
       "      <td id=\"T_f5ed2_row11_col4\" class=\"data row11 col4\" >140</td>\n",
       "    </tr>\n",
       "    <tr>\n",
       "      <th id=\"T_f5ed2_level1_row12\" class=\"row_heading level1 row12\" >hatch</th>\n",
       "      <td id=\"T_f5ed2_row12_col0\" class=\"data row12 col0\" >8946.350000</td>\n",
       "      <td id=\"T_f5ed2_row12_col1\" class=\"data row12 col1\" >1990.000000</td>\n",
       "      <td id=\"T_f5ed2_row12_col2\" class=\"data row12 col2\" >28500.000000</td>\n",
       "      <td id=\"T_f5ed2_row12_col3\" class=\"data row12 col3\" >17</td>\n",
       "      <td id=\"T_f5ed2_row12_col4\" class=\"data row12 col4\" >17</td>\n",
       "    </tr>\n",
       "    <tr>\n",
       "      <th id=\"T_f5ed2_level1_row13\" class=\"row_heading level1 row13\" >other</th>\n",
       "      <td id=\"T_f5ed2_row13_col0\" class=\"data row13 col0\" >33147.660000</td>\n",
       "      <td id=\"T_f5ed2_row13_col1\" class=\"data row13 col1\" >2100.000000</td>\n",
       "      <td id=\"T_f5ed2_row13_col2\" class=\"data row13 col2\" >300000.000000</td>\n",
       "      <td id=\"T_f5ed2_row13_col3\" class=\"data row13 col3\" >127</td>\n",
       "      <td id=\"T_f5ed2_row13_col4\" class=\"data row13 col4\" >127</td>\n",
       "    </tr>\n",
       "    <tr>\n",
       "      <th id=\"T_f5ed2_level1_row14\" class=\"row_heading level1 row14\" >sedan</th>\n",
       "      <td id=\"T_f5ed2_row14_col0\" class=\"data row14 col0\" >23385.440000</td>\n",
       "      <td id=\"T_f5ed2_row14_col1\" class=\"data row14 col1\" >1200.000000</td>\n",
       "      <td id=\"T_f5ed2_row14_col2\" class=\"data row14 col2\" >300000.000000</td>\n",
       "      <td id=\"T_f5ed2_row14_col3\" class=\"data row14 col3\" >356</td>\n",
       "      <td id=\"T_f5ed2_row14_col4\" class=\"data row14 col4\" >356</td>\n",
       "    </tr>\n",
       "    <tr>\n",
       "      <th id=\"T_f5ed2_level1_row15\" class=\"row_heading level1 row15\" >vagon</th>\n",
       "      <td id=\"T_f5ed2_row15_col0\" class=\"data row15 col0\" >10815.260000</td>\n",
       "      <td id=\"T_f5ed2_row15_col1\" class=\"data row15 col1\" >1350.000000</td>\n",
       "      <td id=\"T_f5ed2_row15_col2\" class=\"data row15 col2\" >26800.000000</td>\n",
       "      <td id=\"T_f5ed2_row15_col3\" class=\"data row15 col3\" >19</td>\n",
       "      <td id=\"T_f5ed2_row15_col4\" class=\"data row15 col4\" >19</td>\n",
       "    </tr>\n",
       "    <tr>\n",
       "      <th id=\"T_f5ed2_level1_row16\" class=\"row_heading level1 row16\" >van</th>\n",
       "      <td id=\"T_f5ed2_row16_col0\" class=\"data row16 col0\" >18870.370000</td>\n",
       "      <td id=\"T_f5ed2_row16_col1\" class=\"data row16 col1\" >2199.000000</td>\n",
       "      <td id=\"T_f5ed2_row16_col2\" class=\"data row16 col2\" >200000.000000</td>\n",
       "      <td id=\"T_f5ed2_row16_col3\" class=\"data row16 col3\" >164</td>\n",
       "      <td id=\"T_f5ed2_row16_col4\" class=\"data row16 col4\" >164</td>\n",
       "    </tr>\n",
       "    <tr>\n",
       "      <th id=\"T_f5ed2_level0_row17\" class=\"row_heading level0 row17\" rowspan=\"6\">Mitsubishi</th>\n",
       "      <th id=\"T_f5ed2_level1_row17\" class=\"row_heading level1 row17\" >crossover</th>\n",
       "      <td id=\"T_f5ed2_row17_col0\" class=\"data row17 col0\" >16106.850000</td>\n",
       "      <td id=\"T_f5ed2_row17_col1\" class=\"data row17 col1\" >1450.000000</td>\n",
       "      <td id=\"T_f5ed2_row17_col2\" class=\"data row17 col2\" >46000.000000</td>\n",
       "      <td id=\"T_f5ed2_row17_col3\" class=\"data row17 col3\" >131</td>\n",
       "      <td id=\"T_f5ed2_row17_col4\" class=\"data row17 col4\" >131</td>\n",
       "    </tr>\n",
       "    <tr>\n",
       "      <th id=\"T_f5ed2_level1_row18\" class=\"row_heading level1 row18\" >hatch</th>\n",
       "      <td id=\"T_f5ed2_row18_col0\" class=\"data row18 col0\" >4618.620000</td>\n",
       "      <td id=\"T_f5ed2_row18_col1\" class=\"data row18 col1\" >1389.000000</td>\n",
       "      <td id=\"T_f5ed2_row18_col2\" class=\"data row18 col2\" >8900.000000</td>\n",
       "      <td id=\"T_f5ed2_row18_col3\" class=\"data row18 col3\" >18</td>\n",
       "      <td id=\"T_f5ed2_row18_col4\" class=\"data row18 col4\" >18</td>\n",
       "    </tr>\n",
       "    <tr>\n",
       "      <th id=\"T_f5ed2_level1_row19\" class=\"row_heading level1 row19\" >other</th>\n",
       "      <td id=\"T_f5ed2_row19_col0\" class=\"data row19 col0\" >11950.050000</td>\n",
       "      <td id=\"T_f5ed2_row19_col1\" class=\"data row19 col1\" >2500.000000</td>\n",
       "      <td id=\"T_f5ed2_row19_col2\" class=\"data row19 col2\" >33000.000000</td>\n",
       "      <td id=\"T_f5ed2_row19_col3\" class=\"data row19 col3\" >23</td>\n",
       "      <td id=\"T_f5ed2_row19_col4\" class=\"data row19 col4\" >23</td>\n",
       "    </tr>\n",
       "    <tr>\n",
       "      <th id=\"T_f5ed2_level1_row20\" class=\"row_heading level1 row20\" >sedan</th>\n",
       "      <td id=\"T_f5ed2_row20_col0\" class=\"data row20 col0\" >7712.790000</td>\n",
       "      <td id=\"T_f5ed2_row20_col1\" class=\"data row20 col1\" >1180.000000</td>\n",
       "      <td id=\"T_f5ed2_row20_col2\" class=\"data row20 col2\" >30500.000000</td>\n",
       "      <td id=\"T_f5ed2_row20_col3\" class=\"data row20 col3\" >121</td>\n",
       "      <td id=\"T_f5ed2_row20_col4\" class=\"data row20 col4\" >121</td>\n",
       "    </tr>\n",
       "    <tr>\n",
       "      <th id=\"T_f5ed2_level1_row21\" class=\"row_heading level1 row21\" >vagon</th>\n",
       "      <td id=\"T_f5ed2_row21_col0\" class=\"data row21 col0\" >7700.000000</td>\n",
       "      <td id=\"T_f5ed2_row21_col1\" class=\"data row21 col1\" >1600.000000</td>\n",
       "      <td id=\"T_f5ed2_row21_col2\" class=\"data row21 col2\" >16000.000000</td>\n",
       "      <td id=\"T_f5ed2_row21_col3\" class=\"data row21 col3\" >8</td>\n",
       "      <td id=\"T_f5ed2_row21_col4\" class=\"data row21 col4\" >8</td>\n",
       "    </tr>\n",
       "    <tr>\n",
       "      <th id=\"T_f5ed2_level1_row22\" class=\"row_heading level1 row22\" >van</th>\n",
       "      <td id=\"T_f5ed2_row22_col0\" class=\"data row22 col0\" >6333.000000</td>\n",
       "      <td id=\"T_f5ed2_row22_col1\" class=\"data row22 col1\" >1999.000000</td>\n",
       "      <td id=\"T_f5ed2_row22_col2\" class=\"data row22 col2\" >11499.000000</td>\n",
       "      <td id=\"T_f5ed2_row22_col3\" class=\"data row22 col3\" >6</td>\n",
       "      <td id=\"T_f5ed2_row22_col4\" class=\"data row22 col4\" >6</td>\n",
       "    </tr>\n",
       "    <tr>\n",
       "      <th id=\"T_f5ed2_level0_row23\" class=\"row_heading level0 row23\" rowspan=\"6\">Renault</th>\n",
       "      <th id=\"T_f5ed2_level1_row23\" class=\"row_heading level1 row23\" >crossover</th>\n",
       "      <td id=\"T_f5ed2_row23_col0\" class=\"data row23 col0\" >13847.020000</td>\n",
       "      <td id=\"T_f5ed2_row23_col1\" class=\"data row23 col1\" >5750.000000</td>\n",
       "      <td id=\"T_f5ed2_row23_col2\" class=\"data row23 col2\" >20996.240000</td>\n",
       "      <td id=\"T_f5ed2_row23_col3\" class=\"data row23 col3\" >19</td>\n",
       "      <td id=\"T_f5ed2_row23_col4\" class=\"data row23 col4\" >19</td>\n",
       "    </tr>\n",
       "    <tr>\n",
       "      <th id=\"T_f5ed2_level1_row24\" class=\"row_heading level1 row24\" >hatch</th>\n",
       "      <td id=\"T_f5ed2_row24_col0\" class=\"data row24 col0\" >7485.430000</td>\n",
       "      <td id=\"T_f5ed2_row24_col1\" class=\"data row24 col1\" >1150.000000</td>\n",
       "      <td id=\"T_f5ed2_row24_col2\" class=\"data row24 col2\" >18932.550000</td>\n",
       "      <td id=\"T_f5ed2_row24_col3\" class=\"data row24 col3\" >40</td>\n",
       "      <td id=\"T_f5ed2_row24_col4\" class=\"data row24 col4\" >40</td>\n",
       "    </tr>\n",
       "    <tr>\n",
       "      <th id=\"T_f5ed2_level1_row25\" class=\"row_heading level1 row25\" >other</th>\n",
       "      <td id=\"T_f5ed2_row25_col0\" class=\"data row25 col0\" >8624.560000</td>\n",
       "      <td id=\"T_f5ed2_row25_col1\" class=\"data row25 col1\" >1550.000000</td>\n",
       "      <td id=\"T_f5ed2_row25_col2\" class=\"data row25 col2\" >15200.000000</td>\n",
       "      <td id=\"T_f5ed2_row25_col3\" class=\"data row25 col3\" >32</td>\n",
       "      <td id=\"T_f5ed2_row25_col4\" class=\"data row25 col4\" >32</td>\n",
       "    </tr>\n",
       "    <tr>\n",
       "      <th id=\"T_f5ed2_level1_row26\" class=\"row_heading level1 row26\" >sedan</th>\n",
       "      <td id=\"T_f5ed2_row26_col0\" class=\"data row26 col0\" >7137.160000</td>\n",
       "      <td id=\"T_f5ed2_row26_col1\" class=\"data row26 col1\" >999.000000</td>\n",
       "      <td id=\"T_f5ed2_row26_col2\" class=\"data row26 col2\" >20007.000000</td>\n",
       "      <td id=\"T_f5ed2_row26_col3\" class=\"data row26 col3\" >57</td>\n",
       "      <td id=\"T_f5ed2_row26_col4\" class=\"data row26 col4\" >57</td>\n",
       "    </tr>\n",
       "    <tr>\n",
       "      <th id=\"T_f5ed2_level1_row27\" class=\"row_heading level1 row27\" >vagon</th>\n",
       "      <td id=\"T_f5ed2_row27_col0\" class=\"data row27 col0\" >8459.220000</td>\n",
       "      <td id=\"T_f5ed2_row27_col1\" class=\"data row27 col1\" >1550.000000</td>\n",
       "      <td id=\"T_f5ed2_row27_col2\" class=\"data row27 col2\" >15635.100000</td>\n",
       "      <td id=\"T_f5ed2_row27_col3\" class=\"data row27 col3\" >105</td>\n",
       "      <td id=\"T_f5ed2_row27_col4\" class=\"data row27 col4\" >105</td>\n",
       "    </tr>\n",
       "    <tr>\n",
       "      <th id=\"T_f5ed2_level1_row28\" class=\"row_heading level1 row28\" >van</th>\n",
       "      <td id=\"T_f5ed2_row28_col0\" class=\"data row28 col0\" >7584.050000</td>\n",
       "      <td id=\"T_f5ed2_row28_col1\" class=\"data row28 col1\" >800.000000</td>\n",
       "      <td id=\"T_f5ed2_row28_col2\" class=\"data row28 col2\" >24193.650000</td>\n",
       "      <td id=\"T_f5ed2_row28_col3\" class=\"data row28 col3\" >192</td>\n",
       "      <td id=\"T_f5ed2_row28_col4\" class=\"data row28 col4\" >192</td>\n",
       "    </tr>\n",
       "    <tr>\n",
       "      <th id=\"T_f5ed2_level0_row29\" class=\"row_heading level0 row29\" rowspan=\"6\">Toyota</th>\n",
       "      <th id=\"T_f5ed2_level1_row29\" class=\"row_heading level1 row29\" >crossover</th>\n",
       "      <td id=\"T_f5ed2_row29_col0\" class=\"data row29 col0\" >34342.440000</td>\n",
       "      <td id=\"T_f5ed2_row29_col1\" class=\"data row29 col1\" >5000.000000</td>\n",
       "      <td id=\"T_f5ed2_row29_col2\" class=\"data row29 col2\" >195000.000000</td>\n",
       "      <td id=\"T_f5ed2_row29_col3\" class=\"data row29 col3\" >207</td>\n",
       "      <td id=\"T_f5ed2_row29_col4\" class=\"data row29 col4\" >207</td>\n",
       "    </tr>\n",
       "    <tr>\n",
       "      <th id=\"T_f5ed2_level1_row30\" class=\"row_heading level1 row30\" >hatch</th>\n",
       "      <td id=\"T_f5ed2_row30_col0\" class=\"data row30 col0\" >10324.540000</td>\n",
       "      <td id=\"T_f5ed2_row30_col1\" class=\"data row30 col1\" >1750.000000</td>\n",
       "      <td id=\"T_f5ed2_row30_col2\" class=\"data row30 col2\" >19200.000000</td>\n",
       "      <td id=\"T_f5ed2_row30_col3\" class=\"data row30 col3\" >56</td>\n",
       "      <td id=\"T_f5ed2_row30_col4\" class=\"data row30 col4\" >56</td>\n",
       "    </tr>\n",
       "    <tr>\n",
       "      <th id=\"T_f5ed2_level1_row31\" class=\"row_heading level1 row31\" >other</th>\n",
       "      <td id=\"T_f5ed2_row31_col0\" class=\"data row31 col0\" >23919.140000</td>\n",
       "      <td id=\"T_f5ed2_row31_col1\" class=\"data row31 col1\" >2800.000000</td>\n",
       "      <td id=\"T_f5ed2_row31_col2\" class=\"data row31 col2\" >65000.000000</td>\n",
       "      <td id=\"T_f5ed2_row31_col3\" class=\"data row31 col3\" >37</td>\n",
       "      <td id=\"T_f5ed2_row31_col4\" class=\"data row31 col4\" >37</td>\n",
       "    </tr>\n",
       "    <tr>\n",
       "      <th id=\"T_f5ed2_level1_row32\" class=\"row_heading level1 row32\" >sedan</th>\n",
       "      <td id=\"T_f5ed2_row32_col0\" class=\"data row32 col0\" >14153.770000</td>\n",
       "      <td id=\"T_f5ed2_row32_col1\" class=\"data row32 col1\" >600.000000</td>\n",
       "      <td id=\"T_f5ed2_row32_col2\" class=\"data row32 col2\" >32000.000000</td>\n",
       "      <td id=\"T_f5ed2_row32_col3\" class=\"data row32 col3\" >190</td>\n",
       "      <td id=\"T_f5ed2_row32_col4\" class=\"data row32 col4\" >190</td>\n",
       "    </tr>\n",
       "    <tr>\n",
       "      <th id=\"T_f5ed2_level1_row33\" class=\"row_heading level1 row33\" >vagon</th>\n",
       "      <td id=\"T_f5ed2_row33_col0\" class=\"data row33 col0\" >15147.940000</td>\n",
       "      <td id=\"T_f5ed2_row33_col1\" class=\"data row33 col1\" >2200.000000</td>\n",
       "      <td id=\"T_f5ed2_row33_col2\" class=\"data row33 col2\" >33333.000000</td>\n",
       "      <td id=\"T_f5ed2_row33_col3\" class=\"data row33 col3\" >12</td>\n",
       "      <td id=\"T_f5ed2_row33_col4\" class=\"data row33 col4\" >12</td>\n",
       "    </tr>\n",
       "    <tr>\n",
       "      <th id=\"T_f5ed2_level1_row34\" class=\"row_heading level1 row34\" >van</th>\n",
       "      <td id=\"T_f5ed2_row34_col0\" class=\"data row34 col0\" >21381.250000</td>\n",
       "      <td id=\"T_f5ed2_row34_col1\" class=\"data row34 col1\" >1100.000000</td>\n",
       "      <td id=\"T_f5ed2_row34_col2\" class=\"data row34 col2\" >68500.000000</td>\n",
       "      <td id=\"T_f5ed2_row34_col3\" class=\"data row34 col3\" >8</td>\n",
       "      <td id=\"T_f5ed2_row34_col4\" class=\"data row34 col4\" >8</td>\n",
       "    </tr>\n",
       "    <tr>\n",
       "      <th id=\"T_f5ed2_level0_row35\" class=\"row_heading level0 row35\" rowspan=\"6\">Volkswagen</th>\n",
       "      <th id=\"T_f5ed2_level1_row35\" class=\"row_heading level1 row35\" >crossover</th>\n",
       "      <td id=\"T_f5ed2_row35_col0\" class=\"data row35 col0\" >29348.070000</td>\n",
       "      <td id=\"T_f5ed2_row35_col1\" class=\"data row35 col1\" >4000.000000</td>\n",
       "      <td id=\"T_f5ed2_row35_col2\" class=\"data row35 col2\" >74500.000000</td>\n",
       "      <td id=\"T_f5ed2_row35_col3\" class=\"data row35 col3\" >81</td>\n",
       "      <td id=\"T_f5ed2_row35_col4\" class=\"data row35 col4\" >81</td>\n",
       "    </tr>\n",
       "    <tr>\n",
       "      <th id=\"T_f5ed2_level1_row36\" class=\"row_heading level1 row36\" >hatch</th>\n",
       "      <td id=\"T_f5ed2_row36_col0\" class=\"data row36 col0\" >8287.680000</td>\n",
       "      <td id=\"T_f5ed2_row36_col1\" class=\"data row36 col1\" >1199.000000</td>\n",
       "      <td id=\"T_f5ed2_row36_col2\" class=\"data row36 col2\" >29800.000000</td>\n",
       "      <td id=\"T_f5ed2_row36_col3\" class=\"data row36 col3\" >108</td>\n",
       "      <td id=\"T_f5ed2_row36_col4\" class=\"data row36 col4\" >108</td>\n",
       "    </tr>\n",
       "    <tr>\n",
       "      <th id=\"T_f5ed2_level1_row37\" class=\"row_heading level1 row37\" >other</th>\n",
       "      <td id=\"T_f5ed2_row37_col0\" class=\"data row37 col0\" >11667.400000</td>\n",
       "      <td id=\"T_f5ed2_row37_col1\" class=\"data row37 col1\" >1200.000000</td>\n",
       "      <td id=\"T_f5ed2_row37_col2\" class=\"data row37 col2\" >40000.000000</td>\n",
       "      <td id=\"T_f5ed2_row37_col3\" class=\"data row37 col3\" >90</td>\n",
       "      <td id=\"T_f5ed2_row37_col4\" class=\"data row37 col4\" >90</td>\n",
       "    </tr>\n",
       "    <tr>\n",
       "      <th id=\"T_f5ed2_level1_row38\" class=\"row_heading level1 row38\" >sedan</th>\n",
       "      <td id=\"T_f5ed2_row38_col0\" class=\"data row38 col0\" >12470.370000</td>\n",
       "      <td id=\"T_f5ed2_row38_col1\" class=\"data row38 col1\" >1296.750000</td>\n",
       "      <td id=\"T_f5ed2_row38_col2\" class=\"data row38 col2\" >47777.000000</td>\n",
       "      <td id=\"T_f5ed2_row38_col3\" class=\"data row38 col3\" >254</td>\n",
       "      <td id=\"T_f5ed2_row38_col4\" class=\"data row38 col4\" >254</td>\n",
       "    </tr>\n",
       "    <tr>\n",
       "      <th id=\"T_f5ed2_level1_row39\" class=\"row_heading level1 row39\" >vagon</th>\n",
       "      <td id=\"T_f5ed2_row39_col0\" class=\"data row39 col0\" >9571.270000</td>\n",
       "      <td id=\"T_f5ed2_row39_col1\" class=\"data row39 col1\" >1500.000000</td>\n",
       "      <td id=\"T_f5ed2_row39_col2\" class=\"data row39 col2\" >34899.140000</td>\n",
       "      <td id=\"T_f5ed2_row39_col3\" class=\"data row39 col3\" >92</td>\n",
       "      <td id=\"T_f5ed2_row39_col4\" class=\"data row39 col4\" >92</td>\n",
       "    </tr>\n",
       "    <tr>\n",
       "      <th id=\"T_f5ed2_level1_row40\" class=\"row_heading level1 row40\" >van</th>\n",
       "      <td id=\"T_f5ed2_row40_col0\" class=\"data row40 col0\" >12462.070000</td>\n",
       "      <td id=\"T_f5ed2_row40_col1\" class=\"data row40 col1\" >1450.000000</td>\n",
       "      <td id=\"T_f5ed2_row40_col2\" class=\"data row40 col2\" >69990.000000</td>\n",
       "      <td id=\"T_f5ed2_row40_col3\" class=\"data row40 col3\" >255</td>\n",
       "      <td id=\"T_f5ed2_row40_col4\" class=\"data row40 col4\" >255</td>\n",
       "    </tr>\n",
       "  </tbody>\n",
       "</table>\n"
      ],
      "text/plain": [
       "<pandas.io.formats.style.Styler at 0x7f9e75aeb310>"
      ]
     },
     "execution_count": 17,
     "metadata": {},
     "output_type": "execute_result"
    }
   ],
   "source": [
    "#Price by Body Type ( Crossovers are more expensive)\n",
    "\n",
    "agg_func_math = {\n",
    "    'Price':\n",
    "    ['mean','min', 'max','count','size']\n",
    "}\n",
    "\n",
    "brand_body = df_drop.groupby(['Brand','Body']).agg(agg_func_math).round(2)\n",
    "pd.DataFrame(brand_body).style.background_gradient(cmap='Blues')"
   ]
  },
  {
   "cell_type": "markdown",
   "metadata": {},
   "source": [
    "## Step 4: Dealing with Outliers "
   ]
  },
  {
   "cell_type": "code",
   "execution_count": 18,
   "metadata": {},
   "outputs": [
    {
     "data": {
      "text/plain": [
       "<AxesSubplot:xlabel='Mileage', ylabel='Count'>"
      ]
     },
     "execution_count": 18,
     "metadata": {},
     "output_type": "execute_result"
    },
    {
     "data": {
      "image/png": "[encoded data removed]",
      "text/plain": [
       "<Figure size 576x576 with 1 Axes>"
      ]
     },
     "metadata": {},
     "output_type": "display_data"
    }
   ],
   "source": [
    "sns.histplot(df_drop['Mileage'])"
   ]
  },
  {
   "cell_type": "code",
   "execution_count": 19,
   "metadata": {},
   "outputs": [],
   "source": [
    "#Trim top .1% values of Mileage and drop them\n",
    "\n",
    "q = df_drop['Mileage'].quantile(0.99)\n",
    "df_drop1 = df_drop[df_drop['Mileage']<q]"
   ]
  },
  {
   "cell_type": "code",
   "execution_count": 20,
   "metadata": {},
   "outputs": [
    {
     "data": {
      "text/plain": [
       "<AxesSubplot:xlabel='Mileage', ylabel='Count'>"
      ]
     },
     "execution_count": 20,
     "metadata": {},
     "output_type": "execute_result"
    },
    {
     "data": {
      "image/png": "[encoded data removed]",
      "text/plain": [
       "<Figure size 576x576 with 1 Axes>"
      ]
     },
     "metadata": {},
     "output_type": "display_data"
    }
   ],
   "source": [
    "sns.histplot(df_drop1['Mileage'])"
   ]
  },
  {
   "cell_type": "code",
   "execution_count": 21,
   "metadata": {},
   "outputs": [
    {
     "data": {
      "text/plain": [
       "<AxesSubplot:xlabel='EngineV', ylabel='Count'>"
      ]
     },
     "execution_count": 21,
     "metadata": {},
     "output_type": "execute_result"
    },
    {
     "data": {
      "image/png": "[encoded data removed]",
      "text/plain": [
       "<Figure size 576x576 with 1 Axes>"
      ]
     },
     "metadata": {},
     "output_type": "display_data"
    }
   ],
   "source": [
    "# Modern Cars dont have Engine volume > 6.5. Histogram shows that we have to deal with erroneous data\n",
    "\n",
    "sns.histplot(df_drop['EngineV'])"
   ]
  },
  {
   "cell_type": "code",
   "execution_count": 22,
   "metadata": {},
   "outputs": [],
   "source": [
    "#Drop All EngineV greater than 6.5\n",
    "\n",
    "df_drop2 = df_drop1[df_drop1['EngineV']<6.5]"
   ]
  },
  {
   "cell_type": "code",
   "execution_count": 23,
   "metadata": {},
   "outputs": [
    {
     "data": {
      "text/plain": [
       "<AxesSubplot:xlabel='EngineV', ylabel='Count'>"
      ]
     },
     "execution_count": 23,
     "metadata": {},
     "output_type": "execute_result"
    },
    {
     "data": {
      "image/png": "[encoded data removed]",
      "text/plain": [
       "<Figure size 576x576 with 1 Axes>"
      ]
     },
     "metadata": {},
     "output_type": "display_data"
    }
   ],
   "source": [
    "sns.histplot(df_drop2['EngineV'])"
   ]
  },
  {
   "cell_type": "code",
   "execution_count": 24,
   "metadata": {},
   "outputs": [
    {
     "data": {
      "text/plain": [
       "<AxesSubplot:xlabel='Year', ylabel='Count'>"
      ]
     },
     "execution_count": 24,
     "metadata": {},
     "output_type": "execute_result"
    },
    {
     "data": {
      "image/png": "[encoded data removed]",
      "text/plain": [
       "<Figure size 576x576 with 1 Axes>"
      ]
     },
     "metadata": {},
     "output_type": "display_data"
    }
   ],
   "source": [
    "#Drop All Years earlier than 1990\n",
    "sns.histplot(df_drop2['Year'])"
   ]
  },
  {
   "cell_type": "code",
   "execution_count": 25,
   "metadata": {},
   "outputs": [],
   "source": [
    "#There are very few cars between 1970 and 1980, and they can be dropped to get a distribution that is closer to normal\n",
    "q1 = df_drop2['Year'].quantile(0.01)\n",
    "df_drop3 = df_drop2[df_drop2['Year']>q1]"
   ]
  },
  {
   "cell_type": "code",
   "execution_count": 26,
   "metadata": {},
   "outputs": [
    {
     "data": {
      "text/plain": [
       "<AxesSubplot:xlabel='Year', ylabel='Count'>"
      ]
     },
     "execution_count": 26,
     "metadata": {},
     "output_type": "execute_result"
    },
    {
     "data": {
      "image/png": "[encoded data removed]",
      "text/plain": [
       "<Figure size 576x576 with 1 Axes>"
      ]
     },
     "metadata": {},
     "output_type": "display_data"
    }
   ],
   "source": [
    "sns.histplot(df_drop3['Year'])"
   ]
  },
  {
   "cell_type": "code",
   "execution_count": 27,
   "metadata": {},
   "outputs": [],
   "source": [
    "#After trimming and cleaning we rest dataframe index\n",
    "df_clean = df_drop3.reset_index(drop = True)"
   ]
  },
  {
   "cell_type": "code",
   "execution_count": 28,
   "metadata": {},
   "outputs": [
    {
     "data": {
      "text/plain": [
       "(3907, 9)"
      ]
     },
     "execution_count": 28,
     "metadata": {},
     "output_type": "execute_result"
    }
   ],
   "source": [
    "df_clean.shape"
   ]
  },
  {
   "cell_type": "code",
   "execution_count": 29,
   "metadata": {},
   "outputs": [],
   "source": [
    "df_clean['Price'] = df_clean['Price'].astype('int')\n",
    "df_clean_copy = df_clean.copy()"
   ]
  },
  {
   "cell_type": "markdown",
   "metadata": {},
   "source": [
    "## Step 5: Some Feature Engineering\n",
    "\n",
    "Before our data can be used for modeling all text values have to be converted into numerical values. Variable 'Model' which has more than 250+ Car models will require feature engineering, we are going to bin the various models into three categories \n",
    "1. Budget_Friendly\n",
    "2. Medium_Range\n",
    "3. High_End categories"
   ]
  },
  {
   "cell_type": "code",
   "execution_count": 30,
   "metadata": {},
   "outputs": [
    {
     "name": "stdout",
     "output_type": "stream",
     "text": [
      "Brand 7\n",
      "Price 877\n",
      "Body 6\n",
      "Mileage 376\n",
      "EngineV 57\n",
      "Engine Type 4\n",
      "Registration 2\n",
      "Year 29\n",
      "Model 295\n"
     ]
    }
   ],
   "source": [
    "# Lets Check on the number of models we have. \n",
    "\n",
    "for x in df_clean.columns:\n",
    "    print(x, len(df_clean[x].unique()))"
   ]
  },
  {
   "cell_type": "markdown",
   "metadata": {},
   "source": [
    "We have 295 Car Models"
   ]
  },
  {
   "cell_type": "code",
   "execution_count": 31,
   "metadata": {},
   "outputs": [],
   "source": [
    "# First we calculate mean of each model and then merge the t column that contains the mean back to our Dataframe\n",
    "\n",
    "t = df_clean_copy.groupby(['Model'])['Price'].mean()\n",
    "df_clean_copy = df_clean_copy.merge(t.reset_index(), how='left',on='Model')"
   ]
  },
  {
   "cell_type": "code",
   "execution_count": 32,
   "metadata": {},
   "outputs": [
    {
     "data": {
      "text/html": [
       "<div>\n",
       "<style scoped>\n",
       "    .dataframe tbody tr th:only-of-type {\n",
       "        vertical-align: middle;\n",
       "    }\n",
       "\n",
       "    .dataframe tbody tr th {\n",
       "        vertical-align: top;\n",
       "    }\n",
       "\n",
       "    .dataframe thead th {\n",
       "        text-align: right;\n",
       "    }\n",
       "</style>\n",
       "<table border=\"1\" class=\"dataframe\">\n",
       "  <thead>\n",
       "    <tr style=\"text-align: right;\">\n",
       "      <th></th>\n",
       "      <th>Brand</th>\n",
       "      <th>Price_x</th>\n",
       "      <th>Body</th>\n",
       "      <th>Mileage</th>\n",
       "      <th>EngineV</th>\n",
       "      <th>Engine Type</th>\n",
       "      <th>Registration</th>\n",
       "      <th>Year</th>\n",
       "      <th>Model</th>\n",
       "      <th>Price_y</th>\n",
       "    </tr>\n",
       "  </thead>\n",
       "  <tbody>\n",
       "    <tr>\n",
       "      <th>0</th>\n",
       "      <td>BMW</td>\n",
       "      <td>4200</td>\n",
       "      <td>sedan</td>\n",
       "      <td>277</td>\n",
       "      <td>2.00</td>\n",
       "      <td>Petrol</td>\n",
       "      <td>yes</td>\n",
       "      <td>1991</td>\n",
       "      <td>320</td>\n",
       "      <td>10,345.05</td>\n",
       "    </tr>\n",
       "    <tr>\n",
       "      <th>1</th>\n",
       "      <td>Mercedes-Benz</td>\n",
       "      <td>7900</td>\n",
       "      <td>van</td>\n",
       "      <td>427</td>\n",
       "      <td>2.90</td>\n",
       "      <td>Diesel</td>\n",
       "      <td>yes</td>\n",
       "      <td>1999</td>\n",
       "      <td>Sprinter 212</td>\n",
       "      <td>10,300.00</td>\n",
       "    </tr>\n",
       "    <tr>\n",
       "      <th>2</th>\n",
       "      <td>Mercedes-Benz</td>\n",
       "      <td>13300</td>\n",
       "      <td>sedan</td>\n",
       "      <td>358</td>\n",
       "      <td>5.00</td>\n",
       "      <td>Gas</td>\n",
       "      <td>yes</td>\n",
       "      <td>2003</td>\n",
       "      <td>S 500</td>\n",
       "      <td>50,568.15</td>\n",
       "    </tr>\n",
       "    <tr>\n",
       "      <th>3</th>\n",
       "      <td>Audi</td>\n",
       "      <td>23000</td>\n",
       "      <td>crossover</td>\n",
       "      <td>240</td>\n",
       "      <td>4.20</td>\n",
       "      <td>Petrol</td>\n",
       "      <td>yes</td>\n",
       "      <td>2007</td>\n",
       "      <td>Q7</td>\n",
       "      <td>38,904.14</td>\n",
       "    </tr>\n",
       "    <tr>\n",
       "      <th>4</th>\n",
       "      <td>Toyota</td>\n",
       "      <td>18300</td>\n",
       "      <td>crossover</td>\n",
       "      <td>120</td>\n",
       "      <td>2.00</td>\n",
       "      <td>Petrol</td>\n",
       "      <td>yes</td>\n",
       "      <td>2011</td>\n",
       "      <td>Rav 4</td>\n",
       "      <td>18,171.16</td>\n",
       "    </tr>\n",
       "  </tbody>\n",
       "</table>\n",
       "</div>"
      ],
      "text/plain": [
       "           Brand  Price_x       Body  Mileage  EngineV Engine Type  \\\n",
       "0            BMW     4200      sedan      277     2.00      Petrol   \n",
       "1  Mercedes-Benz     7900        van      427     2.90      Diesel   \n",
       "2  Mercedes-Benz    13300      sedan      358     5.00         Gas   \n",
       "3           Audi    23000  crossover      240     4.20      Petrol   \n",
       "4         Toyota    18300  crossover      120     2.00      Petrol   \n",
       "\n",
       "  Registration  Year         Model   Price_y  \n",
       "0          yes  1991           320 10,345.05  \n",
       "1          yes  1999  Sprinter 212 10,300.00  \n",
       "2          yes  2003         S 500 50,568.15  \n",
       "3          yes  2007            Q7 38,904.14  \n",
       "4          yes  2011         Rav 4 18,171.16  "
      ]
     },
     "execution_count": 32,
     "metadata": {},
     "output_type": "execute_result"
    }
   ],
   "source": [
    "#Price_y contains mean price by car model\n",
    "\n",
    "df_clean_copy.head()"
   ]
  },
  {
   "cell_type": "code",
   "execution_count": 33,
   "metadata": {},
   "outputs": [],
   "source": [
    "#Allocate 3 Bins\n",
    "bins = [0,20000,100000,300000]\n",
    "label =['Budget_Friendly','Medium_Range','High_End']"
   ]
  },
  {
   "cell_type": "code",
   "execution_count": 34,
   "metadata": {},
   "outputs": [],
   "source": [
    "# We Bin Car Models into 3 Category based on their mean price\n",
    "df_clean['Cars_Category'] = pd.cut(df_clean_copy['Price_y'],bins,right=False,labels=label)"
   ]
  },
  {
   "cell_type": "code",
   "execution_count": 35,
   "metadata": {},
   "outputs": [
    {
     "data": {
      "text/html": [
       "<div>\n",
       "<style scoped>\n",
       "    .dataframe tbody tr th:only-of-type {\n",
       "        vertical-align: middle;\n",
       "    }\n",
       "\n",
       "    .dataframe tbody tr th {\n",
       "        vertical-align: top;\n",
       "    }\n",
       "\n",
       "    .dataframe thead th {\n",
       "        text-align: right;\n",
       "    }\n",
       "</style>\n",
       "<table border=\"1\" class=\"dataframe\">\n",
       "  <thead>\n",
       "    <tr style=\"text-align: right;\">\n",
       "      <th></th>\n",
       "      <th>Brand</th>\n",
       "      <th>Price</th>\n",
       "      <th>Body</th>\n",
       "      <th>Mileage</th>\n",
       "      <th>EngineV</th>\n",
       "      <th>Engine Type</th>\n",
       "      <th>Registration</th>\n",
       "      <th>Year</th>\n",
       "      <th>Model</th>\n",
       "      <th>Cars_Category</th>\n",
       "    </tr>\n",
       "  </thead>\n",
       "  <tbody>\n",
       "    <tr>\n",
       "      <th>0</th>\n",
       "      <td>BMW</td>\n",
       "      <td>4200</td>\n",
       "      <td>sedan</td>\n",
       "      <td>277</td>\n",
       "      <td>2.00</td>\n",
       "      <td>Petrol</td>\n",
       "      <td>yes</td>\n",
       "      <td>1991</td>\n",
       "      <td>320</td>\n",
       "      <td>Budget_Friendly</td>\n",
       "    </tr>\n",
       "    <tr>\n",
       "      <th>1</th>\n",
       "      <td>Mercedes-Benz</td>\n",
       "      <td>7900</td>\n",
       "      <td>van</td>\n",
       "      <td>427</td>\n",
       "      <td>2.90</td>\n",
       "      <td>Diesel</td>\n",
       "      <td>yes</td>\n",
       "      <td>1999</td>\n",
       "      <td>Sprinter 212</td>\n",
       "      <td>Budget_Friendly</td>\n",
       "    </tr>\n",
       "    <tr>\n",
       "      <th>2</th>\n",
       "      <td>Mercedes-Benz</td>\n",
       "      <td>13300</td>\n",
       "      <td>sedan</td>\n",
       "      <td>358</td>\n",
       "      <td>5.00</td>\n",
       "      <td>Gas</td>\n",
       "      <td>yes</td>\n",
       "      <td>2003</td>\n",
       "      <td>S 500</td>\n",
       "      <td>Medium_Range</td>\n",
       "    </tr>\n",
       "    <tr>\n",
       "      <th>3</th>\n",
       "      <td>Audi</td>\n",
       "      <td>23000</td>\n",
       "      <td>crossover</td>\n",
       "      <td>240</td>\n",
       "      <td>4.20</td>\n",
       "      <td>Petrol</td>\n",
       "      <td>yes</td>\n",
       "      <td>2007</td>\n",
       "      <td>Q7</td>\n",
       "      <td>Medium_Range</td>\n",
       "    </tr>\n",
       "    <tr>\n",
       "      <th>4</th>\n",
       "      <td>Toyota</td>\n",
       "      <td>18300</td>\n",
       "      <td>crossover</td>\n",
       "      <td>120</td>\n",
       "      <td>2.00</td>\n",
       "      <td>Petrol</td>\n",
       "      <td>yes</td>\n",
       "      <td>2011</td>\n",
       "      <td>Rav 4</td>\n",
       "      <td>Budget_Friendly</td>\n",
       "    </tr>\n",
       "  </tbody>\n",
       "</table>\n",
       "</div>"
      ],
      "text/plain": [
       "           Brand  Price       Body  Mileage  EngineV Engine Type Registration  \\\n",
       "0            BMW   4200      sedan      277     2.00      Petrol          yes   \n",
       "1  Mercedes-Benz   7900        van      427     2.90      Diesel          yes   \n",
       "2  Mercedes-Benz  13300      sedan      358     5.00         Gas          yes   \n",
       "3           Audi  23000  crossover      240     4.20      Petrol          yes   \n",
       "4         Toyota  18300  crossover      120     2.00      Petrol          yes   \n",
       "\n",
       "   Year         Model    Cars_Category  \n",
       "0  1991           320  Budget_Friendly  \n",
       "1  1999  Sprinter 212  Budget_Friendly  \n",
       "2  2003         S 500     Medium_Range  \n",
       "3  2007            Q7     Medium_Range  \n",
       "4  2011         Rav 4  Budget_Friendly  "
      ]
     },
     "execution_count": 35,
     "metadata": {},
     "output_type": "execute_result"
    }
   ],
   "source": [
    "df_clean.head()"
   ]
  },
  {
   "cell_type": "code",
   "execution_count": 36,
   "metadata": {},
   "outputs": [],
   "source": [
    "df_clean_copy = df_clean"
   ]
  },
  {
   "cell_type": "code",
   "execution_count": 37,
   "metadata": {},
   "outputs": [],
   "source": [
    "# We Drop Model Column since we have captured that in Cars_Category\n",
    "df_cleaned = df_clean.drop('Model', axis=1)"
   ]
  },
  {
   "cell_type": "code",
   "execution_count": 38,
   "metadata": {},
   "outputs": [
    {
     "data": {
      "text/html": [
       "<div>\n",
       "<style scoped>\n",
       "    .dataframe tbody tr th:only-of-type {\n",
       "        vertical-align: middle;\n",
       "    }\n",
       "\n",
       "    .dataframe tbody tr th {\n",
       "        vertical-align: top;\n",
       "    }\n",
       "\n",
       "    .dataframe thead th {\n",
       "        text-align: right;\n",
       "    }\n",
       "</style>\n",
       "<table border=\"1\" class=\"dataframe\">\n",
       "  <thead>\n",
       "    <tr style=\"text-align: right;\">\n",
       "      <th></th>\n",
       "      <th>Brand</th>\n",
       "      <th>Price</th>\n",
       "      <th>Body</th>\n",
       "      <th>Mileage</th>\n",
       "      <th>EngineV</th>\n",
       "      <th>Engine Type</th>\n",
       "      <th>Registration</th>\n",
       "      <th>Year</th>\n",
       "      <th>Cars_Category</th>\n",
       "    </tr>\n",
       "  </thead>\n",
       "  <tbody>\n",
       "    <tr>\n",
       "      <th>0</th>\n",
       "      <td>BMW</td>\n",
       "      <td>4200</td>\n",
       "      <td>sedan</td>\n",
       "      <td>277</td>\n",
       "      <td>2.00</td>\n",
       "      <td>Petrol</td>\n",
       "      <td>yes</td>\n",
       "      <td>1991</td>\n",
       "      <td>Budget_Friendly</td>\n",
       "    </tr>\n",
       "    <tr>\n",
       "      <th>1</th>\n",
       "      <td>Mercedes-Benz</td>\n",
       "      <td>7900</td>\n",
       "      <td>van</td>\n",
       "      <td>427</td>\n",
       "      <td>2.90</td>\n",
       "      <td>Diesel</td>\n",
       "      <td>yes</td>\n",
       "      <td>1999</td>\n",
       "      <td>Budget_Friendly</td>\n",
       "    </tr>\n",
       "    <tr>\n",
       "      <th>2</th>\n",
       "      <td>Mercedes-Benz</td>\n",
       "      <td>13300</td>\n",
       "      <td>sedan</td>\n",
       "      <td>358</td>\n",
       "      <td>5.00</td>\n",
       "      <td>Gas</td>\n",
       "      <td>yes</td>\n",
       "      <td>2003</td>\n",
       "      <td>Medium_Range</td>\n",
       "    </tr>\n",
       "    <tr>\n",
       "      <th>3</th>\n",
       "      <td>Audi</td>\n",
       "      <td>23000</td>\n",
       "      <td>crossover</td>\n",
       "      <td>240</td>\n",
       "      <td>4.20</td>\n",
       "      <td>Petrol</td>\n",
       "      <td>yes</td>\n",
       "      <td>2007</td>\n",
       "      <td>Medium_Range</td>\n",
       "    </tr>\n",
       "    <tr>\n",
       "      <th>4</th>\n",
       "      <td>Toyota</td>\n",
       "      <td>18300</td>\n",
       "      <td>crossover</td>\n",
       "      <td>120</td>\n",
       "      <td>2.00</td>\n",
       "      <td>Petrol</td>\n",
       "      <td>yes</td>\n",
       "      <td>2011</td>\n",
       "      <td>Budget_Friendly</td>\n",
       "    </tr>\n",
       "  </tbody>\n",
       "</table>\n",
       "</div>"
      ],
      "text/plain": [
       "           Brand  Price       Body  Mileage  EngineV Engine Type Registration  \\\n",
       "0            BMW   4200      sedan      277     2.00      Petrol          yes   \n",
       "1  Mercedes-Benz   7900        van      427     2.90      Diesel          yes   \n",
       "2  Mercedes-Benz  13300      sedan      358     5.00         Gas          yes   \n",
       "3           Audi  23000  crossover      240     4.20      Petrol          yes   \n",
       "4         Toyota  18300  crossover      120     2.00      Petrol          yes   \n",
       "\n",
       "   Year    Cars_Category  \n",
       "0  1991  Budget_Friendly  \n",
       "1  1999  Budget_Friendly  \n",
       "2  2003     Medium_Range  \n",
       "3  2007     Medium_Range  \n",
       "4  2011  Budget_Friendly  "
      ]
     },
     "execution_count": 38,
     "metadata": {},
     "output_type": "execute_result"
    }
   ],
   "source": [
    "df_cleaned.head()"
   ]
  },
  {
   "cell_type": "code",
   "execution_count": 39,
   "metadata": {},
   "outputs": [
    {
     "data": {
      "text/plain": [
       "<AxesSubplot:xlabel='Price', ylabel='Count'>"
      ]
     },
     "execution_count": 39,
     "metadata": {},
     "output_type": "execute_result"
    },
    {
     "data": {
      "image/png": "[encoded data removed]",
      "text/plain": [
       "<Figure size 576x576 with 1 Axes>"
      ]
     },
     "metadata": {},
     "output_type": "display_data"
    }
   ],
   "source": [
    "# To relax OLS assumption we need to check how price is distributed. \n",
    "# It appears that price is skewed to the right and we will have to deal with it before using it in model\n",
    "sns.histplot(df_clean['Price'])\n"
   ]
  },
  {
   "cell_type": "code",
   "execution_count": 40,
   "metadata": {},
   "outputs": [
    {
     "data": {
      "text/html": [
       "<div>\n",
       "<style scoped>\n",
       "    .dataframe tbody tr th:only-of-type {\n",
       "        vertical-align: middle;\n",
       "    }\n",
       "\n",
       "    .dataframe tbody tr th {\n",
       "        vertical-align: top;\n",
       "    }\n",
       "\n",
       "    .dataframe thead th {\n",
       "        text-align: right;\n",
       "    }\n",
       "</style>\n",
       "<table border=\"1\" class=\"dataframe\">\n",
       "  <thead>\n",
       "    <tr style=\"text-align: right;\">\n",
       "      <th></th>\n",
       "      <th>Brand</th>\n",
       "      <th>Price</th>\n",
       "      <th>Body</th>\n",
       "      <th>Mileage</th>\n",
       "      <th>EngineV</th>\n",
       "      <th>Engine Type</th>\n",
       "      <th>Registration</th>\n",
       "      <th>Year</th>\n",
       "      <th>Cars_Category</th>\n",
       "      <th>log_price</th>\n",
       "    </tr>\n",
       "  </thead>\n",
       "  <tbody>\n",
       "    <tr>\n",
       "      <th>0</th>\n",
       "      <td>BMW</td>\n",
       "      <td>4200</td>\n",
       "      <td>sedan</td>\n",
       "      <td>277</td>\n",
       "      <td>2.00</td>\n",
       "      <td>Petrol</td>\n",
       "      <td>yes</td>\n",
       "      <td>1991</td>\n",
       "      <td>Budget_Friendly</td>\n",
       "      <td>8.34</td>\n",
       "    </tr>\n",
       "    <tr>\n",
       "      <th>1</th>\n",
       "      <td>Mercedes-Benz</td>\n",
       "      <td>7900</td>\n",
       "      <td>van</td>\n",
       "      <td>427</td>\n",
       "      <td>2.90</td>\n",
       "      <td>Diesel</td>\n",
       "      <td>yes</td>\n",
       "      <td>1999</td>\n",
       "      <td>Budget_Friendly</td>\n",
       "      <td>8.97</td>\n",
       "    </tr>\n",
       "    <tr>\n",
       "      <th>2</th>\n",
       "      <td>Mercedes-Benz</td>\n",
       "      <td>13300</td>\n",
       "      <td>sedan</td>\n",
       "      <td>358</td>\n",
       "      <td>5.00</td>\n",
       "      <td>Gas</td>\n",
       "      <td>yes</td>\n",
       "      <td>2003</td>\n",
       "      <td>Medium_Range</td>\n",
       "      <td>9.50</td>\n",
       "    </tr>\n",
       "    <tr>\n",
       "      <th>3</th>\n",
       "      <td>Audi</td>\n",
       "      <td>23000</td>\n",
       "      <td>crossover</td>\n",
       "      <td>240</td>\n",
       "      <td>4.20</td>\n",
       "      <td>Petrol</td>\n",
       "      <td>yes</td>\n",
       "      <td>2007</td>\n",
       "      <td>Medium_Range</td>\n",
       "      <td>10.04</td>\n",
       "    </tr>\n",
       "    <tr>\n",
       "      <th>4</th>\n",
       "      <td>Toyota</td>\n",
       "      <td>18300</td>\n",
       "      <td>crossover</td>\n",
       "      <td>120</td>\n",
       "      <td>2.00</td>\n",
       "      <td>Petrol</td>\n",
       "      <td>yes</td>\n",
       "      <td>2011</td>\n",
       "      <td>Budget_Friendly</td>\n",
       "      <td>9.81</td>\n",
       "    </tr>\n",
       "  </tbody>\n",
       "</table>\n",
       "</div>"
      ],
      "text/plain": [
       "           Brand  Price       Body  Mileage  EngineV Engine Type Registration  \\\n",
       "0            BMW   4200      sedan      277     2.00      Petrol          yes   \n",
       "1  Mercedes-Benz   7900        van      427     2.90      Diesel          yes   \n",
       "2  Mercedes-Benz  13300      sedan      358     5.00         Gas          yes   \n",
       "3           Audi  23000  crossover      240     4.20      Petrol          yes   \n",
       "4         Toyota  18300  crossover      120     2.00      Petrol          yes   \n",
       "\n",
       "   Year    Cars_Category  log_price  \n",
       "0  1991  Budget_Friendly       8.34  \n",
       "1  1999  Budget_Friendly       8.97  \n",
       "2  2003     Medium_Range       9.50  \n",
       "3  2007     Medium_Range      10.04  \n",
       "4  2011  Budget_Friendly       9.81  "
      ]
     },
     "execution_count": 40,
     "metadata": {},
     "output_type": "execute_result"
    }
   ],
   "source": [
    "# Log Transformation seems like a good strategy to get it close to normal distribution\n",
    "log_price = np.log(df_cleaned['Price'])\n",
    "df_cleaned['log_price'] = log_price\n",
    "df_cleaned.head()"
   ]
  },
  {
   "cell_type": "code",
   "execution_count": 41,
   "metadata": {},
   "outputs": [
    {
     "data": {
      "text/plain": [
       "<AxesSubplot:xlabel='log_price', ylabel='Count'>"
      ]
     },
     "execution_count": 41,
     "metadata": {},
     "output_type": "execute_result"
    },
    {
     "data": {
      "image/png": "[encoded data removed]",
      "text/plain": [
       "<Figure size 576x576 with 1 Axes>"
      ]
     },
     "metadata": {},
     "output_type": "display_data"
    }
   ],
   "source": [
    "# Check Price histogram after Log Transformation\n",
    "sns.histplot(df_cleaned['log_price'])"
   ]
  },
  {
   "cell_type": "markdown",
   "metadata": {},
   "source": [
    "## Step 6: Relax OLS assumption \n",
    "Check if Mileage, EngineV and Year have a linear relationship with log_price"
   ]
  },
  {
   "cell_type": "code",
   "execution_count": 42,
   "metadata": {},
   "outputs": [
    {
     "data": {
      "image/png": "[encoded data removed]",
      "text/plain": [
       "<Figure size 1296x432 with 3 Axes>"
      ]
     },
     "metadata": {},
     "output_type": "display_data"
    }
   ],
   "source": [
    "f, (ax1, ax2, ax3) = plt.subplots(1, 3, sharey=True, figsize =(18,6))\n",
    "ax1.scatter(df_cleaned['Mileage'],df_cleaned['log_price'])\n",
    "ax1.set_title('Log Price and Mileage')\n",
    "ax2.scatter(df_cleaned['EngineV'],df_cleaned['log_price'])\n",
    "ax2.set_title('Log Price and EngineV')\n",
    "ax3.scatter(df_cleaned['Year'],df_cleaned['log_price'])\n",
    "ax3.set_title('Log Price and Year')\n",
    "\n",
    "\n",
    "plt.show()"
   ]
  },
  {
   "cell_type": "code",
   "execution_count": 43,
   "metadata": {},
   "outputs": [],
   "source": [
    "df_cleaned.drop('Price', axis = 1, inplace = True)"
   ]
  },
  {
   "cell_type": "code",
   "execution_count": 44,
   "metadata": {},
   "outputs": [
    {
     "data": {
      "text/html": [
       "<div>\n",
       "<style scoped>\n",
       "    .dataframe tbody tr th:only-of-type {\n",
       "        vertical-align: middle;\n",
       "    }\n",
       "\n",
       "    .dataframe tbody tr th {\n",
       "        vertical-align: top;\n",
       "    }\n",
       "\n",
       "    .dataframe thead th {\n",
       "        text-align: right;\n",
       "    }\n",
       "</style>\n",
       "<table border=\"1\" class=\"dataframe\">\n",
       "  <thead>\n",
       "    <tr style=\"text-align: right;\">\n",
       "      <th></th>\n",
       "      <th>Brand</th>\n",
       "      <th>Body</th>\n",
       "      <th>Mileage</th>\n",
       "      <th>EngineV</th>\n",
       "      <th>Engine Type</th>\n",
       "      <th>Registration</th>\n",
       "      <th>Year</th>\n",
       "      <th>Cars_Category</th>\n",
       "      <th>log_price</th>\n",
       "    </tr>\n",
       "  </thead>\n",
       "  <tbody>\n",
       "    <tr>\n",
       "      <th>2361</th>\n",
       "      <td>Toyota</td>\n",
       "      <td>sedan</td>\n",
       "      <td>145</td>\n",
       "      <td>2.40</td>\n",
       "      <td>Petrol</td>\n",
       "      <td>yes</td>\n",
       "      <td>2007</td>\n",
       "      <td>Budget_Friendly</td>\n",
       "      <td>9.37</td>\n",
       "    </tr>\n",
       "    <tr>\n",
       "      <th>2867</th>\n",
       "      <td>Volkswagen</td>\n",
       "      <td>sedan</td>\n",
       "      <td>180</td>\n",
       "      <td>3.00</td>\n",
       "      <td>Diesel</td>\n",
       "      <td>yes</td>\n",
       "      <td>2007</td>\n",
       "      <td>Medium_Range</td>\n",
       "      <td>9.79</td>\n",
       "    </tr>\n",
       "    <tr>\n",
       "      <th>1544</th>\n",
       "      <td>Mercedes-Benz</td>\n",
       "      <td>crossover</td>\n",
       "      <td>200</td>\n",
       "      <td>4.00</td>\n",
       "      <td>Diesel</td>\n",
       "      <td>yes</td>\n",
       "      <td>2007</td>\n",
       "      <td>Medium_Range</td>\n",
       "      <td>10.15</td>\n",
       "    </tr>\n",
       "    <tr>\n",
       "      <th>2639</th>\n",
       "      <td>Mercedes-Benz</td>\n",
       "      <td>sedan</td>\n",
       "      <td>89</td>\n",
       "      <td>6.30</td>\n",
       "      <td>Petrol</td>\n",
       "      <td>yes</td>\n",
       "      <td>2008</td>\n",
       "      <td>Medium_Range</td>\n",
       "      <td>10.33</td>\n",
       "    </tr>\n",
       "    <tr>\n",
       "      <th>1851</th>\n",
       "      <td>Toyota</td>\n",
       "      <td>crossover</td>\n",
       "      <td>51</td>\n",
       "      <td>3.00</td>\n",
       "      <td>Diesel</td>\n",
       "      <td>yes</td>\n",
       "      <td>2013</td>\n",
       "      <td>Medium_Range</td>\n",
       "      <td>10.67</td>\n",
       "    </tr>\n",
       "  </tbody>\n",
       "</table>\n",
       "</div>"
      ],
      "text/plain": [
       "              Brand       Body  Mileage  EngineV Engine Type Registration  \\\n",
       "2361         Toyota      sedan      145     2.40      Petrol          yes   \n",
       "2867     Volkswagen      sedan      180     3.00      Diesel          yes   \n",
       "1544  Mercedes-Benz  crossover      200     4.00      Diesel          yes   \n",
       "2639  Mercedes-Benz      sedan       89     6.30      Petrol          yes   \n",
       "1851         Toyota  crossover       51     3.00      Diesel          yes   \n",
       "\n",
       "      Year    Cars_Category  log_price  \n",
       "2361  2007  Budget_Friendly       9.37  \n",
       "2867  2007     Medium_Range       9.79  \n",
       "1544  2007     Medium_Range      10.15  \n",
       "2639  2008     Medium_Range      10.33  \n",
       "1851  2013     Medium_Range      10.67  "
      ]
     },
     "execution_count": 44,
     "metadata": {},
     "output_type": "execute_result"
    }
   ],
   "source": [
    "df_cleaned.sample(5)"
   ]
  },
  {
   "cell_type": "code",
   "execution_count": 45,
   "metadata": {},
   "outputs": [],
   "source": [
    "#Significant Columns that we are going to use for modelling \n",
    "sig_cols = ['Brand','Body','Mileage','EngineV','Engine Type','Registration','Year','Cars_Category','log_price']"
   ]
  },
  {
   "cell_type": "code",
   "execution_count": 46,
   "metadata": {},
   "outputs": [
    {
     "data": {
      "text/html": [
       "<div>\n",
       "<style scoped>\n",
       "    .dataframe tbody tr th:only-of-type {\n",
       "        vertical-align: middle;\n",
       "    }\n",
       "\n",
       "    .dataframe tbody tr th {\n",
       "        vertical-align: top;\n",
       "    }\n",
       "\n",
       "    .dataframe thead th {\n",
       "        text-align: right;\n",
       "    }\n",
       "</style>\n",
       "<table border=\"1\" class=\"dataframe\">\n",
       "  <thead>\n",
       "    <tr style=\"text-align: right;\">\n",
       "      <th></th>\n",
       "      <th>Brand</th>\n",
       "      <th>Body</th>\n",
       "      <th>Mileage</th>\n",
       "      <th>EngineV</th>\n",
       "      <th>Engine Type</th>\n",
       "      <th>Registration</th>\n",
       "      <th>Year</th>\n",
       "      <th>Cars_Category</th>\n",
       "      <th>log_price</th>\n",
       "    </tr>\n",
       "  </thead>\n",
       "  <tbody>\n",
       "    <tr>\n",
       "      <th>0</th>\n",
       "      <td>BMW</td>\n",
       "      <td>sedan</td>\n",
       "      <td>277</td>\n",
       "      <td>2.00</td>\n",
       "      <td>Petrol</td>\n",
       "      <td>yes</td>\n",
       "      <td>1991</td>\n",
       "      <td>Budget_Friendly</td>\n",
       "      <td>8.34</td>\n",
       "    </tr>\n",
       "    <tr>\n",
       "      <th>1</th>\n",
       "      <td>Mercedes-Benz</td>\n",
       "      <td>van</td>\n",
       "      <td>427</td>\n",
       "      <td>2.90</td>\n",
       "      <td>Diesel</td>\n",
       "      <td>yes</td>\n",
       "      <td>1999</td>\n",
       "      <td>Budget_Friendly</td>\n",
       "      <td>8.97</td>\n",
       "    </tr>\n",
       "    <tr>\n",
       "      <th>2</th>\n",
       "      <td>Mercedes-Benz</td>\n",
       "      <td>sedan</td>\n",
       "      <td>358</td>\n",
       "      <td>5.00</td>\n",
       "      <td>Gas</td>\n",
       "      <td>yes</td>\n",
       "      <td>2003</td>\n",
       "      <td>Medium_Range</td>\n",
       "      <td>9.50</td>\n",
       "    </tr>\n",
       "    <tr>\n",
       "      <th>3</th>\n",
       "      <td>Audi</td>\n",
       "      <td>crossover</td>\n",
       "      <td>240</td>\n",
       "      <td>4.20</td>\n",
       "      <td>Petrol</td>\n",
       "      <td>yes</td>\n",
       "      <td>2007</td>\n",
       "      <td>Medium_Range</td>\n",
       "      <td>10.04</td>\n",
       "    </tr>\n",
       "    <tr>\n",
       "      <th>4</th>\n",
       "      <td>Toyota</td>\n",
       "      <td>crossover</td>\n",
       "      <td>120</td>\n",
       "      <td>2.00</td>\n",
       "      <td>Petrol</td>\n",
       "      <td>yes</td>\n",
       "      <td>2011</td>\n",
       "      <td>Budget_Friendly</td>\n",
       "      <td>9.81</td>\n",
       "    </tr>\n",
       "    <tr>\n",
       "      <th>...</th>\n",
       "      <td>...</td>\n",
       "      <td>...</td>\n",
       "      <td>...</td>\n",
       "      <td>...</td>\n",
       "      <td>...</td>\n",
       "      <td>...</td>\n",
       "      <td>...</td>\n",
       "      <td>...</td>\n",
       "      <td>...</td>\n",
       "    </tr>\n",
       "    <tr>\n",
       "      <th>3902</th>\n",
       "      <td>Volkswagen</td>\n",
       "      <td>van</td>\n",
       "      <td>163</td>\n",
       "      <td>2.50</td>\n",
       "      <td>Diesel</td>\n",
       "      <td>yes</td>\n",
       "      <td>2008</td>\n",
       "      <td>Budget_Friendly</td>\n",
       "      <td>9.35</td>\n",
       "    </tr>\n",
       "    <tr>\n",
       "      <th>3903</th>\n",
       "      <td>Toyota</td>\n",
       "      <td>sedan</td>\n",
       "      <td>35</td>\n",
       "      <td>1.60</td>\n",
       "      <td>Petrol</td>\n",
       "      <td>yes</td>\n",
       "      <td>2014</td>\n",
       "      <td>Budget_Friendly</td>\n",
       "      <td>9.79</td>\n",
       "    </tr>\n",
       "    <tr>\n",
       "      <th>3904</th>\n",
       "      <td>Mercedes-Benz</td>\n",
       "      <td>sedan</td>\n",
       "      <td>9</td>\n",
       "      <td>3.00</td>\n",
       "      <td>Diesel</td>\n",
       "      <td>yes</td>\n",
       "      <td>2014</td>\n",
       "      <td>Medium_Range</td>\n",
       "      <td>11.74</td>\n",
       "    </tr>\n",
       "    <tr>\n",
       "      <th>3905</th>\n",
       "      <td>BMW</td>\n",
       "      <td>sedan</td>\n",
       "      <td>1</td>\n",
       "      <td>3.50</td>\n",
       "      <td>Petrol</td>\n",
       "      <td>yes</td>\n",
       "      <td>1999</td>\n",
       "      <td>Medium_Range</td>\n",
       "      <td>8.78</td>\n",
       "    </tr>\n",
       "    <tr>\n",
       "      <th>3906</th>\n",
       "      <td>Volkswagen</td>\n",
       "      <td>van</td>\n",
       "      <td>124</td>\n",
       "      <td>2.00</td>\n",
       "      <td>Diesel</td>\n",
       "      <td>yes</td>\n",
       "      <td>2013</td>\n",
       "      <td>Budget_Friendly</td>\n",
       "      <td>9.51</td>\n",
       "    </tr>\n",
       "  </tbody>\n",
       "</table>\n",
       "<p>3907 rows × 9 columns</p>\n",
       "</div>"
      ],
      "text/plain": [
       "              Brand       Body  Mileage  EngineV Engine Type Registration  \\\n",
       "0               BMW      sedan      277     2.00      Petrol          yes   \n",
       "1     Mercedes-Benz        van      427     2.90      Diesel          yes   \n",
       "2     Mercedes-Benz      sedan      358     5.00         Gas          yes   \n",
       "3              Audi  crossover      240     4.20      Petrol          yes   \n",
       "4            Toyota  crossover      120     2.00      Petrol          yes   \n",
       "...             ...        ...      ...      ...         ...          ...   \n",
       "3902     Volkswagen        van      163     2.50      Diesel          yes   \n",
       "3903         Toyota      sedan       35     1.60      Petrol          yes   \n",
       "3904  Mercedes-Benz      sedan        9     3.00      Diesel          yes   \n",
       "3905            BMW      sedan        1     3.50      Petrol          yes   \n",
       "3906     Volkswagen        van      124     2.00      Diesel          yes   \n",
       "\n",
       "      Year    Cars_Category  log_price  \n",
       "0     1991  Budget_Friendly       8.34  \n",
       "1     1999  Budget_Friendly       8.97  \n",
       "2     2003     Medium_Range       9.50  \n",
       "3     2007     Medium_Range      10.04  \n",
       "4     2011  Budget_Friendly       9.81  \n",
       "...    ...              ...        ...  \n",
       "3902  2008  Budget_Friendly       9.35  \n",
       "3903  2014  Budget_Friendly       9.79  \n",
       "3904  2014     Medium_Range      11.74  \n",
       "3905  1999     Medium_Range       8.78  \n",
       "3906  2013  Budget_Friendly       9.51  \n",
       "\n",
       "[3907 rows x 9 columns]"
      ]
     },
     "execution_count": 46,
     "metadata": {},
     "output_type": "execute_result"
    }
   ],
   "source": [
    "df_cleaned[sig_cols]"
   ]
  },
  {
   "cell_type": "code",
   "execution_count": 47,
   "metadata": {},
   "outputs": [
    {
     "data": {
      "text/plain": [
       "(3907, 9)"
      ]
     },
     "execution_count": 47,
     "metadata": {},
     "output_type": "execute_result"
    }
   ],
   "source": [
    "df_cleaned.shape"
   ]
  },
  {
   "cell_type": "code",
   "execution_count": 48,
   "metadata": {},
   "outputs": [],
   "source": [
    "from sklearn.model_selection import train_test_split\n",
    "from sklearn import preprocessing\n",
    "from sklearn.base import TransformerMixin\n",
    "from sklearn.model_selection import train_test_split\n",
    "from sklearn.preprocessing import MinMaxScaler\n",
    "import statsmodels.api as sm\n",
    "from sklearn.feature_selection import RFE\n",
    "from sklearn.linear_model import LinearRegression\n",
    "from statsmodels.stats.outliers_influence import variance_inflation_factor\n",
    "from sklearn.metrics import r2_score"
   ]
  },
  {
   "cell_type": "code",
   "execution_count": 49,
   "metadata": {},
   "outputs": [],
   "source": [
    "df_auto = df_cleaned"
   ]
  },
  {
   "cell_type": "code",
   "execution_count": 50,
   "metadata": {},
   "outputs": [],
   "source": [
    "#Separate Category columns from Numerical columns for additional processing\n",
    "sig_cat_cols = ['Brand','Body','Engine Type','Registration','Cars_Category']"
   ]
  },
  {
   "cell_type": "code",
   "execution_count": 51,
   "metadata": {},
   "outputs": [
    {
     "data": {
      "text/plain": [
       "(3907, 22)"
      ]
     },
     "execution_count": 51,
     "metadata": {},
     "output_type": "execute_result"
    }
   ],
   "source": [
    "#Convert Categorical values to numerical\n",
    "dummies = pd.get_dummies(df_auto[sig_cat_cols])\n",
    "dummies.shape"
   ]
  },
  {
   "cell_type": "code",
   "execution_count": 52,
   "metadata": {},
   "outputs": [
    {
     "data": {
      "text/plain": [
       "(3907, 17)"
      ]
     },
     "execution_count": 52,
     "metadata": {},
     "output_type": "execute_result"
    }
   ],
   "source": [
    "dummies = pd.get_dummies(df_auto[sig_cat_cols], drop_first = True)\n",
    "dummies.shape"
   ]
  },
  {
   "cell_type": "code",
   "execution_count": 53,
   "metadata": {},
   "outputs": [],
   "source": [
    "df_auto = pd.concat([df_auto, dummies], axis = 1)"
   ]
  },
  {
   "cell_type": "code",
   "execution_count": 54,
   "metadata": {},
   "outputs": [
    {
     "data": {
      "text/plain": [
       "(3907, 21)"
      ]
     },
     "execution_count": 54,
     "metadata": {},
     "output_type": "execute_result"
    }
   ],
   "source": [
    "df_auto.drop( sig_cat_cols, axis = 1, inplace = True)\n",
    "df_auto.shape"
   ]
  },
  {
   "cell_type": "code",
   "execution_count": 55,
   "metadata": {},
   "outputs": [
    {
     "data": {
      "text/html": [
       "<div>\n",
       "<style scoped>\n",
       "    .dataframe tbody tr th:only-of-type {\n",
       "        vertical-align: middle;\n",
       "    }\n",
       "\n",
       "    .dataframe tbody tr th {\n",
       "        vertical-align: top;\n",
       "    }\n",
       "\n",
       "    .dataframe thead th {\n",
       "        text-align: right;\n",
       "    }\n",
       "</style>\n",
       "<table border=\"1\" class=\"dataframe\">\n",
       "  <thead>\n",
       "    <tr style=\"text-align: right;\">\n",
       "      <th></th>\n",
       "      <th>Mileage</th>\n",
       "      <th>EngineV</th>\n",
       "      <th>Year</th>\n",
       "      <th>log_price</th>\n",
       "      <th>Brand_BMW</th>\n",
       "      <th>Brand_Mercedes-Benz</th>\n",
       "      <th>Brand_Mitsubishi</th>\n",
       "      <th>Brand_Renault</th>\n",
       "      <th>Brand_Toyota</th>\n",
       "      <th>Brand_Volkswagen</th>\n",
       "      <th>...</th>\n",
       "      <th>Body_other</th>\n",
       "      <th>Body_sedan</th>\n",
       "      <th>Body_vagon</th>\n",
       "      <th>Body_van</th>\n",
       "      <th>Engine Type_Gas</th>\n",
       "      <th>Engine Type_Other</th>\n",
       "      <th>Engine Type_Petrol</th>\n",
       "      <th>Registration_yes</th>\n",
       "      <th>Cars_Category_Medium_Range</th>\n",
       "      <th>Cars_Category_High_End</th>\n",
       "    </tr>\n",
       "  </thead>\n",
       "  <tbody>\n",
       "    <tr>\n",
       "      <th>3271</th>\n",
       "      <td>85</td>\n",
       "      <td>1.80</td>\n",
       "      <td>2007</td>\n",
       "      <td>9.35</td>\n",
       "      <td>0</td>\n",
       "      <td>0</td>\n",
       "      <td>0</td>\n",
       "      <td>0</td>\n",
       "      <td>0</td>\n",
       "      <td>0</td>\n",
       "      <td>...</td>\n",
       "      <td>0</td>\n",
       "      <td>1</td>\n",
       "      <td>0</td>\n",
       "      <td>0</td>\n",
       "      <td>0</td>\n",
       "      <td>0</td>\n",
       "      <td>1</td>\n",
       "      <td>1</td>\n",
       "      <td>0</td>\n",
       "      <td>0</td>\n",
       "    </tr>\n",
       "    <tr>\n",
       "      <th>585</th>\n",
       "      <td>112</td>\n",
       "      <td>2.00</td>\n",
       "      <td>2011</td>\n",
       "      <td>9.38</td>\n",
       "      <td>0</td>\n",
       "      <td>0</td>\n",
       "      <td>0</td>\n",
       "      <td>0</td>\n",
       "      <td>0</td>\n",
       "      <td>1</td>\n",
       "      <td>...</td>\n",
       "      <td>1</td>\n",
       "      <td>0</td>\n",
       "      <td>0</td>\n",
       "      <td>0</td>\n",
       "      <td>0</td>\n",
       "      <td>0</td>\n",
       "      <td>0</td>\n",
       "      <td>1</td>\n",
       "      <td>0</td>\n",
       "      <td>0</td>\n",
       "    </tr>\n",
       "    <tr>\n",
       "      <th>2631</th>\n",
       "      <td>72</td>\n",
       "      <td>2.40</td>\n",
       "      <td>2006</td>\n",
       "      <td>9.35</td>\n",
       "      <td>0</td>\n",
       "      <td>0</td>\n",
       "      <td>1</td>\n",
       "      <td>0</td>\n",
       "      <td>0</td>\n",
       "      <td>0</td>\n",
       "      <td>...</td>\n",
       "      <td>0</td>\n",
       "      <td>1</td>\n",
       "      <td>0</td>\n",
       "      <td>0</td>\n",
       "      <td>0</td>\n",
       "      <td>0</td>\n",
       "      <td>1</td>\n",
       "      <td>1</td>\n",
       "      <td>0</td>\n",
       "      <td>0</td>\n",
       "    </tr>\n",
       "    <tr>\n",
       "      <th>3370</th>\n",
       "      <td>368</td>\n",
       "      <td>3.00</td>\n",
       "      <td>2000</td>\n",
       "      <td>9.01</td>\n",
       "      <td>1</td>\n",
       "      <td>0</td>\n",
       "      <td>0</td>\n",
       "      <td>0</td>\n",
       "      <td>0</td>\n",
       "      <td>0</td>\n",
       "      <td>...</td>\n",
       "      <td>0</td>\n",
       "      <td>1</td>\n",
       "      <td>0</td>\n",
       "      <td>0</td>\n",
       "      <td>0</td>\n",
       "      <td>0</td>\n",
       "      <td>0</td>\n",
       "      <td>1</td>\n",
       "      <td>1</td>\n",
       "      <td>0</td>\n",
       "    </tr>\n",
       "    <tr>\n",
       "      <th>2242</th>\n",
       "      <td>175</td>\n",
       "      <td>2.00</td>\n",
       "      <td>2001</td>\n",
       "      <td>9.02</td>\n",
       "      <td>0</td>\n",
       "      <td>1</td>\n",
       "      <td>0</td>\n",
       "      <td>0</td>\n",
       "      <td>0</td>\n",
       "      <td>0</td>\n",
       "      <td>...</td>\n",
       "      <td>0</td>\n",
       "      <td>1</td>\n",
       "      <td>0</td>\n",
       "      <td>0</td>\n",
       "      <td>0</td>\n",
       "      <td>0</td>\n",
       "      <td>1</td>\n",
       "      <td>1</td>\n",
       "      <td>0</td>\n",
       "      <td>0</td>\n",
       "    </tr>\n",
       "  </tbody>\n",
       "</table>\n",
       "<p>5 rows × 21 columns</p>\n",
       "</div>"
      ],
      "text/plain": [
       "      Mileage  EngineV  Year  log_price  Brand_BMW  Brand_Mercedes-Benz  \\\n",
       "3271       85     1.80  2007       9.35          0                    0   \n",
       "585       112     2.00  2011       9.38          0                    0   \n",
       "2631       72     2.40  2006       9.35          0                    0   \n",
       "3370      368     3.00  2000       9.01          1                    0   \n",
       "2242      175     2.00  2001       9.02          0                    1   \n",
       "\n",
       "      Brand_Mitsubishi  Brand_Renault  Brand_Toyota  Brand_Volkswagen  ...  \\\n",
       "3271                 0              0             0                 0  ...   \n",
       "585                  0              0             0                 1  ...   \n",
       "2631                 1              0             0                 0  ...   \n",
       "3370                 0              0             0                 0  ...   \n",
       "2242                 0              0             0                 0  ...   \n",
       "\n",
       "      Body_other  Body_sedan  Body_vagon  Body_van  Engine Type_Gas  \\\n",
       "3271           0           1           0         0                0   \n",
       "585            1           0           0         0                0   \n",
       "2631           0           1           0         0                0   \n",
       "3370           0           1           0         0                0   \n",
       "2242           0           1           0         0                0   \n",
       "\n",
       "      Engine Type_Other  Engine Type_Petrol  Registration_yes  \\\n",
       "3271                  0                   1                 1   \n",
       "585                   0                   0                 1   \n",
       "2631                  0                   1                 1   \n",
       "3370                  0                   0                 1   \n",
       "2242                  0                   1                 1   \n",
       "\n",
       "      Cars_Category_Medium_Range  Cars_Category_High_End  \n",
       "3271                           0                       0  \n",
       "585                            0                       0  \n",
       "2631                           0                       0  \n",
       "3370                           1                       0  \n",
       "2242                           0                       0  \n",
       "\n",
       "[5 rows x 21 columns]"
      ]
     },
     "execution_count": 55,
     "metadata": {},
     "output_type": "execute_result"
    }
   ],
   "source": [
    "df_auto.sample(5)"
   ]
  },
  {
   "cell_type": "code",
   "execution_count": 56,
   "metadata": {},
   "outputs": [],
   "source": [
    "np.random.seed(0)\n",
    "df_train, df_test = train_test_split(df_auto, train_size = 0.7, test_size = 0.3, random_state = 100)"
   ]
  },
  {
   "cell_type": "code",
   "execution_count": 57,
   "metadata": {},
   "outputs": [
    {
     "data": {
      "text/html": [
       "<div>\n",
       "<style scoped>\n",
       "    .dataframe tbody tr th:only-of-type {\n",
       "        vertical-align: middle;\n",
       "    }\n",
       "\n",
       "    .dataframe tbody tr th {\n",
       "        vertical-align: top;\n",
       "    }\n",
       "\n",
       "    .dataframe thead th {\n",
       "        text-align: right;\n",
       "    }\n",
       "</style>\n",
       "<table border=\"1\" class=\"dataframe\">\n",
       "  <thead>\n",
       "    <tr style=\"text-align: right;\">\n",
       "      <th></th>\n",
       "      <th>Mileage</th>\n",
       "      <th>EngineV</th>\n",
       "      <th>Year</th>\n",
       "      <th>log_price</th>\n",
       "      <th>Brand_BMW</th>\n",
       "      <th>Brand_Mercedes-Benz</th>\n",
       "      <th>Brand_Mitsubishi</th>\n",
       "      <th>Brand_Renault</th>\n",
       "      <th>Brand_Toyota</th>\n",
       "      <th>Brand_Volkswagen</th>\n",
       "      <th>...</th>\n",
       "      <th>Body_other</th>\n",
       "      <th>Body_sedan</th>\n",
       "      <th>Body_vagon</th>\n",
       "      <th>Body_van</th>\n",
       "      <th>Engine Type_Gas</th>\n",
       "      <th>Engine Type_Other</th>\n",
       "      <th>Engine Type_Petrol</th>\n",
       "      <th>Registration_yes</th>\n",
       "      <th>Cars_Category_Medium_Range</th>\n",
       "      <th>Cars_Category_High_End</th>\n",
       "    </tr>\n",
       "  </thead>\n",
       "  <tbody>\n",
       "    <tr>\n",
       "      <th>1530</th>\n",
       "      <td>182</td>\n",
       "      <td>2.00</td>\n",
       "      <td>2011</td>\n",
       "      <td>9.42</td>\n",
       "      <td>0</td>\n",
       "      <td>0</td>\n",
       "      <td>0</td>\n",
       "      <td>0</td>\n",
       "      <td>0</td>\n",
       "      <td>1</td>\n",
       "      <td>...</td>\n",
       "      <td>0</td>\n",
       "      <td>0</td>\n",
       "      <td>0</td>\n",
       "      <td>1</td>\n",
       "      <td>0</td>\n",
       "      <td>0</td>\n",
       "      <td>0</td>\n",
       "      <td>1</td>\n",
       "      <td>0</td>\n",
       "      <td>0</td>\n",
       "    </tr>\n",
       "    <tr>\n",
       "      <th>3570</th>\n",
       "      <td>200</td>\n",
       "      <td>1.40</td>\n",
       "      <td>2007</td>\n",
       "      <td>8.52</td>\n",
       "      <td>0</td>\n",
       "      <td>0</td>\n",
       "      <td>0</td>\n",
       "      <td>1</td>\n",
       "      <td>0</td>\n",
       "      <td>0</td>\n",
       "      <td>...</td>\n",
       "      <td>0</td>\n",
       "      <td>1</td>\n",
       "      <td>0</td>\n",
       "      <td>0</td>\n",
       "      <td>0</td>\n",
       "      <td>0</td>\n",
       "      <td>1</td>\n",
       "      <td>1</td>\n",
       "      <td>0</td>\n",
       "      <td>0</td>\n",
       "    </tr>\n",
       "    <tr>\n",
       "      <th>2411</th>\n",
       "      <td>107</td>\n",
       "      <td>1.60</td>\n",
       "      <td>2010</td>\n",
       "      <td>9.13</td>\n",
       "      <td>0</td>\n",
       "      <td>0</td>\n",
       "      <td>0</td>\n",
       "      <td>0</td>\n",
       "      <td>0</td>\n",
       "      <td>1</td>\n",
       "      <td>...</td>\n",
       "      <td>0</td>\n",
       "      <td>0</td>\n",
       "      <td>1</td>\n",
       "      <td>0</td>\n",
       "      <td>0</td>\n",
       "      <td>0</td>\n",
       "      <td>1</td>\n",
       "      <td>1</td>\n",
       "      <td>0</td>\n",
       "      <td>0</td>\n",
       "    </tr>\n",
       "    <tr>\n",
       "      <th>531</th>\n",
       "      <td>241</td>\n",
       "      <td>2.00</td>\n",
       "      <td>1998</td>\n",
       "      <td>9.01</td>\n",
       "      <td>1</td>\n",
       "      <td>0</td>\n",
       "      <td>0</td>\n",
       "      <td>0</td>\n",
       "      <td>0</td>\n",
       "      <td>0</td>\n",
       "      <td>...</td>\n",
       "      <td>0</td>\n",
       "      <td>1</td>\n",
       "      <td>0</td>\n",
       "      <td>0</td>\n",
       "      <td>0</td>\n",
       "      <td>0</td>\n",
       "      <td>1</td>\n",
       "      <td>1</td>\n",
       "      <td>0</td>\n",
       "      <td>0</td>\n",
       "    </tr>\n",
       "    <tr>\n",
       "      <th>1761</th>\n",
       "      <td>245</td>\n",
       "      <td>2.20</td>\n",
       "      <td>2002</td>\n",
       "      <td>8.90</td>\n",
       "      <td>0</td>\n",
       "      <td>1</td>\n",
       "      <td>0</td>\n",
       "      <td>0</td>\n",
       "      <td>0</td>\n",
       "      <td>0</td>\n",
       "      <td>...</td>\n",
       "      <td>0</td>\n",
       "      <td>0</td>\n",
       "      <td>0</td>\n",
       "      <td>1</td>\n",
       "      <td>0</td>\n",
       "      <td>0</td>\n",
       "      <td>0</td>\n",
       "      <td>1</td>\n",
       "      <td>0</td>\n",
       "      <td>0</td>\n",
       "    </tr>\n",
       "  </tbody>\n",
       "</table>\n",
       "<p>5 rows × 21 columns</p>\n",
       "</div>"
      ],
      "text/plain": [
       "      Mileage  EngineV  Year  log_price  Brand_BMW  Brand_Mercedes-Benz  \\\n",
       "1530      182     2.00  2011       9.42          0                    0   \n",
       "3570      200     1.40  2007       8.52          0                    0   \n",
       "2411      107     1.60  2010       9.13          0                    0   \n",
       "531       241     2.00  1998       9.01          1                    0   \n",
       "1761      245     2.20  2002       8.90          0                    1   \n",
       "\n",
       "      Brand_Mitsubishi  Brand_Renault  Brand_Toyota  Brand_Volkswagen  ...  \\\n",
       "1530                 0              0             0                 1  ...   \n",
       "3570                 0              1             0                 0  ...   \n",
       "2411                 0              0             0                 1  ...   \n",
       "531                  0              0             0                 0  ...   \n",
       "1761                 0              0             0                 0  ...   \n",
       "\n",
       "      Body_other  Body_sedan  Body_vagon  Body_van  Engine Type_Gas  \\\n",
       "1530           0           0           0         1                0   \n",
       "3570           0           1           0         0                0   \n",
       "2411           0           0           1         0                0   \n",
       "531            0           1           0         0                0   \n",
       "1761           0           0           0         1                0   \n",
       "\n",
       "      Engine Type_Other  Engine Type_Petrol  Registration_yes  \\\n",
       "1530                  0                   0                 1   \n",
       "3570                  0                   1                 1   \n",
       "2411                  0                   1                 1   \n",
       "531                   0                   1                 1   \n",
       "1761                  0                   0                 1   \n",
       "\n",
       "      Cars_Category_Medium_Range  Cars_Category_High_End  \n",
       "1530                           0                       0  \n",
       "3570                           0                       0  \n",
       "2411                           0                       0  \n",
       "531                            0                       0  \n",
       "1761                           0                       0  \n",
       "\n",
       "[5 rows x 21 columns]"
      ]
     },
     "execution_count": 57,
     "metadata": {},
     "output_type": "execute_result"
    }
   ],
   "source": [
    "df_train.head()"
   ]
  },
  {
   "cell_type": "markdown",
   "metadata": {},
   "source": [
    "## Step 7: Rescaling the Features"
   ]
  },
  {
   "cell_type": "code",
   "execution_count": 58,
   "metadata": {},
   "outputs": [],
   "source": [
    "scaler = preprocessing.StandardScaler()"
   ]
  },
  {
   "cell_type": "code",
   "execution_count": 59,
   "metadata": {},
   "outputs": [],
   "source": [
    "sig_num_col = ['Mileage','EngineV','Year','log_price']\n"
   ]
  },
  {
   "cell_type": "code",
   "execution_count": 60,
   "metadata": {},
   "outputs": [],
   "source": [
    "import warnings\n",
    "warnings.filterwarnings(\"ignore\")\n",
    "\n",
    "df_train[sig_num_col] = scaler.fit_transform(df_train[sig_num_col])\n"
   ]
  },
  {
   "cell_type": "code",
   "execution_count": 61,
   "metadata": {},
   "outputs": [
    {
     "data": {
      "text/html": [
       "<div>\n",
       "<style scoped>\n",
       "    .dataframe tbody tr th:only-of-type {\n",
       "        vertical-align: middle;\n",
       "    }\n",
       "\n",
       "    .dataframe tbody tr th {\n",
       "        vertical-align: top;\n",
       "    }\n",
       "\n",
       "    .dataframe thead th {\n",
       "        text-align: right;\n",
       "    }\n",
       "</style>\n",
       "<table border=\"1\" class=\"dataframe\">\n",
       "  <thead>\n",
       "    <tr style=\"text-align: right;\">\n",
       "      <th></th>\n",
       "      <th>Mileage</th>\n",
       "      <th>EngineV</th>\n",
       "      <th>Year</th>\n",
       "      <th>log_price</th>\n",
       "      <th>Brand_BMW</th>\n",
       "      <th>Brand_Mercedes-Benz</th>\n",
       "      <th>Brand_Mitsubishi</th>\n",
       "      <th>Brand_Renault</th>\n",
       "      <th>Brand_Toyota</th>\n",
       "      <th>Brand_Volkswagen</th>\n",
       "      <th>...</th>\n",
       "      <th>Body_other</th>\n",
       "      <th>Body_sedan</th>\n",
       "      <th>Body_vagon</th>\n",
       "      <th>Body_van</th>\n",
       "      <th>Engine Type_Gas</th>\n",
       "      <th>Engine Type_Other</th>\n",
       "      <th>Engine Type_Petrol</th>\n",
       "      <th>Registration_yes</th>\n",
       "      <th>Cars_Category_Medium_Range</th>\n",
       "      <th>Cars_Category_High_End</th>\n",
       "    </tr>\n",
       "  </thead>\n",
       "  <tbody>\n",
       "    <tr>\n",
       "      <th>1404</th>\n",
       "      <td>-0.49</td>\n",
       "      <td>2.00</td>\n",
       "      <td>0.19</td>\n",
       "      <td>0.97</td>\n",
       "      <td>1</td>\n",
       "      <td>0</td>\n",
       "      <td>0</td>\n",
       "      <td>0</td>\n",
       "      <td>0</td>\n",
       "      <td>0</td>\n",
       "      <td>...</td>\n",
       "      <td>0</td>\n",
       "      <td>0</td>\n",
       "      <td>0</td>\n",
       "      <td>0</td>\n",
       "      <td>0</td>\n",
       "      <td>0</td>\n",
       "      <td>1</td>\n",
       "      <td>1</td>\n",
       "      <td>1</td>\n",
       "      <td>0</td>\n",
       "    </tr>\n",
       "    <tr>\n",
       "      <th>148</th>\n",
       "      <td>-0.18</td>\n",
       "      <td>-0.99</td>\n",
       "      <td>0.84</td>\n",
       "      <td>-0.66</td>\n",
       "      <td>0</td>\n",
       "      <td>0</td>\n",
       "      <td>0</td>\n",
       "      <td>1</td>\n",
       "      <td>0</td>\n",
       "      <td>0</td>\n",
       "      <td>...</td>\n",
       "      <td>0</td>\n",
       "      <td>0</td>\n",
       "      <td>0</td>\n",
       "      <td>1</td>\n",
       "      <td>0</td>\n",
       "      <td>0</td>\n",
       "      <td>0</td>\n",
       "      <td>1</td>\n",
       "      <td>0</td>\n",
       "      <td>0</td>\n",
       "    </tr>\n",
       "    <tr>\n",
       "      <th>2413</th>\n",
       "      <td>-1.43</td>\n",
       "      <td>-0.99</td>\n",
       "      <td>1.49</td>\n",
       "      <td>0.36</td>\n",
       "      <td>0</td>\n",
       "      <td>0</td>\n",
       "      <td>0</td>\n",
       "      <td>1</td>\n",
       "      <td>0</td>\n",
       "      <td>0</td>\n",
       "      <td>...</td>\n",
       "      <td>0</td>\n",
       "      <td>0</td>\n",
       "      <td>0</td>\n",
       "      <td>0</td>\n",
       "      <td>0</td>\n",
       "      <td>0</td>\n",
       "      <td>0</td>\n",
       "      <td>1</td>\n",
       "      <td>0</td>\n",
       "      <td>0</td>\n",
       "    </tr>\n",
       "    <tr>\n",
       "      <th>2466</th>\n",
       "      <td>-0.04</td>\n",
       "      <td>-0.48</td>\n",
       "      <td>0.52</td>\n",
       "      <td>-0.33</td>\n",
       "      <td>0</td>\n",
       "      <td>0</td>\n",
       "      <td>0</td>\n",
       "      <td>0</td>\n",
       "      <td>0</td>\n",
       "      <td>1</td>\n",
       "      <td>...</td>\n",
       "      <td>0</td>\n",
       "      <td>0</td>\n",
       "      <td>0</td>\n",
       "      <td>1</td>\n",
       "      <td>1</td>\n",
       "      <td>0</td>\n",
       "      <td>0</td>\n",
       "      <td>1</td>\n",
       "      <td>0</td>\n",
       "      <td>0</td>\n",
       "    </tr>\n",
       "    <tr>\n",
       "      <th>2374</th>\n",
       "      <td>-1.09</td>\n",
       "      <td>3.95</td>\n",
       "      <td>1.00</td>\n",
       "      <td>1.93</td>\n",
       "      <td>0</td>\n",
       "      <td>0</td>\n",
       "      <td>0</td>\n",
       "      <td>0</td>\n",
       "      <td>0</td>\n",
       "      <td>0</td>\n",
       "      <td>...</td>\n",
       "      <td>0</td>\n",
       "      <td>1</td>\n",
       "      <td>0</td>\n",
       "      <td>0</td>\n",
       "      <td>0</td>\n",
       "      <td>0</td>\n",
       "      <td>1</td>\n",
       "      <td>1</td>\n",
       "      <td>1</td>\n",
       "      <td>0</td>\n",
       "    </tr>\n",
       "  </tbody>\n",
       "</table>\n",
       "<p>5 rows × 21 columns</p>\n",
       "</div>"
      ],
      "text/plain": [
       "      Mileage  EngineV  Year  log_price  Brand_BMW  Brand_Mercedes-Benz  \\\n",
       "1404    -0.49     2.00  0.19       0.97          1                    0   \n",
       "148     -0.18    -0.99  0.84      -0.66          0                    0   \n",
       "2413    -1.43    -0.99  1.49       0.36          0                    0   \n",
       "2466    -0.04    -0.48  0.52      -0.33          0                    0   \n",
       "2374    -1.09     3.95  1.00       1.93          0                    0   \n",
       "\n",
       "      Brand_Mitsubishi  Brand_Renault  Brand_Toyota  Brand_Volkswagen  ...  \\\n",
       "1404                 0              0             0                 0  ...   \n",
       "148                  0              1             0                 0  ...   \n",
       "2413                 0              1             0                 0  ...   \n",
       "2466                 0              0             0                 1  ...   \n",
       "2374                 0              0             0                 0  ...   \n",
       "\n",
       "      Body_other  Body_sedan  Body_vagon  Body_van  Engine Type_Gas  \\\n",
       "1404           0           0           0         0                0   \n",
       "148            0           0           0         1                0   \n",
       "2413           0           0           0         0                0   \n",
       "2466           0           0           0         1                1   \n",
       "2374           0           1           0         0                0   \n",
       "\n",
       "      Engine Type_Other  Engine Type_Petrol  Registration_yes  \\\n",
       "1404                  0                   1                 1   \n",
       "148                   0                   0                 1   \n",
       "2413                  0                   0                 1   \n",
       "2466                  0                   0                 1   \n",
       "2374                  0                   1                 1   \n",
       "\n",
       "      Cars_Category_Medium_Range  Cars_Category_High_End  \n",
       "1404                           1                       0  \n",
       "148                            0                       0  \n",
       "2413                           0                       0  \n",
       "2466                           0                       0  \n",
       "2374                           1                       0  \n",
       "\n",
       "[5 rows x 21 columns]"
      ]
     },
     "execution_count": 61,
     "metadata": {},
     "output_type": "execute_result"
    }
   ],
   "source": [
    "df_train.sample(5)"
   ]
  },
  {
   "cell_type": "code",
   "execution_count": 62,
   "metadata": {},
   "outputs": [
    {
     "data": {
      "image/png": "[encoded data removed]",
      "text/plain": [
       "<Figure size 720x720 with 2 Axes>"
      ]
     },
     "metadata": {},
     "output_type": "display_data"
    }
   ],
   "source": [
    "#After Rescaling we check how features are correlated to log_price\n",
    "plt.figure(figsize = (10, 10))\n",
    "sns.heatmap(df_train.corr(), cmap=\"RdYlGn\")\n",
    "plt.show()"
   ]
  },
  {
   "cell_type": "markdown",
   "metadata": {},
   "source": [
    "## Step 8: Divide X and Y sets for the model building"
   ]
  },
  {
   "cell_type": "code",
   "execution_count": 63,
   "metadata": {},
   "outputs": [],
   "source": [
    "y_train = df_train.pop('log_price')\n",
    "X_train = df_train"
   ]
  },
  {
   "cell_type": "markdown",
   "metadata": {},
   "source": [
    "## Step 9: Building a Linear Model\n"
   ]
  },
  {
   "cell_type": "markdown",
   "metadata": {},
   "source": [
    "#### We start with \"Mileage\" to understand how significant an impact it has on the value of a car in our model"
   ]
  },
  {
   "cell_type": "code",
   "execution_count": 64,
   "metadata": {},
   "outputs": [],
   "source": [
    "X_train_1 = X_train['Mileage']\n"
   ]
  },
  {
   "cell_type": "code",
   "execution_count": 65,
   "metadata": {},
   "outputs": [],
   "source": [
    "#add constant\n",
    "X_train_1c = sm.add_constant(X_train_1)\n",
    "\n",
    "#create a model \n",
    "\n",
    "# Create a first fitted model\n",
    "lr_1 = sm.OLS(y_train, X_train_1c).fit()"
   ]
  },
  {
   "cell_type": "code",
   "execution_count": 66,
   "metadata": {},
   "outputs": [
    {
     "data": {
      "text/plain": [
       "const      0.00\n",
       "Mileage   -0.63\n",
       "dtype: float64"
      ]
     },
     "execution_count": 66,
     "metadata": {},
     "output_type": "execute_result"
    }
   ],
   "source": [
    "# Check parameters created\n",
    "\n",
    "lr_1.params"
   ]
  },
  {
   "cell_type": "code",
   "execution_count": 67,
   "metadata": {},
   "outputs": [
    {
     "data": {
      "image/png": "[encoded data removed]",
      "text/plain": [
       "<Figure size 576x576 with 1 Axes>"
      ]
     },
     "metadata": {},
     "output_type": "display_data"
    }
   ],
   "source": [
    "# Let's visualise the data with a scatter plot and the fitted regression line\n",
    "\n",
    "plt.scatter(X_train_1c.iloc[:, 1], y_train)\n",
    "plt.plot(X_train_1c.iloc[:, 1], -0.63*X_train_1c.iloc[:, 1], 'r')\n",
    "plt.show()"
   ]
  },
  {
   "cell_type": "code",
   "execution_count": 68,
   "metadata": {},
   "outputs": [
    {
     "name": "stdout",
     "output_type": "stream",
     "text": [
      "                            OLS Regression Results                            \n",
      "==============================================================================\n",
      "Dep. Variable:              log_price   R-squared:                       0.393\n",
      "Model:                            OLS   Adj. R-squared:                  0.392\n",
      "Method:                 Least Squares   F-statistic:                     1766.\n",
      "Date:                Sat, 07 May 2022   Prob (F-statistic):          3.90e-298\n",
      "Time:                        22:42:30   Log-Likelihood:                -3197.8\n",
      "No. Observations:                2734   AIC:                             6400.\n",
      "Df Residuals:                    2732   BIC:                             6411.\n",
      "Df Model:                           1                                         \n",
      "Covariance Type:            nonrobust                                         \n",
      "==============================================================================\n",
      "                 coef    std err          t      P>|t|      [0.025      0.975]\n",
      "------------------------------------------------------------------------------\n",
      "const       4.927e-16      0.015    3.3e-14      1.000      -0.029       0.029\n",
      "Mileage       -0.6266      0.015    -42.024      0.000      -0.656      -0.597\n",
      "==============================================================================\n",
      "Omnibus:                      111.298   Durbin-Watson:                   2.004\n",
      "Prob(Omnibus):                  0.000   Jarque-Bera (JB):              153.868\n",
      "Skew:                          -0.402   Prob(JB):                     3.87e-34\n",
      "Kurtosis:                       3.839   Cond. No.                         1.00\n",
      "==============================================================================\n",
      "\n",
      "Warnings:\n",
      "[1] Standard Errors assume that the covariance matrix of the errors is correctly specified.\n"
     ]
    }
   ],
   "source": [
    "# Print a summary of the linear regression model obtained\n",
    "print(lr_1.summary())"
   ]
  },
  {
   "cell_type": "markdown",
   "metadata": {},
   "source": [
    "Mileage explains about 39% of the variability in our model. Mileage is negatively correlated with price of vehicle"
   ]
  },
  {
   "cell_type": "markdown",
   "metadata": {},
   "source": [
    "#### We Add Another Variable - Engine"
   ]
  },
  {
   "cell_type": "code",
   "execution_count": 69,
   "metadata": {},
   "outputs": [],
   "source": [
    "X_train_2 = X_train[['Mileage', 'EngineV']]"
   ]
  },
  {
   "cell_type": "code",
   "execution_count": 70,
   "metadata": {},
   "outputs": [],
   "source": [
    "#add constant\n",
    "X_train_2c = sm.add_constant(X_train_2)\n",
    "\n",
    "#create a model \n",
    "\n",
    "# Create a first fitted model\n",
    "lr_2 = sm.OLS(y_train, X_train_2c).fit()"
   ]
  },
  {
   "cell_type": "code",
   "execution_count": 71,
   "metadata": {},
   "outputs": [
    {
     "data": {
      "text/plain": [
       "const      0.00\n",
       "Mileage   -0.61\n",
       "EngineV    0.42\n",
       "dtype: float64"
      ]
     },
     "execution_count": 71,
     "metadata": {},
     "output_type": "execute_result"
    }
   ],
   "source": [
    "lr_2.params"
   ]
  },
  {
   "cell_type": "code",
   "execution_count": 72,
   "metadata": {},
   "outputs": [
    {
     "name": "stdout",
     "output_type": "stream",
     "text": [
      "                            OLS Regression Results                            \n",
      "==============================================================================\n",
      "Dep. Variable:              log_price   R-squared:                       0.572\n",
      "Model:                            OLS   Adj. R-squared:                  0.571\n",
      "Method:                 Least Squares   F-statistic:                     1821.\n",
      "Date:                Sat, 07 May 2022   Prob (F-statistic):               0.00\n",
      "Time:                        22:42:30   Log-Likelihood:                -2720.8\n",
      "No. Observations:                2734   AIC:                             5448.\n",
      "Df Residuals:                    2731   BIC:                             5465.\n",
      "Df Model:                           2                                         \n",
      "Covariance Type:            nonrobust                                         \n",
      "==============================================================================\n",
      "                 coef    std err          t      P>|t|      [0.025      0.975]\n",
      "------------------------------------------------------------------------------\n",
      "const       4.927e-16      0.013   3.93e-14      1.000      -0.025       0.025\n",
      "Mileage       -0.6123      0.013    -48.854      0.000      -0.637      -0.588\n",
      "EngineV        0.4232      0.013     33.770      0.000       0.399       0.448\n",
      "==============================================================================\n",
      "Omnibus:                      317.593   Durbin-Watson:                   1.965\n",
      "Prob(Omnibus):                  0.000   Jarque-Bera (JB):              556.495\n",
      "Skew:                          -0.778   Prob(JB):                    1.44e-121\n",
      "Kurtosis:                       4.570   Cond. No.                         1.03\n",
      "==============================================================================\n",
      "\n",
      "Warnings:\n",
      "[1] Standard Errors assume that the covariance matrix of the errors is correctly specified.\n"
     ]
    }
   ],
   "source": [
    "#Print a summary of the linear regression model obtained\n",
    "print(lr_2.summary())"
   ]
  },
  {
   "cell_type": "markdown",
   "metadata": {},
   "source": [
    "Adding Engine further improves model explainibility, accounting for 58% of the variability in Car prices"
   ]
  },
  {
   "cell_type": "markdown",
   "metadata": {},
   "source": [
    "#### We Add Another Variable - Year"
   ]
  },
  {
   "cell_type": "code",
   "execution_count": 101,
   "metadata": {},
   "outputs": [],
   "source": [
    "X_train_3 = X_train[['Mileage','EngineV','Year']]"
   ]
  },
  {
   "cell_type": "code",
   "execution_count": 102,
   "metadata": {},
   "outputs": [],
   "source": [
    "#add constant\n",
    "X_train_3c = sm.add_constant(X_train_3)\n",
    "\n",
    "#create a model \n",
    "\n",
    "# Create a first fitted model\n",
    "lr_3 = sm.OLS(y_train, X_train_3c).fit()"
   ]
  },
  {
   "cell_type": "code",
   "execution_count": 75,
   "metadata": {
    "scrolled": true
   },
   "outputs": [
    {
     "name": "stdout",
     "output_type": "stream",
     "text": [
      "                            OLS Regression Results                            \n",
      "==============================================================================\n",
      "Dep. Variable:              log_price   R-squared:                       0.763\n",
      "Model:                            OLS   Adj. R-squared:                  0.762\n",
      "Method:                 Least Squares   F-statistic:                     2925.\n",
      "Date:                Sat, 07 May 2022   Prob (F-statistic):               0.00\n",
      "Time:                        22:42:30   Log-Likelihood:                -1912.8\n",
      "No. Observations:                2734   AIC:                             3834.\n",
      "Df Residuals:                    2730   BIC:                             3857.\n",
      "Df Model:                           3                                         \n",
      "Covariance Type:            nonrobust                                         \n",
      "==============================================================================\n",
      "                 coef    std err          t      P>|t|      [0.025      0.975]\n",
      "------------------------------------------------------------------------------\n",
      "const       4.927e-16      0.009   5.28e-14      1.000      -0.018       0.018\n",
      "Mileage       -0.1680      0.013    -12.638      0.000      -0.194      -0.142\n",
      "EngineV        0.4327      0.009     46.373      0.000       0.414       0.451\n",
      "Year           0.6232      0.013     46.903      0.000       0.597       0.649\n",
      "==============================================================================\n",
      "Omnibus:                       22.096   Durbin-Watson:                   1.984\n",
      "Prob(Omnibus):                  0.000   Jarque-Bera (JB):               24.303\n",
      "Skew:                          -0.174   Prob(JB):                     5.28e-06\n",
      "Kurtosis:                       3.305   Cond. No.                         2.44\n",
      "==============================================================================\n",
      "\n",
      "Warnings:\n",
      "[1] Standard Errors assume that the covariance matrix of the errors is correctly specified.\n"
     ]
    }
   ],
   "source": [
    "#Print a summary of the linear regression model obtained\n",
    "print(lr_3.summary())"
   ]
  },
  {
   "cell_type": "code",
   "execution_count": 76,
   "metadata": {},
   "outputs": [
    {
     "data": {
      "text/plain": [
       "const      0.00\n",
       "Mileage   -0.17\n",
       "EngineV    0.43\n",
       "Year       0.62\n",
       "dtype: float64"
      ]
     },
     "execution_count": 76,
     "metadata": {},
     "output_type": "execute_result"
    }
   ],
   "source": [
    "lr_3.params"
   ]
  },
  {
   "cell_type": "markdown",
   "metadata": {},
   "source": [
    "With Mileage, EngineV, and Year Variables our Model accounts for 76% of the price variability"
   ]
  },
  {
   "cell_type": "markdown",
   "metadata": {},
   "source": [
    "### Step 10: Add all the remaining features & use Recursive Feature Elimination (RFE) to see if they improve model explainibility \n",
    "### RFE "
   ]
  },
  {
   "cell_type": "code",
   "execution_count": 77,
   "metadata": {},
   "outputs": [],
   "source": [
    "lm = LinearRegression()\n",
    "lm.fit(X_train, y_train)\n",
    "\n",
    "rfe = RFE(lm, 19)             \n",
    "rfe = rfe.fit(X_train, y_train)"
   ]
  },
  {
   "cell_type": "code",
   "execution_count": 78,
   "metadata": {},
   "outputs": [
    {
     "data": {
      "text/plain": [
       "[('Mileage', True, 1),\n",
       " ('EngineV', True, 1),\n",
       " ('Year', True, 1),\n",
       " ('Brand_BMW', False, 2),\n",
       " ('Brand_Mercedes-Benz', True, 1),\n",
       " ('Brand_Mitsubishi', True, 1),\n",
       " ('Brand_Renault', True, 1),\n",
       " ('Brand_Toyota', True, 1),\n",
       " ('Brand_Volkswagen', True, 1),\n",
       " ('Body_hatch', True, 1),\n",
       " ('Body_other', True, 1),\n",
       " ('Body_sedan', True, 1),\n",
       " ('Body_vagon', True, 1),\n",
       " ('Body_van', True, 1),\n",
       " ('Engine Type_Gas', True, 1),\n",
       " ('Engine Type_Other', True, 1),\n",
       " ('Engine Type_Petrol', True, 1),\n",
       " ('Registration_yes', True, 1),\n",
       " ('Cars_Category_Medium_Range', True, 1),\n",
       " ('Cars_Category_High_End', True, 1)]"
      ]
     },
     "execution_count": 78,
     "metadata": {},
     "output_type": "execute_result"
    }
   ],
   "source": [
    "list(zip(X_train.columns,rfe.support_,rfe.ranking_))"
   ]
  },
  {
   "cell_type": "code",
   "execution_count": 79,
   "metadata": {},
   "outputs": [
    {
     "data": {
      "text/plain": [
       "Index(['Mileage', 'EngineV', 'Year', 'Brand_Mercedes-Benz', 'Brand_Mitsubishi',\n",
       "       'Brand_Renault', 'Brand_Toyota', 'Brand_Volkswagen', 'Body_hatch',\n",
       "       'Body_other', 'Body_sedan', 'Body_vagon', 'Body_van', 'Engine Type_Gas',\n",
       "       'Engine Type_Other', 'Engine Type_Petrol', 'Registration_yes',\n",
       "       'Cars_Category_Medium_Range', 'Cars_Category_High_End'],\n",
       "      dtype='object')"
      ]
     },
     "execution_count": 79,
     "metadata": {},
     "output_type": "execute_result"
    }
   ],
   "source": [
    "col_sup = X_train.columns[rfe.support_]\n",
    "col_sup"
   ]
  },
  {
   "cell_type": "code",
   "execution_count": 80,
   "metadata": {},
   "outputs": [],
   "source": [
    "X_train_rfe = X_train[col_sup]"
   ]
  },
  {
   "cell_type": "code",
   "execution_count": 81,
   "metadata": {},
   "outputs": [
    {
     "name": "stdout",
     "output_type": "stream",
     "text": [
      "                            OLS Regression Results                            \n",
      "==============================================================================\n",
      "Dep. Variable:              log_price   R-squared:                       0.895\n",
      "Model:                            OLS   Adj. R-squared:                  0.894\n",
      "Method:                 Least Squares   F-statistic:                     1216.\n",
      "Date:                Sat, 07 May 2022   Prob (F-statistic):               0.00\n",
      "Time:                        22:42:30   Log-Likelihood:                -800.28\n",
      "No. Observations:                2734   AIC:                             1641.\n",
      "Df Residuals:                    2714   BIC:                             1759.\n",
      "Df Model:                          19                                         \n",
      "Covariance Type:            nonrobust                                         \n",
      "==============================================================================================\n",
      "                                 coef    std err          t      P>|t|      [0.025      0.975]\n",
      "----------------------------------------------------------------------------------------------\n",
      "const                         -0.5641      0.031    -18.341      0.000      -0.624      -0.504\n",
      "Mileage                       -0.1114      0.010    -11.429      0.000      -0.130      -0.092\n",
      "EngineV                        0.1980      0.009     22.782      0.000       0.181       0.215\n",
      "Year                           0.5390      0.010     55.117      0.000       0.520       0.558\n",
      "Brand_Mercedes-Benz            0.0292      0.020      1.443      0.149      -0.010       0.069\n",
      "Brand_Mitsubishi              -0.3900      0.029    -13.240      0.000      -0.448      -0.332\n",
      "Brand_Renault                 -0.6539      0.026    -25.115      0.000      -0.705      -0.603\n",
      "Brand_Toyota                  -0.1651      0.024     -6.998      0.000      -0.211      -0.119\n",
      "Brand_Volkswagen              -0.2655      0.020    -13.122      0.000      -0.305      -0.226\n",
      "Body_hatch                    -0.2541      0.032     -7.883      0.000      -0.317      -0.191\n",
      "Body_other                    -0.1221      0.027     -4.591      0.000      -0.174      -0.070\n",
      "Body_sedan                    -0.1454      0.021     -6.929      0.000      -0.187      -0.104\n",
      "Body_vagon                    -0.1969      0.029     -6.822      0.000      -0.254      -0.140\n",
      "Body_van                      -0.2538      0.027     -9.483      0.000      -0.306      -0.201\n",
      "Engine Type_Gas               -0.1240      0.022     -5.684      0.000      -0.167      -0.081\n",
      "Engine Type_Other             -0.1107      0.039     -2.833      0.005      -0.187      -0.034\n",
      "Engine Type_Petrol            -0.1314      0.017     -7.875      0.000      -0.164      -0.099\n",
      "Registration_yes               0.9260      0.024     38.246      0.000       0.879       0.974\n",
      "Cars_Category_Medium_Range     0.3629      0.021     17.533      0.000       0.322       0.404\n",
      "Cars_Category_High_End         0.9791      0.066     14.756      0.000       0.849       1.109\n",
      "==============================================================================\n",
      "Omnibus:                      260.107   Durbin-Watson:                   1.977\n",
      "Prob(Omnibus):                  0.000   Jarque-Bera (JB):             1353.955\n",
      "Skew:                          -0.295   Prob(JB):                    9.83e-295\n",
      "Kurtosis:                       6.397   Cond. No.                         17.2\n",
      "==============================================================================\n",
      "\n",
      "Warnings:\n",
      "[1] Standard Errors assume that the covariance matrix of the errors is correctly specified.\n"
     ]
    }
   ],
   "source": [
    "# Adding a constant variable and Build a first fitted model\n",
    "import statsmodels.api as sm  \n",
    "X_train_rfec = sm.add_constant(X_train_rfe)\n",
    "lm_rfe = sm.OLS(y_train,X_train_rfec).fit()\n",
    "\n",
    "#Summary of linear model\n",
    "print(lm_rfe.summary())\n"
   ]
  },
  {
   "cell_type": "code",
   "execution_count": 82,
   "metadata": {},
   "outputs": [
    {
     "data": {
      "text/html": [
       "<div>\n",
       "<style scoped>\n",
       "    .dataframe tbody tr th:only-of-type {\n",
       "        vertical-align: middle;\n",
       "    }\n",
       "\n",
       "    .dataframe tbody tr th {\n",
       "        vertical-align: top;\n",
       "    }\n",
       "\n",
       "    .dataframe thead th {\n",
       "        text-align: right;\n",
       "    }\n",
       "</style>\n",
       "<table border=\"1\" class=\"dataframe\">\n",
       "  <thead>\n",
       "    <tr style=\"text-align: right;\">\n",
       "      <th></th>\n",
       "      <th>Features</th>\n",
       "      <th>VIF</th>\n",
       "    </tr>\n",
       "  </thead>\n",
       "  <tbody>\n",
       "    <tr>\n",
       "      <th>16</th>\n",
       "      <td>Registration_yes</td>\n",
       "      <td>8.99</td>\n",
       "    </tr>\n",
       "    <tr>\n",
       "      <th>10</th>\n",
       "      <td>Body_sedan</td>\n",
       "      <td>2.99</td>\n",
       "    </tr>\n",
       "    <tr>\n",
       "      <th>15</th>\n",
       "      <td>Engine Type_Petrol</td>\n",
       "      <td>2.59</td>\n",
       "    </tr>\n",
       "    <tr>\n",
       "      <th>12</th>\n",
       "      <td>Body_van</td>\n",
       "      <td>2.50</td>\n",
       "    </tr>\n",
       "    <tr>\n",
       "      <th>0</th>\n",
       "      <td>Mileage</td>\n",
       "      <td>2.44</td>\n",
       "    </tr>\n",
       "    <tr>\n",
       "      <th>2</th>\n",
       "      <td>Year</td>\n",
       "      <td>2.44</td>\n",
       "    </tr>\n",
       "    <tr>\n",
       "      <th>17</th>\n",
       "      <td>Cars_Category_Medium_Range</td>\n",
       "      <td>2.42</td>\n",
       "    </tr>\n",
       "    <tr>\n",
       "      <th>7</th>\n",
       "      <td>Brand_Volkswagen</td>\n",
       "      <td>2.24</td>\n",
       "    </tr>\n",
       "    <tr>\n",
       "      <th>3</th>\n",
       "      <td>Brand_Mercedes-Benz</td>\n",
       "      <td>1.99</td>\n",
       "    </tr>\n",
       "    <tr>\n",
       "      <th>1</th>\n",
       "      <td>EngineV</td>\n",
       "      <td>1.95</td>\n",
       "    </tr>\n",
       "    <tr>\n",
       "      <th>5</th>\n",
       "      <td>Brand_Renault</td>\n",
       "      <td>1.90</td>\n",
       "    </tr>\n",
       "    <tr>\n",
       "      <th>13</th>\n",
       "      <td>Engine Type_Gas</td>\n",
       "      <td>1.72</td>\n",
       "    </tr>\n",
       "    <tr>\n",
       "      <th>6</th>\n",
       "      <td>Brand_Toyota</td>\n",
       "      <td>1.67</td>\n",
       "    </tr>\n",
       "    <tr>\n",
       "      <th>8</th>\n",
       "      <td>Body_hatch</td>\n",
       "      <td>1.58</td>\n",
       "    </tr>\n",
       "    <tr>\n",
       "      <th>9</th>\n",
       "      <td>Body_other</td>\n",
       "      <td>1.53</td>\n",
       "    </tr>\n",
       "    <tr>\n",
       "      <th>4</th>\n",
       "      <td>Brand_Mitsubishi</td>\n",
       "      <td>1.48</td>\n",
       "    </tr>\n",
       "    <tr>\n",
       "      <th>11</th>\n",
       "      <td>Body_vagon</td>\n",
       "      <td>1.46</td>\n",
       "    </tr>\n",
       "    <tr>\n",
       "      <th>18</th>\n",
       "      <td>Cars_Category_High_End</td>\n",
       "      <td>1.22</td>\n",
       "    </tr>\n",
       "    <tr>\n",
       "      <th>14</th>\n",
       "      <td>Engine Type_Other</td>\n",
       "      <td>1.09</td>\n",
       "    </tr>\n",
       "  </tbody>\n",
       "</table>\n",
       "</div>"
      ],
      "text/plain": [
       "                      Features  VIF\n",
       "16            Registration_yes 8.99\n",
       "10                  Body_sedan 2.99\n",
       "15          Engine Type_Petrol 2.59\n",
       "12                    Body_van 2.50\n",
       "0                      Mileage 2.44\n",
       "2                         Year 2.44\n",
       "17  Cars_Category_Medium_Range 2.42\n",
       "7             Brand_Volkswagen 2.24\n",
       "3          Brand_Mercedes-Benz 1.99\n",
       "1                      EngineV 1.95\n",
       "5                Brand_Renault 1.90\n",
       "13             Engine Type_Gas 1.72\n",
       "6                 Brand_Toyota 1.67\n",
       "8                   Body_hatch 1.58\n",
       "9                   Body_other 1.53\n",
       "4             Brand_Mitsubishi 1.48\n",
       "11                  Body_vagon 1.46\n",
       "18      Cars_Category_High_End 1.22\n",
       "14           Engine Type_Other 1.09"
      ]
     },
     "execution_count": 82,
     "metadata": {},
     "output_type": "execute_result"
    }
   ],
   "source": [
    "# Create a dataframe that will contain the names of all the feature variables and their respective VIFs\n",
    "vif = pd.DataFrame()\n",
    "vif['Features'] = X_train_rfe.columns\n",
    "vif['VIF'] = [variance_inflation_factor(X_train_rfe.values, i) for i in range(X_train_rfe.shape[1])]\n",
    "vif['VIF'] = round(vif['VIF'], 2)\n",
    "vif = vif.sort_values(by = \"VIF\", ascending = False)\n",
    "vif\n"
   ]
  },
  {
   "cell_type": "code",
   "execution_count": 83,
   "metadata": {},
   "outputs": [
    {
     "name": "stdout",
     "output_type": "stream",
     "text": [
      "                            OLS Regression Results                            \n",
      "==============================================================================\n",
      "Dep. Variable:              log_price   R-squared:                       0.895\n",
      "Model:                            OLS   Adj. R-squared:                  0.894\n",
      "Method:                 Least Squares   F-statistic:                     1283.\n",
      "Date:                Sat, 07 May 2022   Prob (F-statistic):               0.00\n",
      "Time:                        22:42:30   Log-Likelihood:                -801.33\n",
      "No. Observations:                2734   AIC:                             1641.\n",
      "Df Residuals:                    2715   BIC:                             1753.\n",
      "Df Model:                          18                                         \n",
      "Covariance Type:            nonrobust                                         \n",
      "==============================================================================================\n",
      "                                 coef    std err          t      P>|t|      [0.025      0.975]\n",
      "----------------------------------------------------------------------------------------------\n",
      "const                         -0.5544      0.030    -18.466      0.000      -0.613      -0.496\n",
      "Mileage                       -0.1113      0.010    -11.420      0.000      -0.130      -0.092\n",
      "EngineV                        0.2000      0.009     23.308      0.000       0.183       0.217\n",
      "Year                           0.5397      0.010     55.254      0.000       0.521       0.559\n",
      "Brand_Mitsubishi              -0.4031      0.028    -14.381      0.000      -0.458      -0.348\n",
      "Brand_Renault                 -0.6684      0.024    -27.797      0.000      -0.716      -0.621\n",
      "Brand_Toyota                  -0.1780      0.022     -8.137      0.000      -0.221      -0.135\n",
      "Brand_Volkswagen              -0.2791      0.018    -15.555      0.000      -0.314      -0.244\n",
      "Body_hatch                    -0.2514      0.032     -7.810      0.000      -0.315      -0.188\n",
      "Body_other                    -0.1179      0.026     -4.458      0.000      -0.170      -0.066\n",
      "Body_sedan                    -0.1444      0.021     -6.883      0.000      -0.186      -0.103\n",
      "Body_vagon                    -0.1985      0.029     -6.880      0.000      -0.255      -0.142\n",
      "Body_van                      -0.2485      0.027     -9.372      0.000      -0.300      -0.197\n",
      "Engine Type_Gas               -0.1244      0.022     -5.702      0.000      -0.167      -0.082\n",
      "Engine Type_Other             -0.1110      0.039     -2.840      0.005      -0.188      -0.034\n",
      "Engine Type_Petrol            -0.1332      0.017     -8.012      0.000      -0.166      -0.101\n",
      "Registration_yes               0.9303      0.024     38.700      0.000       0.883       0.977\n",
      "Cars_Category_Medium_Range     0.3574      0.020     17.564      0.000       0.318       0.397\n",
      "Cars_Category_High_End         0.9900      0.066     15.014      0.000       0.861       1.119\n",
      "==============================================================================\n",
      "Omnibus:                      257.172   Durbin-Watson:                   1.976\n",
      "Prob(Omnibus):                  0.000   Jarque-Bera (JB):             1355.846\n",
      "Skew:                          -0.281   Prob(JB):                    3.82e-295\n",
      "Kurtosis:                       6.404   Cond. No.                         17.0\n",
      "==============================================================================\n",
      "\n",
      "Warnings:\n",
      "[1] Standard Errors assume that the covariance matrix of the errors is correctly specified.\n"
     ]
    }
   ],
   "source": [
    "# Dropping highly correlated variables and insignificant variables\n",
    "\n",
    "X_train_rfe1 = X_train_rfe.drop('Brand_Mercedes-Benz', 1,)\n",
    "\n",
    "# Adding a constant variable and Build a second fitted model\n",
    "\n",
    "X_train_rfe1c = sm.add_constant(X_train_rfe1)\n",
    "lm_rfe1 = sm.OLS(y_train, X_train_rfe1c).fit()\n",
    "\n",
    "#Summary of linear model\n",
    "print(lm_rfe1.summary())"
   ]
  },
  {
   "cell_type": "code",
   "execution_count": 84,
   "metadata": {},
   "outputs": [
    {
     "data": {
      "text/html": [
       "<div>\n",
       "<style scoped>\n",
       "    .dataframe tbody tr th:only-of-type {\n",
       "        vertical-align: middle;\n",
       "    }\n",
       "\n",
       "    .dataframe tbody tr th {\n",
       "        vertical-align: top;\n",
       "    }\n",
       "\n",
       "    .dataframe thead th {\n",
       "        text-align: right;\n",
       "    }\n",
       "</style>\n",
       "<table border=\"1\" class=\"dataframe\">\n",
       "  <thead>\n",
       "    <tr style=\"text-align: right;\">\n",
       "      <th></th>\n",
       "      <th>Features</th>\n",
       "      <th>VIF</th>\n",
       "    </tr>\n",
       "  </thead>\n",
       "  <tbody>\n",
       "    <tr>\n",
       "      <th>16</th>\n",
       "      <td>Cars_Category_Medium_Range</td>\n",
       "      <td>8.99</td>\n",
       "    </tr>\n",
       "    <tr>\n",
       "      <th>10</th>\n",
       "      <td>Body_vagon</td>\n",
       "      <td>2.99</td>\n",
       "    </tr>\n",
       "    <tr>\n",
       "      <th>15</th>\n",
       "      <td>Registration_yes</td>\n",
       "      <td>2.59</td>\n",
       "    </tr>\n",
       "    <tr>\n",
       "      <th>12</th>\n",
       "      <td>Engine Type_Gas</td>\n",
       "      <td>2.50</td>\n",
       "    </tr>\n",
       "    <tr>\n",
       "      <th>0</th>\n",
       "      <td>Mileage</td>\n",
       "      <td>2.44</td>\n",
       "    </tr>\n",
       "    <tr>\n",
       "      <th>2</th>\n",
       "      <td>Year</td>\n",
       "      <td>2.44</td>\n",
       "    </tr>\n",
       "    <tr>\n",
       "      <th>17</th>\n",
       "      <td>Cars_Category_High_End</td>\n",
       "      <td>2.42</td>\n",
       "    </tr>\n",
       "    <tr>\n",
       "      <th>7</th>\n",
       "      <td>Body_hatch</td>\n",
       "      <td>2.24</td>\n",
       "    </tr>\n",
       "    <tr>\n",
       "      <th>3</th>\n",
       "      <td>Brand_Mitsubishi</td>\n",
       "      <td>1.99</td>\n",
       "    </tr>\n",
       "    <tr>\n",
       "      <th>1</th>\n",
       "      <td>EngineV</td>\n",
       "      <td>1.95</td>\n",
       "    </tr>\n",
       "    <tr>\n",
       "      <th>5</th>\n",
       "      <td>Brand_Toyota</td>\n",
       "      <td>1.90</td>\n",
       "    </tr>\n",
       "    <tr>\n",
       "      <th>13</th>\n",
       "      <td>Engine Type_Other</td>\n",
       "      <td>1.72</td>\n",
       "    </tr>\n",
       "    <tr>\n",
       "      <th>6</th>\n",
       "      <td>Brand_Volkswagen</td>\n",
       "      <td>1.67</td>\n",
       "    </tr>\n",
       "    <tr>\n",
       "      <th>8</th>\n",
       "      <td>Body_other</td>\n",
       "      <td>1.58</td>\n",
       "    </tr>\n",
       "    <tr>\n",
       "      <th>9</th>\n",
       "      <td>Body_sedan</td>\n",
       "      <td>1.53</td>\n",
       "    </tr>\n",
       "    <tr>\n",
       "      <th>4</th>\n",
       "      <td>Brand_Renault</td>\n",
       "      <td>1.48</td>\n",
       "    </tr>\n",
       "    <tr>\n",
       "      <th>11</th>\n",
       "      <td>Body_van</td>\n",
       "      <td>1.46</td>\n",
       "    </tr>\n",
       "    <tr>\n",
       "      <th>14</th>\n",
       "      <td>Engine Type_Petrol</td>\n",
       "      <td>1.09</td>\n",
       "    </tr>\n",
       "  </tbody>\n",
       "</table>\n",
       "</div>"
      ],
      "text/plain": [
       "                      Features  VIF\n",
       "16  Cars_Category_Medium_Range 8.99\n",
       "10                  Body_vagon 2.99\n",
       "15            Registration_yes 2.59\n",
       "12             Engine Type_Gas 2.50\n",
       "0                      Mileage 2.44\n",
       "2                         Year 2.44\n",
       "17      Cars_Category_High_End 2.42\n",
       "7                   Body_hatch 2.24\n",
       "3             Brand_Mitsubishi 1.99\n",
       "1                      EngineV 1.95\n",
       "5                 Brand_Toyota 1.90\n",
       "13           Engine Type_Other 1.72\n",
       "6             Brand_Volkswagen 1.67\n",
       "8                   Body_other 1.58\n",
       "9                   Body_sedan 1.53\n",
       "4                Brand_Renault 1.48\n",
       "11                    Body_van 1.46\n",
       "14          Engine Type_Petrol 1.09"
      ]
     },
     "execution_count": 84,
     "metadata": {},
     "output_type": "execute_result"
    }
   ],
   "source": [
    "# Create a dataframe that will contain the names of all the feature variables and their respective VIFs\n",
    "vif = pd.DataFrame()\n",
    "vif['Features'] = X_train_rfe1.columns\n",
    "vif['VIF'] = [variance_inflation_factor(X_train_rfe.values, i) for i in range(X_train_rfe1.shape[1])]\n",
    "vif['VIF'] = round(vif['VIF'], 2)\n",
    "vif = vif.sort_values(by = \"VIF\", ascending = False)\n",
    "vif\n"
   ]
  },
  {
   "cell_type": "code",
   "execution_count": 85,
   "metadata": {},
   "outputs": [
    {
     "name": "stdout",
     "output_type": "stream",
     "text": [
      "                            OLS Regression Results                            \n",
      "==============================================================================\n",
      "Dep. Variable:              log_price   R-squared:                       0.883\n",
      "Model:                            OLS   Adj. R-squared:                  0.882\n",
      "Method:                 Least Squares   F-statistic:                     1204.\n",
      "Date:                Sat, 07 May 2022   Prob (F-statistic):               0.00\n",
      "Time:                        22:42:31   Log-Likelihood:                -948.45\n",
      "No. Observations:                2734   AIC:                             1933.\n",
      "Df Residuals:                    2716   BIC:                             2039.\n",
      "Df Model:                          17                                         \n",
      "Covariance Type:            nonrobust                                         \n",
      "==========================================================================================\n",
      "                             coef    std err          t      P>|t|      [0.025      0.975]\n",
      "------------------------------------------------------------------------------------------\n",
      "const                     -0.3261      0.029    -11.419      0.000      -0.382      -0.270\n",
      "Mileage                   -0.1346      0.010    -13.214      0.000      -0.155      -0.115\n",
      "EngineV                    0.2579      0.008     30.853      0.000       0.241       0.274\n",
      "Year                       0.5612      0.010     54.886      0.000       0.541       0.581\n",
      "Brand_Mitsubishi          -0.5656      0.028    -20.261      0.000      -0.620      -0.511\n",
      "Brand_Renault             -0.7385      0.025    -29.518      0.000      -0.788      -0.689\n",
      "Brand_Toyota              -0.2681      0.022    -11.954      0.000      -0.312      -0.224\n",
      "Brand_Volkswagen          -0.3020      0.019    -15.999      0.000      -0.339      -0.265\n",
      "Body_hatch                -0.3764      0.033    -11.364      0.000      -0.441      -0.311\n",
      "Body_other                -0.2331      0.027     -8.624      0.000      -0.286      -0.180\n",
      "Body_sedan                -0.2777      0.021    -13.459      0.000      -0.318      -0.237\n",
      "Body_vagon                -0.3286      0.029    -11.168      0.000      -0.386      -0.271\n",
      "Body_van                  -0.4098      0.026    -15.613      0.000      -0.461      -0.358\n",
      "Engine Type_Gas           -0.1261      0.023     -5.478      0.000      -0.171      -0.081\n",
      "Engine Type_Other         -0.0797      0.041     -1.936      0.053      -0.160       0.001\n",
      "Engine Type_Petrol        -0.1303      0.018     -7.427      0.000      -0.165      -0.096\n",
      "Registration_yes           0.9485      0.025     37.433      0.000       0.899       0.998\n",
      "Cars_Category_High_End     0.6075      0.066      9.251      0.000       0.479       0.736\n",
      "==============================================================================\n",
      "Omnibus:                      233.413   Durbin-Watson:                   1.978\n",
      "Prob(Omnibus):                  0.000   Jarque-Bera (JB):             1429.667\n",
      "Skew:                          -0.082   Prob(JB):                    3.56e-311\n",
      "Kurtosis:                       6.539   Cond. No.                         15.3\n",
      "==============================================================================\n",
      "\n",
      "Warnings:\n",
      "[1] Standard Errors assume that the covariance matrix of the errors is correctly specified.\n"
     ]
    }
   ],
   "source": [
    "# Dropping highly correlated variables and insignificant variables\n",
    "\n",
    "X_train_rfe2 = X_train_rfe1.drop('Cars_Category_Medium_Range', 1,)\n",
    "\n",
    "# Adding a constant variable and Build a second fitted model\n",
    "\n",
    "X_train_rfe2c = sm.add_constant(X_train_rfe2)\n",
    "lm_rfe2 = sm.OLS(y_train, X_train_rfe2c).fit()\n",
    "\n",
    "#Summary of linear model\n",
    "print(lm_rfe2.summary())"
   ]
  },
  {
   "cell_type": "code",
   "execution_count": 86,
   "metadata": {},
   "outputs": [
    {
     "name": "stdout",
     "output_type": "stream",
     "text": [
      "                            OLS Regression Results                            \n",
      "==============================================================================\n",
      "Dep. Variable:              log_price   R-squared:                       0.883\n",
      "Model:                            OLS   Adj. R-squared:                  0.882\n",
      "Method:                 Least Squares   F-statistic:                     1277.\n",
      "Date:                Sat, 07 May 2022   Prob (F-statistic):               0.00\n",
      "Time:                        22:42:31   Log-Likelihood:                -950.33\n",
      "No. Observations:                2734   AIC:                             1935.\n",
      "Df Residuals:                    2717   BIC:                             2035.\n",
      "Df Model:                          16                                         \n",
      "Covariance Type:            nonrobust                                         \n",
      "==========================================================================================\n",
      "                             coef    std err          t      P>|t|      [0.025      0.975]\n",
      "------------------------------------------------------------------------------------------\n",
      "const                     -0.3277      0.029    -11.476      0.000      -0.384      -0.272\n",
      "Mileage                   -0.1339      0.010    -13.145      0.000      -0.154      -0.114\n",
      "EngineV                    0.2578      0.008     30.823      0.000       0.241       0.274\n",
      "Year                       0.5619      0.010     54.960      0.000       0.542       0.582\n",
      "Brand_Mitsubishi          -0.5674      0.028    -20.325      0.000      -0.622      -0.513\n",
      "Brand_Renault             -0.7381      0.025    -29.489      0.000      -0.787      -0.689\n",
      "Brand_Toyota              -0.2708      0.022    -12.089      0.000      -0.315      -0.227\n",
      "Brand_Volkswagen          -0.3015      0.019    -15.964      0.000      -0.339      -0.264\n",
      "Body_hatch                -0.3829      0.033    -11.614      0.000      -0.448      -0.318\n",
      "Body_other                -0.2356      0.027     -8.722      0.000      -0.289      -0.183\n",
      "Body_sedan                -0.2816      0.021    -13.709      0.000      -0.322      -0.241\n",
      "Body_vagon                -0.3302      0.029    -11.223      0.000      -0.388      -0.273\n",
      "Body_van                  -0.4093      0.026    -15.586      0.000      -0.461      -0.358\n",
      "Engine Type_Gas           -0.1191      0.023     -5.237      0.000      -0.164      -0.075\n",
      "Engine Type_Petrol        -0.1231      0.017     -7.175      0.000      -0.157      -0.089\n",
      "Registration_yes           0.9467      0.025     37.368      0.000       0.897       0.996\n",
      "Cars_Category_High_End     0.6080      0.066      9.255      0.000       0.479       0.737\n",
      "==============================================================================\n",
      "Omnibus:                      232.006   Durbin-Watson:                   1.980\n",
      "Prob(Omnibus):                  0.000   Jarque-Bera (JB):             1414.575\n",
      "Skew:                          -0.078   Prob(JB):                    6.74e-308\n",
      "Kurtosis:                       6.520   Cond. No.                         15.3\n",
      "==============================================================================\n",
      "\n",
      "Warnings:\n",
      "[1] Standard Errors assume that the covariance matrix of the errors is correctly specified.\n"
     ]
    }
   ],
   "source": [
    "# Dropping highly correlated variables and insignificant variables\n",
    "\n",
    "X_train_rfe3 = X_train_rfe2.drop('Engine Type_Other', 1,)\n",
    "\n",
    "# Adding a constant variable and Build a second fitted model\n",
    "\n",
    "X_train_rfe3c = sm.add_constant(X_train_rfe3)\n",
    "lm_rfe3 = sm.OLS(y_train, X_train_rfe3c).fit()\n",
    "\n",
    "#Summary of linear model\n",
    "print(lm_rfe3.summary())"
   ]
  },
  {
   "cell_type": "code",
   "execution_count": 87,
   "metadata": {},
   "outputs": [
    {
     "data": {
      "text/html": [
       "<div>\n",
       "<style scoped>\n",
       "    .dataframe tbody tr th:only-of-type {\n",
       "        vertical-align: middle;\n",
       "    }\n",
       "\n",
       "    .dataframe tbody tr th {\n",
       "        vertical-align: top;\n",
       "    }\n",
       "\n",
       "    .dataframe thead th {\n",
       "        text-align: right;\n",
       "    }\n",
       "</style>\n",
       "<table border=\"1\" class=\"dataframe\">\n",
       "  <thead>\n",
       "    <tr style=\"text-align: right;\">\n",
       "      <th></th>\n",
       "      <th>Features</th>\n",
       "      <th>VIF</th>\n",
       "    </tr>\n",
       "  </thead>\n",
       "  <tbody>\n",
       "    <tr>\n",
       "      <th>10</th>\n",
       "      <td>Body_vagon</td>\n",
       "      <td>2.99</td>\n",
       "    </tr>\n",
       "    <tr>\n",
       "      <th>15</th>\n",
       "      <td>Cars_Category_High_End</td>\n",
       "      <td>2.59</td>\n",
       "    </tr>\n",
       "    <tr>\n",
       "      <th>12</th>\n",
       "      <td>Engine Type_Gas</td>\n",
       "      <td>2.50</td>\n",
       "    </tr>\n",
       "    <tr>\n",
       "      <th>0</th>\n",
       "      <td>Mileage</td>\n",
       "      <td>2.44</td>\n",
       "    </tr>\n",
       "    <tr>\n",
       "      <th>2</th>\n",
       "      <td>Year</td>\n",
       "      <td>2.44</td>\n",
       "    </tr>\n",
       "    <tr>\n",
       "      <th>7</th>\n",
       "      <td>Body_hatch</td>\n",
       "      <td>2.24</td>\n",
       "    </tr>\n",
       "    <tr>\n",
       "      <th>3</th>\n",
       "      <td>Brand_Mitsubishi</td>\n",
       "      <td>1.99</td>\n",
       "    </tr>\n",
       "    <tr>\n",
       "      <th>1</th>\n",
       "      <td>EngineV</td>\n",
       "      <td>1.95</td>\n",
       "    </tr>\n",
       "    <tr>\n",
       "      <th>5</th>\n",
       "      <td>Brand_Toyota</td>\n",
       "      <td>1.90</td>\n",
       "    </tr>\n",
       "    <tr>\n",
       "      <th>13</th>\n",
       "      <td>Engine Type_Petrol</td>\n",
       "      <td>1.72</td>\n",
       "    </tr>\n",
       "    <tr>\n",
       "      <th>6</th>\n",
       "      <td>Brand_Volkswagen</td>\n",
       "      <td>1.67</td>\n",
       "    </tr>\n",
       "    <tr>\n",
       "      <th>8</th>\n",
       "      <td>Body_other</td>\n",
       "      <td>1.58</td>\n",
       "    </tr>\n",
       "    <tr>\n",
       "      <th>9</th>\n",
       "      <td>Body_sedan</td>\n",
       "      <td>1.53</td>\n",
       "    </tr>\n",
       "    <tr>\n",
       "      <th>4</th>\n",
       "      <td>Brand_Renault</td>\n",
       "      <td>1.48</td>\n",
       "    </tr>\n",
       "    <tr>\n",
       "      <th>11</th>\n",
       "      <td>Body_van</td>\n",
       "      <td>1.46</td>\n",
       "    </tr>\n",
       "    <tr>\n",
       "      <th>14</th>\n",
       "      <td>Registration_yes</td>\n",
       "      <td>1.09</td>\n",
       "    </tr>\n",
       "  </tbody>\n",
       "</table>\n",
       "</div>"
      ],
      "text/plain": [
       "                  Features  VIF\n",
       "10              Body_vagon 2.99\n",
       "15  Cars_Category_High_End 2.59\n",
       "12         Engine Type_Gas 2.50\n",
       "0                  Mileage 2.44\n",
       "2                     Year 2.44\n",
       "7               Body_hatch 2.24\n",
       "3         Brand_Mitsubishi 1.99\n",
       "1                  EngineV 1.95\n",
       "5             Brand_Toyota 1.90\n",
       "13      Engine Type_Petrol 1.72\n",
       "6         Brand_Volkswagen 1.67\n",
       "8               Body_other 1.58\n",
       "9               Body_sedan 1.53\n",
       "4            Brand_Renault 1.48\n",
       "11                Body_van 1.46\n",
       "14        Registration_yes 1.09"
      ]
     },
     "execution_count": 87,
     "metadata": {},
     "output_type": "execute_result"
    }
   ],
   "source": [
    "# Create a dataframe that will contain the names of all the feature variables and their respective VIFs\n",
    "vif = pd.DataFrame()\n",
    "vif['Features'] = X_train_rfe3.columns\n",
    "vif['VIF'] = [variance_inflation_factor(X_train_rfe.values, i) for i in range(X_train_rfe3.shape[1])]\n",
    "vif['VIF'] = round(vif['VIF'], 2)\n",
    "vif = vif.sort_values(by = \"VIF\", ascending = False)\n",
    "vif\n"
   ]
  },
  {
   "cell_type": "code",
   "execution_count": 88,
   "metadata": {},
   "outputs": [
    {
     "name": "stdout",
     "output_type": "stream",
     "text": [
      "                            OLS Regression Results                            \n",
      "==============================================================================\n",
      "Dep. Variable:              log_price   R-squared:                       0.875\n",
      "Model:                            OLS   Adj. R-squared:                  0.874\n",
      "Method:                 Least Squares   F-statistic:                     1263.\n",
      "Date:                Sat, 07 May 2022   Prob (F-statistic):               0.00\n",
      "Time:                        22:42:31   Log-Likelihood:                -1041.8\n",
      "No. Observations:                2734   AIC:                             2116.\n",
      "Df Residuals:                    2718   BIC:                             2210.\n",
      "Df Model:                          15                                         \n",
      "Covariance Type:            nonrobust                                         \n",
      "==========================================================================================\n",
      "                             coef    std err          t      P>|t|      [0.025      0.975]\n",
      "------------------------------------------------------------------------------------------\n",
      "const                     -0.5172      0.026    -20.020      0.000      -0.568      -0.467\n",
      "Mileage                   -0.1482      0.010    -14.145      0.000      -0.169      -0.128\n",
      "EngineV                    0.2927      0.008     35.548      0.000       0.277       0.309\n",
      "Year                       0.5768      0.011     54.879      0.000       0.556       0.597\n",
      "Brand_Mitsubishi          -0.4942      0.028    -17.447      0.000      -0.550      -0.439\n",
      "Brand_Renault             -0.7254      0.026    -28.053      0.000      -0.776      -0.675\n",
      "Brand_Toyota              -0.2276      0.023     -9.927      0.000      -0.273      -0.183\n",
      "Brand_Volkswagen          -0.2880      0.019    -14.769      0.000      -0.326      -0.250\n",
      "Body_hatch                -0.1598      0.030     -5.390      0.000      -0.218      -0.102\n",
      "Body_other                -0.0460      0.024     -1.918      0.055      -0.093       0.001\n",
      "Body_vagon                -0.1226      0.026     -4.700      0.000      -0.174      -0.071\n",
      "Body_van                  -0.2185      0.023     -9.492      0.000      -0.264      -0.173\n",
      "Engine Type_Gas           -0.1452      0.023     -6.197      0.000      -0.191      -0.099\n",
      "Engine Type_Petrol        -0.1761      0.017    -10.197      0.000      -0.210      -0.142\n",
      "Registration_yes           0.9564      0.026     36.532      0.000       0.905       1.008\n",
      "Cars_Category_High_End     0.6370      0.068      9.384      0.000       0.504       0.770\n",
      "==============================================================================\n",
      "Omnibus:                      191.912   Durbin-Watson:                   1.961\n",
      "Prob(Omnibus):                  0.000   Jarque-Bera (JB):              790.436\n",
      "Skew:                          -0.213   Prob(JB):                    2.29e-172\n",
      "Kurtosis:                       5.600   Cond. No.                         14.8\n",
      "==============================================================================\n",
      "\n",
      "Warnings:\n",
      "[1] Standard Errors assume that the covariance matrix of the errors is correctly specified.\n"
     ]
    }
   ],
   "source": [
    "# Dropping highly correlated variables and insignificant variables\n",
    "\n",
    "X_train_rfe4 = X_train_rfe3.drop('Body_sedan', 1,)\n",
    "\n",
    "# Adding a constant variable and Build a second fitted model\n",
    "\n",
    "X_train_rfe4c = sm.add_constant(X_train_rfe4)\n",
    "lm_rfe4 = sm.OLS(y_train, X_train_rfe4c).fit()\n",
    "\n",
    "#Summary of linear model\n",
    "print(lm_rfe4.summary())"
   ]
  },
  {
   "cell_type": "code",
   "execution_count": 89,
   "metadata": {},
   "outputs": [
    {
     "data": {
      "text/html": [
       "<div>\n",
       "<style scoped>\n",
       "    .dataframe tbody tr th:only-of-type {\n",
       "        vertical-align: middle;\n",
       "    }\n",
       "\n",
       "    .dataframe tbody tr th {\n",
       "        vertical-align: top;\n",
       "    }\n",
       "\n",
       "    .dataframe thead th {\n",
       "        text-align: right;\n",
       "    }\n",
       "</style>\n",
       "<table border=\"1\" class=\"dataframe\">\n",
       "  <thead>\n",
       "    <tr style=\"text-align: right;\">\n",
       "      <th></th>\n",
       "      <th>Features</th>\n",
       "      <th>VIF</th>\n",
       "    </tr>\n",
       "  </thead>\n",
       "  <tbody>\n",
       "    <tr>\n",
       "      <th>10</th>\n",
       "      <td>Body_van</td>\n",
       "      <td>2.99</td>\n",
       "    </tr>\n",
       "    <tr>\n",
       "      <th>12</th>\n",
       "      <td>Engine Type_Petrol</td>\n",
       "      <td>2.50</td>\n",
       "    </tr>\n",
       "    <tr>\n",
       "      <th>0</th>\n",
       "      <td>Mileage</td>\n",
       "      <td>2.44</td>\n",
       "    </tr>\n",
       "    <tr>\n",
       "      <th>2</th>\n",
       "      <td>Year</td>\n",
       "      <td>2.44</td>\n",
       "    </tr>\n",
       "    <tr>\n",
       "      <th>7</th>\n",
       "      <td>Body_hatch</td>\n",
       "      <td>2.24</td>\n",
       "    </tr>\n",
       "    <tr>\n",
       "      <th>3</th>\n",
       "      <td>Brand_Mitsubishi</td>\n",
       "      <td>1.99</td>\n",
       "    </tr>\n",
       "    <tr>\n",
       "      <th>1</th>\n",
       "      <td>EngineV</td>\n",
       "      <td>1.95</td>\n",
       "    </tr>\n",
       "    <tr>\n",
       "      <th>5</th>\n",
       "      <td>Brand_Toyota</td>\n",
       "      <td>1.90</td>\n",
       "    </tr>\n",
       "    <tr>\n",
       "      <th>13</th>\n",
       "      <td>Registration_yes</td>\n",
       "      <td>1.72</td>\n",
       "    </tr>\n",
       "    <tr>\n",
       "      <th>6</th>\n",
       "      <td>Brand_Volkswagen</td>\n",
       "      <td>1.67</td>\n",
       "    </tr>\n",
       "    <tr>\n",
       "      <th>8</th>\n",
       "      <td>Body_other</td>\n",
       "      <td>1.58</td>\n",
       "    </tr>\n",
       "    <tr>\n",
       "      <th>9</th>\n",
       "      <td>Body_vagon</td>\n",
       "      <td>1.53</td>\n",
       "    </tr>\n",
       "    <tr>\n",
       "      <th>4</th>\n",
       "      <td>Brand_Renault</td>\n",
       "      <td>1.48</td>\n",
       "    </tr>\n",
       "    <tr>\n",
       "      <th>11</th>\n",
       "      <td>Engine Type_Gas</td>\n",
       "      <td>1.46</td>\n",
       "    </tr>\n",
       "    <tr>\n",
       "      <th>14</th>\n",
       "      <td>Cars_Category_High_End</td>\n",
       "      <td>1.09</td>\n",
       "    </tr>\n",
       "  </tbody>\n",
       "</table>\n",
       "</div>"
      ],
      "text/plain": [
       "                  Features  VIF\n",
       "10                Body_van 2.99\n",
       "12      Engine Type_Petrol 2.50\n",
       "0                  Mileage 2.44\n",
       "2                     Year 2.44\n",
       "7               Body_hatch 2.24\n",
       "3         Brand_Mitsubishi 1.99\n",
       "1                  EngineV 1.95\n",
       "5             Brand_Toyota 1.90\n",
       "13        Registration_yes 1.72\n",
       "6         Brand_Volkswagen 1.67\n",
       "8               Body_other 1.58\n",
       "9               Body_vagon 1.53\n",
       "4            Brand_Renault 1.48\n",
       "11         Engine Type_Gas 1.46\n",
       "14  Cars_Category_High_End 1.09"
      ]
     },
     "execution_count": 89,
     "metadata": {},
     "output_type": "execute_result"
    }
   ],
   "source": [
    "# Create a dataframe that will contain the names of all the feature variables and their respective VIFs\n",
    "vif = pd.DataFrame()\n",
    "vif['Features'] = X_train_rfe4.columns\n",
    "vif['VIF'] = [variance_inflation_factor(X_train_rfe.values, i) for i in range(X_train_rfe4.shape[1])]\n",
    "vif['VIF'] = round(vif['VIF'], 2)\n",
    "vif = vif.sort_values(by = \"VIF\", ascending = False)\n",
    "vif\n"
   ]
  },
  {
   "cell_type": "code",
   "execution_count": 90,
   "metadata": {},
   "outputs": [
    {
     "name": "stdout",
     "output_type": "stream",
     "text": [
      "                            OLS Regression Results                            \n",
      "==============================================================================\n",
      "Dep. Variable:              log_price   R-squared:                       0.874\n",
      "Model:                            OLS   Adj. R-squared:                  0.874\n",
      "Method:                 Least Squares   F-statistic:                     1352.\n",
      "Date:                Sat, 07 May 2022   Prob (F-statistic):               0.00\n",
      "Time:                        22:42:31   Log-Likelihood:                -1043.6\n",
      "No. Observations:                2734   AIC:                             2117.\n",
      "Df Residuals:                    2719   BIC:                             2206.\n",
      "Df Model:                          14                                         \n",
      "Covariance Type:            nonrobust                                         \n",
      "==========================================================================================\n",
      "                             coef    std err          t      P>|t|      [0.025      0.975]\n",
      "------------------------------------------------------------------------------------------\n",
      "const                     -0.5232      0.026    -20.393      0.000      -0.573      -0.473\n",
      "Mileage                   -0.1488      0.010    -14.205      0.000      -0.169      -0.128\n",
      "EngineV                    0.2931      0.008     35.597      0.000       0.277       0.309\n",
      "Year                       0.5768      0.011     54.853      0.000       0.556       0.597\n",
      "Brand_Mitsubishi          -0.4921      0.028    -17.377      0.000      -0.548      -0.437\n",
      "Brand_Renault             -0.7278      0.026    -28.163      0.000      -0.778      -0.677\n",
      "Brand_Toyota              -0.2258      0.023     -9.853      0.000      -0.271      -0.181\n",
      "Brand_Volkswagen          -0.2895      0.019    -14.856      0.000      -0.328      -0.251\n",
      "Body_hatch                -0.1520      0.029     -5.174      0.000      -0.210      -0.094\n",
      "Body_vagon                -0.1141      0.026     -4.437      0.000      -0.165      -0.064\n",
      "Body_van                  -0.2087      0.022     -9.294      0.000      -0.253      -0.165\n",
      "Engine Type_Gas           -0.1404      0.023     -6.023      0.000      -0.186      -0.095\n",
      "Engine Type_Petrol        -0.1751      0.017    -10.138      0.000      -0.209      -0.141\n",
      "Registration_yes           0.9540      0.026     36.464      0.000       0.903       1.005\n",
      "Cars_Category_High_End     0.6397      0.068      9.420      0.000       0.507       0.773\n",
      "==============================================================================\n",
      "Omnibus:                      192.986   Durbin-Watson:                   1.961\n",
      "Prob(Omnibus):                  0.000   Jarque-Bera (JB):              780.641\n",
      "Skew:                          -0.226   Prob(JB):                    3.06e-170\n",
      "Kurtosis:                       5.579   Cond. No.                         14.8\n",
      "==============================================================================\n",
      "\n",
      "Warnings:\n",
      "[1] Standard Errors assume that the covariance matrix of the errors is correctly specified.\n"
     ]
    }
   ],
   "source": [
    "# Dropping highly correlated variables and insignificant variables\n",
    "\n",
    "X_train_rfe5 = X_train_rfe4.drop('Body_other', 1,)\n",
    "\n",
    "# Adding a constant variable and Build a second fitted model\n",
    "\n",
    "X_train_rfe5c = sm.add_constant(X_train_rfe5)\n",
    "lm_rfe5 = sm.OLS(y_train, X_train_rfe5c).fit()\n",
    "\n",
    "#Summary of linear model\n",
    "print(lm_rfe5.summary())"
   ]
  },
  {
   "cell_type": "code",
   "execution_count": 91,
   "metadata": {},
   "outputs": [
    {
     "data": {
      "text/html": [
       "<div>\n",
       "<style scoped>\n",
       "    .dataframe tbody tr th:only-of-type {\n",
       "        vertical-align: middle;\n",
       "    }\n",
       "\n",
       "    .dataframe tbody tr th {\n",
       "        vertical-align: top;\n",
       "    }\n",
       "\n",
       "    .dataframe thead th {\n",
       "        text-align: right;\n",
       "    }\n",
       "</style>\n",
       "<table border=\"1\" class=\"dataframe\">\n",
       "  <thead>\n",
       "    <tr style=\"text-align: right;\">\n",
       "      <th></th>\n",
       "      <th>Features</th>\n",
       "      <th>VIF</th>\n",
       "    </tr>\n",
       "  </thead>\n",
       "  <tbody>\n",
       "    <tr>\n",
       "      <th>10</th>\n",
       "      <td>Engine Type_Gas</td>\n",
       "      <td>2.99</td>\n",
       "    </tr>\n",
       "    <tr>\n",
       "      <th>12</th>\n",
       "      <td>Registration_yes</td>\n",
       "      <td>2.50</td>\n",
       "    </tr>\n",
       "    <tr>\n",
       "      <th>0</th>\n",
       "      <td>Mileage</td>\n",
       "      <td>2.44</td>\n",
       "    </tr>\n",
       "    <tr>\n",
       "      <th>2</th>\n",
       "      <td>Year</td>\n",
       "      <td>2.44</td>\n",
       "    </tr>\n",
       "    <tr>\n",
       "      <th>7</th>\n",
       "      <td>Body_hatch</td>\n",
       "      <td>2.24</td>\n",
       "    </tr>\n",
       "    <tr>\n",
       "      <th>3</th>\n",
       "      <td>Brand_Mitsubishi</td>\n",
       "      <td>1.99</td>\n",
       "    </tr>\n",
       "    <tr>\n",
       "      <th>1</th>\n",
       "      <td>EngineV</td>\n",
       "      <td>1.95</td>\n",
       "    </tr>\n",
       "    <tr>\n",
       "      <th>5</th>\n",
       "      <td>Brand_Toyota</td>\n",
       "      <td>1.90</td>\n",
       "    </tr>\n",
       "    <tr>\n",
       "      <th>13</th>\n",
       "      <td>Cars_Category_High_End</td>\n",
       "      <td>1.72</td>\n",
       "    </tr>\n",
       "    <tr>\n",
       "      <th>6</th>\n",
       "      <td>Brand_Volkswagen</td>\n",
       "      <td>1.67</td>\n",
       "    </tr>\n",
       "    <tr>\n",
       "      <th>8</th>\n",
       "      <td>Body_vagon</td>\n",
       "      <td>1.58</td>\n",
       "    </tr>\n",
       "    <tr>\n",
       "      <th>9</th>\n",
       "      <td>Body_van</td>\n",
       "      <td>1.53</td>\n",
       "    </tr>\n",
       "    <tr>\n",
       "      <th>4</th>\n",
       "      <td>Brand_Renault</td>\n",
       "      <td>1.48</td>\n",
       "    </tr>\n",
       "    <tr>\n",
       "      <th>11</th>\n",
       "      <td>Engine Type_Petrol</td>\n",
       "      <td>1.46</td>\n",
       "    </tr>\n",
       "  </tbody>\n",
       "</table>\n",
       "</div>"
      ],
      "text/plain": [
       "                  Features  VIF\n",
       "10         Engine Type_Gas 2.99\n",
       "12        Registration_yes 2.50\n",
       "0                  Mileage 2.44\n",
       "2                     Year 2.44\n",
       "7               Body_hatch 2.24\n",
       "3         Brand_Mitsubishi 1.99\n",
       "1                  EngineV 1.95\n",
       "5             Brand_Toyota 1.90\n",
       "13  Cars_Category_High_End 1.72\n",
       "6         Brand_Volkswagen 1.67\n",
       "8               Body_vagon 1.58\n",
       "9                 Body_van 1.53\n",
       "4            Brand_Renault 1.48\n",
       "11      Engine Type_Petrol 1.46"
      ]
     },
     "execution_count": 91,
     "metadata": {},
     "output_type": "execute_result"
    }
   ],
   "source": [
    "# Create a dataframe that will contain the names of all the feature variables and their respective VIFs\n",
    "vif = pd.DataFrame()\n",
    "vif['Features'] = X_train_rfe5.columns\n",
    "vif['VIF'] = [variance_inflation_factor(X_train_rfe.values, i) for i in range(X_train_rfe5.shape[1])]\n",
    "vif['VIF'] = round(vif['VIF'], 2)\n",
    "vif = vif.sort_values(by = \"VIF\", ascending = False)\n",
    "vif\n"
   ]
  },
  {
   "cell_type": "markdown",
   "metadata": {},
   "source": [
    "### Residual Analysis of the train data"
   ]
  },
  {
   "cell_type": "code",
   "execution_count": 92,
   "metadata": {},
   "outputs": [],
   "source": [
    "# Predicting the price of training set.\n",
    "y_train_price = lm_rfe5.predict(X_train_rfe5c)"
   ]
  },
  {
   "cell_type": "code",
   "execution_count": 93,
   "metadata": {
    "scrolled": true
   },
   "outputs": [
    {
     "data": {
      "text/plain": [
       "Text(0.5, 0, 'Errors')"
      ]
     },
     "execution_count": 93,
     "metadata": {},
     "output_type": "execute_result"
    },
    {
     "data": {
      "image/png": "[encoded data removed]",
      "text/plain": [
       "<Figure size 576x576 with 1 Axes>"
      ]
     },
     "metadata": {},
     "output_type": "display_data"
    }
   ],
   "source": [
    "# Plot the histogram of the error terms\n",
    "fig = plt.figure()\n",
    "sns.distplot((y_train - y_train_price), bins = 20)\n",
    "fig.suptitle('Error Terms Analysis', fontsize = 20)                   \n",
    "plt.xlabel('Errors', fontsize = 18)"
   ]
  },
  {
   "cell_type": "code",
   "execution_count": 94,
   "metadata": {},
   "outputs": [
    {
     "data": {
      "text/plain": [
       "(1173, 21)"
      ]
     },
     "execution_count": 94,
     "metadata": {},
     "output_type": "execute_result"
    }
   ],
   "source": [
    "import warnings\n",
    "warnings.filterwarnings(\"ignore\")\n",
    "\n",
    "df_test[sig_num_col] = scaler.transform(df_test[sig_num_col])\n",
    "df_test.shape\n"
   ]
  },
  {
   "cell_type": "code",
   "execution_count": 95,
   "metadata": {},
   "outputs": [],
   "source": [
    "y_test = df_test.pop('log_price')\n",
    "X_test = df_test"
   ]
  },
  {
   "cell_type": "code",
   "execution_count": 96,
   "metadata": {},
   "outputs": [],
   "source": [
    "# Adding constant\n",
    "X_test_1 = sm.add_constant(X_test)\n",
    "\n",
    "X_test_new = X_test_1[X_train_rfe5c.columns]"
   ]
  },
  {
   "cell_type": "code",
   "execution_count": 97,
   "metadata": {},
   "outputs": [],
   "source": [
    "y_pred = lm_rfe5.predict(X_test_new)"
   ]
  },
  {
   "cell_type": "markdown",
   "metadata": {},
   "source": [
    "### Step 11: Model Evaluation\n",
    "\n",
    "Let's now plot the graph for actual versus predicted values.\n"
   ]
  },
  {
   "cell_type": "code",
   "execution_count": 104,
   "metadata": {},
   "outputs": [
    {
     "data": {
      "text/plain": [
       "Text(0, 0.5, 'y_pred')"
      ]
     },
     "execution_count": 104,
     "metadata": {},
     "output_type": "execute_result"
    },
    {
     "data": {
      "image/png": "[encoded data removed]",
      "text/plain": [
       "<Figure size 576x576 with 1 Axes>"
      ]
     },
     "metadata": {},
     "output_type": "display_data"
    }
   ],
   "source": [
    "# Plotting y_test and y_pred to understand the spread.\n",
    "fig = plt.figure()\n",
    "plt.scatter(y_test,y_pred)\n",
    "fig.suptitle('y_test vs y_pred', fontsize=20)   \n",
    "plt.xlabel('y_test ', fontsize=18)                       \n",
    "plt.ylabel('y_pred', fontsize=16)    "
   ]
  },
  {
   "cell_type": "code",
   "execution_count": 105,
   "metadata": {},
   "outputs": [
    {
     "data": {
      "text/plain": [
       "0.8839753105230125"
      ]
     },
     "execution_count": 105,
     "metadata": {},
     "output_type": "execute_result"
    }
   ],
   "source": [
    "r2_score(y_test, y_pred)"
   ]
  },
  {
   "cell_type": "code",
   "execution_count": 106,
   "metadata": {},
   "outputs": [],
   "source": [
    "df_auto.to_csv('df_auto.csv', encoding='utf-8')"
   ]
  },
  {
   "cell_type": "markdown",
   "metadata": {},
   "source": [
    "### Step 12: Conclusion"
   ]
  },
  {
   "cell_type": "markdown",
   "metadata": {},
   "source": [
    "Our Model explains 88% of the Price Variability. Engine Volume, Registration & Newer models have the most positive impact on price. Among Brands, Renault looses value the fastest followed by Mitsubishi. Among Body Types, Body_Vagon retains the value better. Petrol engine has negative impact on the price\n"
   ]
  },
  {
   "cell_type": "code",
   "execution_count": null,
   "metadata": {},
   "outputs": [],
   "source": []
  }
 ],
 "metadata": {
  "kernelspec": {
   "display_name": "Python 3",
   "language": "python",
   "name": "python3"
  },
  "language_info": {
   "codemirror_mode": {
    "name": "ipython",
    "version": 3
   },
   "file_extension": ".py",
   "mimetype": "text/x-python",
   "name": "python",
   "nbconvert_exporter": "python",
   "pygments_lexer": "ipython3",
   "version": "3.7.6"
  }
 },
 "nbformat": 4,
 "nbformat_minor": 4
}
